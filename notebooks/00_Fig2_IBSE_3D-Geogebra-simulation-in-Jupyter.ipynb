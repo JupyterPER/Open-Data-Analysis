{
 "cells": [
  {
   "cell_type": "markdown",
   "metadata": {
    "ExecuteTime": {
     "end_time": "2020-07-22T19:19:01.926490Z",
     "start_time": "2020-07-22T19:19:01.907621Z"
    }
   },
   "source": [
    "**Authors:** Jozef Hanč, Martina Hančová<br> \n",
    "[Faculty of Science](https://www.upjs.sk/en/faculty-of-science/?prefferedLang=EN) *P. J. Šafárik University in Košice, Slovakia* <br> \n",
    "email: [jozef.hanc@upjs.sk](mailto:jozef.hanc@upjs.sk)\n",
    "\n",
    "***\n",
    "**<font size=6 color=brown> Introduction</font>** \n",
    "\n",
    "**<font size=4> IBSE virtual experiment $-$ 3D Geogebra simulation</font>**  "
   ]
  },
  {
   "cell_type": "markdown",
   "metadata": {},
   "source": [
    "<font size=4> Computational tool: </font> **<font size=4> SageMath </font>**"
   ]
  },
  {
   "cell_type": "markdown",
   "metadata": {},
   "source": [
    "## Embedding via HTML command"
   ]
  },
  {
   "cell_type": "code",
   "execution_count": 1,
   "metadata": {
    "ExecuteTime": {
     "end_time": "2020-07-22T19:19:50.658135Z",
     "start_time": "2020-07-22T19:19:50.603373Z"
    }
   },
   "outputs": [
    {
     "data": {
      "text/html": [
       "<iframe scrolling=\"no\" title=\"Girep\" src=\"https://www.geogebra.org/material/iframe/id/pBzEEuvK/width/960/height/496/border/888888/smb/false/stb/false/stbh/false/ai/false/asb/false/sri/true/rc/true/ld/false/sdz/true/ctl/false\" width=\"960px\" height=\"496px\" style=\"border:0px;\"> </iframe>"
      ],
      "text/plain": [
       "<IPython.core.display.HTML object>"
      ]
     },
     "execution_count": 1,
     "metadata": {},
     "output_type": "execute_result"
    }
   ],
   "source": [
    "from IPython.display import HTML\n",
    "# embed code - a copy from Geogebra sharing feature\n",
    "HTML('<iframe scrolling=\"no\" title=\"Girep\" src=\"https://www.geogebra.org/material/iframe/id/pBzEEuvK/width/960/height/496/border/888888/smb/false/stb/false/stbh/false/ai/false/asb/false/sri/true/rc/true/ld/false/sdz/true/ctl/false\" width=\"960px\" height=\"496px\" style=\"border:0px;\"> </iframe>')"
   ]
  },
  {
   "cell_type": "code",
   "execution_count": 2,
   "metadata": {
    "ExecuteTime": {
     "end_time": "2020-07-22T19:19:53.136004Z",
     "start_time": "2020-07-22T19:19:50.664509Z"
    }
   },
   "outputs": [
    {
     "data": {
      "text/plain": [
       "((-0.447213595499958, 0.894427190999916), 1.64520687596796, -0.987124125580776)"
      ]
     },
     "execution_count": 2,
     "metadata": {},
     "output_type": "execute_result"
    }
   ],
   "source": [
    "# Analytic way:a calculation of the directional derivative in the direction u (or OPxy) via rules\n",
    "f(x,y) = 5*exp(-(x^2+y^2)/5); gradf = f.gradient()\n",
    "O = vector([3,-2]); Pxy = vector([1,2])\n",
    "u = (Pxy-O)/norm(Pxy-O); gradP = gradf(*Pxy); dfdu = gradP*u\n",
    "u.n(), norm(gradP).n(), dfdu.n()   #numerical values of u, norm of grad f, dfdu "
   ]
  },
  {
   "cell_type": "markdown",
   "metadata": {},
   "source": [
    "## Embedding via IFrame command"
   ]
  },
  {
   "cell_type": "code",
   "execution_count": 3,
   "metadata": {
    "ExecuteTime": {
     "end_time": "2020-07-22T19:19:53.154385Z",
     "start_time": "2020-07-22T19:19:53.143157Z"
    }
   },
   "outputs": [
    {
     "data": {
      "text/html": [
       "\n",
       "        <iframe\n",
       "            width=\"960\"\n",
       "            height=\"496\"\n",
       "            src=\"https://www.geogebra.org/material/iframe/id/pBzEEuvK\"\n",
       "            frameborder=\"0\"\n",
       "            allowfullscreen\n",
       "        ></iframe>\n",
       "        "
      ],
      "text/plain": [
       "<IPython.lib.display.IFrame object at 0x6fb5ef263c8>"
      ]
     },
     "execution_count": 3,
     "metadata": {},
     "output_type": "execute_result"
    }
   ],
   "source": [
    "from IPython.display import IFrame\n",
    "# embed code - a copy from Geogebra sharing feature\n",
    "url = \"https://www.geogebra.org/material/iframe/id/pBzEEuvK\"\n",
    "IFrame(url, 960, 496)"
   ]
  }
 ],
 "metadata": {
  "hide_input": false,
  "kernelspec": {
   "display_name": "SageMath 9.0",
   "language": "sage",
   "name": "sagemath"
  },
  "language_info": {
   "codemirror_mode": {
    "name": "ipython",
    "version": 3
   },
   "file_extension": ".py",
   "mimetype": "text/x-python",
   "name": "python",
   "nbconvert_exporter": "python",
   "pygments_lexer": "ipython3",
   "version": "3.7.3"
  },
  "toc": {
   "base_numbering": 1,
   "nav_menu": {},
   "number_sections": true,
   "sideBar": true,
   "skip_h1_title": false,
   "title_cell": "Table of Contents",
   "title_sidebar": "Contents",
   "toc_cell": false,
   "toc_position": {},
   "toc_section_display": true,
   "toc_window_display": false
  },
  "varInspector": {
   "cols": {
    "lenName": 16,
    "lenType": 16,
    "lenVar": 40
   },
   "kernels_config": {
    "python": {
     "delete_cmd_postfix": "",
     "delete_cmd_prefix": "del ",
     "library": "var_list.py",
     "varRefreshCmd": "print(var_dic_list())"
    },
    "r": {
     "delete_cmd_postfix": ") ",
     "delete_cmd_prefix": "rm(",
     "library": "var_list.r",
     "varRefreshCmd": "cat(var_dic_list()) "
    }
   },
   "types_to_exclude": [
    "module",
    "function",
    "builtin_function_or_method",
    "instance",
    "_Feature"
   ],
   "window_display": false
  }
 },
 "nbformat": 4,
 "nbformat_minor": 1
}
