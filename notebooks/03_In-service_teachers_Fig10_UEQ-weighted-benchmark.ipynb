{
 "cells": [
  {
   "cell_type": "markdown",
   "metadata": {},
   "source": [
    "**Authors:** Peter Štrauch, Jozef Hanč, Martina Hančová <br> \n",
    "**R consultant:** Andrej Gajdoš <br> \n",
    "[Faculty of Science](https://www.upjs.sk/en/faculty-of-science/?prefferedLang=EN) *P. J. Šafárik University in Košice, Slovakia* <br> \n",
    "email: [jozef.hanc@upjs.sk](mailto:jozef.hanc@upjs.sk)\n",
    "\n",
    "***\n",
    "**<font size=6 color=brown> Research study III: In-service teachers</font>** \n",
    "\n",
    "**<font size=4> R Shiny $-$  UEQ (User Experience Questionary) evaluation and benchmark plot</font>**  \n"
   ]
  },
  {
   "cell_type": "markdown",
   "metadata": {},
   "source": [
    "<font size=4> Computational tool: </font> **<font size=4> R, CRAN libraries, own R functions </font>**"
   ]
  },
  {
   "cell_type": "markdown",
   "metadata": {
    "ExecuteTime": {
     "end_time": "2020-07-14T13:33:35.843834Z",
     "start_time": "2020-07-14T13:33:35.815Z"
    }
   },
   "source": [
    "# Data and tools"
   ]
  },
  {
   "cell_type": "markdown",
   "metadata": {},
   "source": [
    "## R libraries and functions"
   ]
  },
  {
   "cell_type": "code",
   "execution_count": 1,
   "metadata": {
    "ExecuteTime": {
     "end_time": "2020-07-23T20:12:50.669333Z",
     "start_time": "2020-07-23T20:12:46.632Z"
    }
   },
   "outputs": [
    {
     "name": "stderr",
     "output_type": "stream",
     "text": [
      "Loading required package: multilevel\n",
      "Loading required package: nlme\n",
      "Loading required package: MASS\n",
      "Loading required package: scales\n",
      "\n",
      "Attaching package: ‘scales’\n",
      "\n",
      "The following object is masked from ‘package:psychometric’:\n",
      "\n",
      "    alpha\n",
      "\n",
      "Loading required package: lattice\n",
      "Loading required package: survival\n",
      "Loading required package: Formula\n",
      "Loading required package: ggplot2\n",
      "\n",
      "Attaching package: ‘ggplot2’\n",
      "\n",
      "The following object is masked from ‘package:psychometric’:\n",
      "\n",
      "    alpha\n",
      "\n",
      "\n",
      "Attaching package: ‘Hmisc’\n",
      "\n",
      "The following objects are masked from ‘package:base’:\n",
      "\n",
      "    format.pval, units\n",
      "\n"
     ]
    }
   ],
   "source": [
    "# use the following commands to install libraries, if it is needed\n",
    "# packages = c('readxl', psychometric', 'repr', 'scale', 'Hmisc')\n",
    "# install.packages(packages)\n",
    "\n",
    "## load CRAN libraries\n",
    "library(readxl)       # read excel\n",
    "library(psychometric) # measures - cronbach alpha\n",
    "library(repr)         # set up figures\n",
    "require(scales)       # transparent color\n",
    "library(Hmisc)        # weighted sd, var\n",
    "# own UEQ functions\n",
    "source('UEQ_functions.R')"
   ]
  },
  {
   "cell_type": "markdown",
   "metadata": {},
   "source": [
    "## UEQ characteristics"
   ]
  },
  {
   "cell_type": "code",
   "execution_count": 2,
   "metadata": {
    "ExecuteTime": {
     "end_time": "2020-07-23T20:12:51.221277Z",
     "start_time": "2020-07-23T20:12:46.649Z"
    }
   },
   "outputs": [
    {
     "name": "stdout",
     "output_type": "stream",
     "text": [
      " [1] \"annoying/enjoyable\"                           \n",
      " [2] \"not understandable/understandable\"            \n",
      " [3] \"creative/dull\"                                \n",
      " [4] \"easy to learn/difficult to learn\"             \n",
      " [5] \"valuable/inferior\"                            \n",
      " [6] \"boring/exciting\"                              \n",
      " [7] \"not interesting/interesting\"                  \n",
      " [8] \"unpredictable/predictable\"                    \n",
      " [9] \"fast/slow\"                                    \n",
      "[10] \"inventive/conventional\"                       \n",
      "[11] \"obstructive/supportive\"                       \n",
      "[12] \"good/bad\"                                     \n",
      "[13] \"complicated/easy\"                             \n",
      "[14] \"unlikable/pleasing\"                           \n",
      "[15] \"usual/leading edge\"                           \n",
      "[16] \"unpleasant/pleasant\"                          \n",
      "[17] \"secure/not secure\"                            \n",
      "[18] \"motivating/demotivating\"                      \n",
      "[19] \"meets expectations/does not meet expectations\"\n",
      "[20] \"inefficient/efficient\"                        \n",
      "[21] \"clear/confusing\"                              \n",
      "[22] \"impractical/practical\"                        \n",
      "[23] \"organized/cluttered\"                          \n",
      "[24] \"attractive/unattractive\"                      \n",
      "[25] \"friendly/unfriendly\"                          \n",
      "[26] \"conservative/innovative\"                      \n"
     ]
    }
   ],
   "source": [
    "## UEQ items\n",
    "print(item_names())"
   ]
  },
  {
   "cell_type": "code",
   "execution_count": 3,
   "metadata": {
    "ExecuteTime": {
     "end_time": "2020-07-23T20:12:51.267809Z",
     "start_time": "2020-07-23T20:12:46.659Z"
    }
   },
   "outputs": [
    {
     "data": {
      "text/html": [
       "<dl>\n",
       "\t<dt>$Attractiveness</dt>\n",
       "\t\t<dd><ol class=list-inline>\n",
       "\t<li>1</li>\n",
       "\t<li>12</li>\n",
       "\t<li>14</li>\n",
       "\t<li>16</li>\n",
       "\t<li>24</li>\n",
       "\t<li>25</li>\n",
       "</ol>\n",
       "</dd>\n",
       "\t<dt>$Perspicuity</dt>\n",
       "\t\t<dd><ol class=list-inline>\n",
       "\t<li>2</li>\n",
       "\t<li>4</li>\n",
       "\t<li>13</li>\n",
       "\t<li>21</li>\n",
       "</ol>\n",
       "</dd>\n",
       "\t<dt>$Efficiency</dt>\n",
       "\t\t<dd><ol class=list-inline>\n",
       "\t<li>9</li>\n",
       "\t<li>20</li>\n",
       "\t<li>22</li>\n",
       "\t<li>23</li>\n",
       "</ol>\n",
       "</dd>\n",
       "\t<dt>$Dependability</dt>\n",
       "\t\t<dd><ol class=list-inline>\n",
       "\t<li>8</li>\n",
       "\t<li>11</li>\n",
       "\t<li>17</li>\n",
       "\t<li>19</li>\n",
       "</ol>\n",
       "</dd>\n",
       "\t<dt>$Stimulation</dt>\n",
       "\t\t<dd><ol class=list-inline>\n",
       "\t<li>5</li>\n",
       "\t<li>6</li>\n",
       "\t<li>7</li>\n",
       "\t<li>18</li>\n",
       "</ol>\n",
       "</dd>\n",
       "\t<dt>$Novelty</dt>\n",
       "\t\t<dd><ol class=list-inline>\n",
       "\t<li>3</li>\n",
       "\t<li>10</li>\n",
       "\t<li>15</li>\n",
       "\t<li>26</li>\n",
       "</ol>\n",
       "</dd>\n",
       "</dl>\n"
      ],
      "text/latex": [
       "\\begin{description}\n",
       "\\item[\\$Attractiveness] \\begin{enumerate*}\n",
       "\\item 1\n",
       "\\item 12\n",
       "\\item 14\n",
       "\\item 16\n",
       "\\item 24\n",
       "\\item 25\n",
       "\\end{enumerate*}\n",
       "\n",
       "\\item[\\$Perspicuity] \\begin{enumerate*}\n",
       "\\item 2\n",
       "\\item 4\n",
       "\\item 13\n",
       "\\item 21\n",
       "\\end{enumerate*}\n",
       "\n",
       "\\item[\\$Efficiency] \\begin{enumerate*}\n",
       "\\item 9\n",
       "\\item 20\n",
       "\\item 22\n",
       "\\item 23\n",
       "\\end{enumerate*}\n",
       "\n",
       "\\item[\\$Dependability] \\begin{enumerate*}\n",
       "\\item 8\n",
       "\\item 11\n",
       "\\item 17\n",
       "\\item 19\n",
       "\\end{enumerate*}\n",
       "\n",
       "\\item[\\$Stimulation] \\begin{enumerate*}\n",
       "\\item 5\n",
       "\\item 6\n",
       "\\item 7\n",
       "\\item 18\n",
       "\\end{enumerate*}\n",
       "\n",
       "\\item[\\$Novelty] \\begin{enumerate*}\n",
       "\\item 3\n",
       "\\item 10\n",
       "\\item 15\n",
       "\\item 26\n",
       "\\end{enumerate*}\n",
       "\n",
       "\\end{description}\n"
      ],
      "text/markdown": [
       "$Attractiveness\n",
       ":   1. 1\n",
       "2. 12\n",
       "3. 14\n",
       "4. 16\n",
       "5. 24\n",
       "6. 25\n",
       "\n",
       "\n",
       "\n",
       "$Perspicuity\n",
       ":   1. 2\n",
       "2. 4\n",
       "3. 13\n",
       "4. 21\n",
       "\n",
       "\n",
       "\n",
       "$Efficiency\n",
       ":   1. 9\n",
       "2. 20\n",
       "3. 22\n",
       "4. 23\n",
       "\n",
       "\n",
       "\n",
       "$Dependability\n",
       ":   1. 8\n",
       "2. 11\n",
       "3. 17\n",
       "4. 19\n",
       "\n",
       "\n",
       "\n",
       "$Stimulation\n",
       ":   1. 5\n",
       "2. 6\n",
       "3. 7\n",
       "4. 18\n",
       "\n",
       "\n",
       "\n",
       "$Novelty\n",
       ":   1. 3\n",
       "2. 10\n",
       "3. 15\n",
       "4. 26\n",
       "\n",
       "\n",
       "\n",
       "\n",
       "\n"
      ],
      "text/plain": [
       "$Attractiveness\n",
       "[1]  1 12 14 16 24 25\n",
       "\n",
       "$Perspicuity\n",
       "[1]  2  4 13 21\n",
       "\n",
       "$Efficiency\n",
       "[1]  9 20 22 23\n",
       "\n",
       "$Dependability\n",
       "[1]  8 11 17 19\n",
       "\n",
       "$Stimulation\n",
       "[1]  5  6  7 18\n",
       "\n",
       "$Novelty\n",
       "[1]  3 10 15 26\n"
      ]
     },
     "metadata": {},
     "output_type": "display_data"
    }
   ],
   "source": [
    "## dimensions with items\n",
    "dimensions()"
   ]
  },
  {
   "cell_type": "code",
   "execution_count": 4,
   "metadata": {
    "ExecuteTime": {
     "end_time": "2020-07-23T20:12:51.531947Z",
     "start_time": "2020-07-23T20:12:46.669Z"
    },
    "scrolled": true
   },
   "outputs": [
    {
     "data": {
      "text/html": [
       "<table>\n",
       "<caption>A data.frame: 6 × 6</caption>\n",
       "<thead>\n",
       "\t<tr><th></th><th scope=col>Attractiveness</th><th scope=col>Perspicuity</th><th scope=col>Efficiency</th><th scope=col>Dependability</th><th scope=col>Stimulation</th><th scope=col>Novelty</th></tr>\n",
       "\t<tr><th></th><th scope=col>&lt;dbl&gt;</th><th scope=col>&lt;dbl&gt;</th><th scope=col>&lt;dbl&gt;</th><th scope=col>&lt;dbl&gt;</th><th scope=col>&lt;dbl&gt;</th><th scope=col>&lt;dbl&gt;</th></tr>\n",
       "</thead>\n",
       "<tbody>\n",
       "\t<tr><th scope=row>lower border</th><td>-3.00</td><td>-3.00</td><td>-3.00</td><td>-3.00</td><td>-3.00</td><td>-3.00</td></tr>\n",
       "\t<tr><th scope=row>bad - below average</th><td> 0.70</td><td> 0.64</td><td> 0.54</td><td> 0.78</td><td> 0.50</td><td> 0.30</td></tr>\n",
       "\t<tr><th scope=row>below average - above average</th><td> 1.17</td><td> 1.08</td><td> 0.98</td><td> 1.14</td><td> 0.99</td><td> 0.71</td></tr>\n",
       "\t<tr><th scope=row>above average - good</th><td> 1.52</td><td> 1.56</td><td> 1.47</td><td> 1.48</td><td> 1.31</td><td> 1.05</td></tr>\n",
       "\t<tr><th scope=row>good - excellent</th><td> 1.75</td><td> 1.90</td><td> 1.78</td><td> 1.65</td><td> 1.55</td><td> 1.40</td></tr>\n",
       "\t<tr><th scope=row>upper border</th><td> 3.00</td><td> 3.00</td><td> 3.00</td><td> 3.00</td><td> 3.00</td><td> 3.00</td></tr>\n",
       "</tbody>\n",
       "</table>\n"
      ],
      "text/latex": [
       "A data.frame: 6 × 6\n",
       "\\begin{tabular}{r|llllll}\n",
       "  & Attractiveness & Perspicuity & Efficiency & Dependability & Stimulation & Novelty\\\\\n",
       "  & <dbl> & <dbl> & <dbl> & <dbl> & <dbl> & <dbl>\\\\\n",
       "\\hline\n",
       "\tlower border & -3.00 & -3.00 & -3.00 & -3.00 & -3.00 & -3.00\\\\\n",
       "\tbad - below average &  0.70 &  0.64 &  0.54 &  0.78 &  0.50 &  0.30\\\\\n",
       "\tbelow average - above average &  1.17 &  1.08 &  0.98 &  1.14 &  0.99 &  0.71\\\\\n",
       "\tabove average - good &  1.52 &  1.56 &  1.47 &  1.48 &  1.31 &  1.05\\\\\n",
       "\tgood - excellent &  1.75 &  1.90 &  1.78 &  1.65 &  1.55 &  1.40\\\\\n",
       "\tupper border &  3.00 &  3.00 &  3.00 &  3.00 &  3.00 &  3.00\\\\\n",
       "\\end{tabular}\n"
      ],
      "text/markdown": [
       "\n",
       "A data.frame: 6 × 6\n",
       "\n",
       "| <!--/--> | Attractiveness &lt;dbl&gt; | Perspicuity &lt;dbl&gt; | Efficiency &lt;dbl&gt; | Dependability &lt;dbl&gt; | Stimulation &lt;dbl&gt; | Novelty &lt;dbl&gt; |\n",
       "|---|---|---|---|---|---|---|\n",
       "| lower border | -3.00 | -3.00 | -3.00 | -3.00 | -3.00 | -3.00 |\n",
       "| bad - below average |  0.70 |  0.64 |  0.54 |  0.78 |  0.50 |  0.30 |\n",
       "| below average - above average |  1.17 |  1.08 |  0.98 |  1.14 |  0.99 |  0.71 |\n",
       "| above average - good |  1.52 |  1.56 |  1.47 |  1.48 |  1.31 |  1.05 |\n",
       "| good - excellent |  1.75 |  1.90 |  1.78 |  1.65 |  1.55 |  1.40 |\n",
       "| upper border |  3.00 |  3.00 |  3.00 |  3.00 |  3.00 |  3.00 |\n",
       "\n"
      ],
      "text/plain": [
       "                              Attractiveness Perspicuity Efficiency\n",
       "lower border                  -3.00          -3.00       -3.00     \n",
       "bad - below average            0.70           0.64        0.54     \n",
       "below average - above average  1.17           1.08        0.98     \n",
       "above average - good           1.52           1.56        1.47     \n",
       "good - excellent               1.75           1.90        1.78     \n",
       "upper border                   3.00           3.00        3.00     \n",
       "                              Dependability Stimulation Novelty\n",
       "lower border                  -3.00         -3.00       -3.00  \n",
       "bad - below average            0.78          0.50        0.30  \n",
       "below average - above average  1.14          0.99        0.71  \n",
       "above average - good           1.48          1.31        1.05  \n",
       "good - excellent               1.65          1.55        1.40  \n",
       "upper border                   3.00          3.00        3.00  "
      ]
     },
     "metadata": {},
     "output_type": "display_data"
    }
   ],
   "source": [
    "## borders for levels in each dimension\n",
    "benchmark_tab_borders()"
   ]
  },
  {
   "cell_type": "markdown",
   "metadata": {},
   "source": [
    "## Data preprocesing"
   ]
  },
  {
   "cell_type": "code",
   "execution_count": 5,
   "metadata": {
    "ExecuteTime": {
     "end_time": "2020-07-23T20:12:51.628082Z",
     "start_time": "2020-07-23T20:12:46.678Z"
    }
   },
   "outputs": [],
   "source": [
    "# load full results as dataframe\n",
    "data_shiny <- as.data.frame(read_excel('../data/03_In-service_teachers_UEQ-weighted.xlsx'))"
   ]
  },
  {
   "cell_type": "code",
   "execution_count": 6,
   "metadata": {
    "ExecuteTime": {
     "end_time": "2020-07-23T20:12:51.687499Z",
     "start_time": "2020-07-23T20:12:46.686Z"
    }
   },
   "outputs": [
    {
     "name": "stdout",
     "output_type": "stream",
     "text": [
      "'data.frame':\t33 obs. of  32 variables:\n",
      " $ Timestamp                                                                          : POSIXct, format: \"2018-06-28 09:56:46\" \"2018-07-03 12:33:35\" ...\n",
      " $ ID                                                                                 : chr  \"1Bmcf1\" \"4uTAae\" \"5C5jjh\" \"8T3pvG\" ...\n",
      " $ weight                                                                             : num  471 361 471 361 361 ...\n",
      " $ UEQ1                                                                               : num  7 4 6 4 7 5 4 5 5 6 ...\n",
      " $ UEQ2                                                                               : num  6 4 6 5 7 5 5 5 4 6 ...\n",
      "  [list output truncated]\n"
     ]
    }
   ],
   "source": [
    "# types of data - structure \n",
    "str(data_shiny, list.len = 5)"
   ]
  },
  {
   "cell_type": "code",
   "execution_count": 7,
   "metadata": {
    "ExecuteTime": {
     "end_time": "2020-07-23T20:12:51.732177Z",
     "start_time": "2020-07-23T20:12:46.695Z"
    },
    "scrolled": true
   },
   "outputs": [],
   "source": [
    "# select only UEQ data\n",
    "data       <- data_shiny[,4:29]     # 1st column is timestamp, 2nd column is ID of teacher, 3rd column are weights\n",
    "weights    <- data_shiny$weight"
   ]
  },
  {
   "cell_type": "code",
   "execution_count": 8,
   "metadata": {
    "ExecuteTime": {
     "end_time": "2020-07-23T20:12:51.833752Z",
     "start_time": "2020-07-23T20:12:46.706Z"
    },
    "scrolled": true
   },
   "outputs": [
    {
     "data": {
      "text/html": [
       "<ol class=list-inline>\n",
       "\t<li>471.083333333333</li>\n",
       "\t<li>361.222222222222</li>\n",
       "\t<li>471.083333333333</li>\n",
       "\t<li>361.222222222222</li>\n",
       "\t<li>361.222222222222</li>\n",
       "</ol>\n"
      ],
      "text/latex": [
       "\\begin{enumerate*}\n",
       "\\item 471.083333333333\n",
       "\\item 361.222222222222\n",
       "\\item 471.083333333333\n",
       "\\item 361.222222222222\n",
       "\\item 361.222222222222\n",
       "\\end{enumerate*}\n"
      ],
      "text/markdown": [
       "1. 471.083333333333\n",
       "2. 361.222222222222\n",
       "3. 471.083333333333\n",
       "4. 361.222222222222\n",
       "5. 361.222222222222\n",
       "\n",
       "\n"
      ],
      "text/plain": [
       "[1] 471.0833 361.2222 471.0833 361.2222 361.2222"
      ]
     },
     "metadata": {},
     "output_type": "display_data"
    },
    {
     "data": {
      "text/html": [
       "<table>\n",
       "<caption>A data.frame: 5 × 26</caption>\n",
       "<thead>\n",
       "\t<tr><th scope=col>UEQ1</th><th scope=col>UEQ2</th><th scope=col>UEQ3</th><th scope=col>UEQ4</th><th scope=col>UEQ5</th><th scope=col>UEQ6</th><th scope=col>UEQ7</th><th scope=col>UEQ8</th><th scope=col>UEQ9</th><th scope=col>UEQ10</th><th scope=col>⋯</th><th scope=col>UEQ17</th><th scope=col>UEQ18</th><th scope=col>UEQ19</th><th scope=col>UEQ20</th><th scope=col>UEQ21</th><th scope=col>UEQ22</th><th scope=col>UEQ23</th><th scope=col>UEQ24</th><th scope=col>UEQ25</th><th scope=col>UEQ26</th></tr>\n",
       "\t<tr><th scope=col>&lt;dbl&gt;</th><th scope=col>&lt;dbl&gt;</th><th scope=col>&lt;dbl&gt;</th><th scope=col>&lt;dbl&gt;</th><th scope=col>&lt;dbl&gt;</th><th scope=col>&lt;dbl&gt;</th><th scope=col>&lt;dbl&gt;</th><th scope=col>&lt;dbl&gt;</th><th scope=col>&lt;dbl&gt;</th><th scope=col>&lt;dbl&gt;</th><th scope=col>⋯</th><th scope=col>&lt;dbl&gt;</th><th scope=col>&lt;dbl&gt;</th><th scope=col>&lt;dbl&gt;</th><th scope=col>&lt;dbl&gt;</th><th scope=col>&lt;dbl&gt;</th><th scope=col>&lt;dbl&gt;</th><th scope=col>&lt;dbl&gt;</th><th scope=col>&lt;dbl&gt;</th><th scope=col>&lt;dbl&gt;</th><th scope=col>&lt;dbl&gt;</th></tr>\n",
       "</thead>\n",
       "<tbody>\n",
       "\t<tr><td>7</td><td>6</td><td>1</td><td>2</td><td>2</td><td>6</td><td>7</td><td>3</td><td>5</td><td>1</td><td>⋯</td><td>2</td><td>1</td><td>1</td><td>6</td><td>2</td><td>6</td><td>2</td><td>2</td><td>2</td><td>7</td></tr>\n",
       "\t<tr><td>4</td><td>4</td><td>6</td><td>4</td><td>1</td><td>3</td><td>2</td><td>4</td><td>1</td><td>4</td><td>⋯</td><td>4</td><td>6</td><td>4</td><td>4</td><td>4</td><td>3</td><td>6</td><td>6</td><td>6</td><td>5</td></tr>\n",
       "\t<tr><td>6</td><td>6</td><td>1</td><td>4</td><td>2</td><td>5</td><td>5</td><td>2</td><td>2</td><td>1</td><td>⋯</td><td>6</td><td>3</td><td>4</td><td>6</td><td>3</td><td>7</td><td>2</td><td>2</td><td>2</td><td>7</td></tr>\n",
       "\t<tr><td>4</td><td>5</td><td>4</td><td>5</td><td>5</td><td>3</td><td>4</td><td>3</td><td>5</td><td>2</td><td>⋯</td><td>3</td><td>3</td><td>3</td><td>5</td><td>3</td><td>5</td><td>2</td><td>3</td><td>4</td><td>4</td></tr>\n",
       "\t<tr><td>7</td><td>7</td><td>1</td><td>1</td><td>1</td><td>6</td><td>7</td><td>4</td><td>1</td><td>1</td><td>⋯</td><td>1</td><td>1</td><td>1</td><td>7</td><td>2</td><td>7</td><td>1</td><td>1</td><td>1</td><td>7</td></tr>\n",
       "</tbody>\n",
       "</table>\n"
      ],
      "text/latex": [
       "A data.frame: 5 × 26\n",
       "\\begin{tabular}{r|llllllllllllllllllllllllll}\n",
       " UEQ1 & UEQ2 & UEQ3 & UEQ4 & UEQ5 & UEQ6 & UEQ7 & UEQ8 & UEQ9 & UEQ10 & UEQ11 & UEQ12 & UEQ13 & UEQ14 & UEQ15 & UEQ16 & UEQ17 & UEQ18 & UEQ19 & UEQ20 & UEQ21 & UEQ22 & UEQ23 & UEQ24 & UEQ25 & UEQ26\\\\\n",
       " <dbl> & <dbl> & <dbl> & <dbl> & <dbl> & <dbl> & <dbl> & <dbl> & <dbl> & <dbl> & <dbl> & <dbl> & <dbl> & <dbl> & <dbl> & <dbl> & <dbl> & <dbl> & <dbl> & <dbl> & <dbl> & <dbl> & <dbl> & <dbl> & <dbl> & <dbl>\\\\\n",
       "\\hline\n",
       "\t 7 & 6 & 1 & 2 & 2 & 6 & 7 & 3 & 5 & 1 & 7 & 1 & 4 & 7 & 7 & 7 & 2 & 1 & 1 & 6 & 2 & 6 & 2 & 2 & 2 & 7\\\\\n",
       "\t 4 & 4 & 6 & 4 & 1 & 3 & 2 & 4 & 1 & 4 & 4 & 4 & 4 & 4 & 1 & 4 & 4 & 6 & 4 & 4 & 4 & 3 & 6 & 6 & 6 & 5\\\\\n",
       "\t 6 & 6 & 1 & 4 & 2 & 5 & 5 & 2 & 2 & 1 & 5 & 3 & 2 & 5 & 6 & 6 & 6 & 3 & 4 & 6 & 3 & 7 & 2 & 2 & 2 & 7\\\\\n",
       "\t 4 & 5 & 4 & 5 & 5 & 3 & 4 & 3 & 5 & 2 & 5 & 2 & 4 & 4 & 4 & 4 & 3 & 3 & 3 & 5 & 3 & 5 & 2 & 3 & 4 & 4\\\\\n",
       "\t 7 & 7 & 1 & 1 & 1 & 6 & 7 & 4 & 1 & 1 & 7 & 1 & 4 & 6 & 6 & 6 & 1 & 1 & 1 & 7 & 2 & 7 & 1 & 1 & 1 & 7\\\\\n",
       "\\end{tabular}\n"
      ],
      "text/markdown": [
       "\n",
       "A data.frame: 5 × 26\n",
       "\n",
       "| UEQ1 &lt;dbl&gt; | UEQ2 &lt;dbl&gt; | UEQ3 &lt;dbl&gt; | UEQ4 &lt;dbl&gt; | UEQ5 &lt;dbl&gt; | UEQ6 &lt;dbl&gt; | UEQ7 &lt;dbl&gt; | UEQ8 &lt;dbl&gt; | UEQ9 &lt;dbl&gt; | UEQ10 &lt;dbl&gt; | ⋯ ⋯ | UEQ17 &lt;dbl&gt; | UEQ18 &lt;dbl&gt; | UEQ19 &lt;dbl&gt; | UEQ20 &lt;dbl&gt; | UEQ21 &lt;dbl&gt; | UEQ22 &lt;dbl&gt; | UEQ23 &lt;dbl&gt; | UEQ24 &lt;dbl&gt; | UEQ25 &lt;dbl&gt; | UEQ26 &lt;dbl&gt; |\n",
       "|---|---|---|---|---|---|---|---|---|---|---|---|---|---|---|---|---|---|---|---|---|\n",
       "| 7 | 6 | 1 | 2 | 2 | 6 | 7 | 3 | 5 | 1 | ⋯ | 2 | 1 | 1 | 6 | 2 | 6 | 2 | 2 | 2 | 7 |\n",
       "| 4 | 4 | 6 | 4 | 1 | 3 | 2 | 4 | 1 | 4 | ⋯ | 4 | 6 | 4 | 4 | 4 | 3 | 6 | 6 | 6 | 5 |\n",
       "| 6 | 6 | 1 | 4 | 2 | 5 | 5 | 2 | 2 | 1 | ⋯ | 6 | 3 | 4 | 6 | 3 | 7 | 2 | 2 | 2 | 7 |\n",
       "| 4 | 5 | 4 | 5 | 5 | 3 | 4 | 3 | 5 | 2 | ⋯ | 3 | 3 | 3 | 5 | 3 | 5 | 2 | 3 | 4 | 4 |\n",
       "| 7 | 7 | 1 | 1 | 1 | 6 | 7 | 4 | 1 | 1 | ⋯ | 1 | 1 | 1 | 7 | 2 | 7 | 1 | 1 | 1 | 7 |\n",
       "\n"
      ],
      "text/plain": [
       "  UEQ1 UEQ2 UEQ3 UEQ4 UEQ5 UEQ6 UEQ7 UEQ8 UEQ9 UEQ10 ⋯ UEQ17 UEQ18 UEQ19 UEQ20\n",
       "1 7    6    1    2    2    6    7    3    5    1     ⋯ 2     1     1     6    \n",
       "2 4    4    6    4    1    3    2    4    1    4     ⋯ 4     6     4     4    \n",
       "3 6    6    1    4    2    5    5    2    2    1     ⋯ 6     3     4     6    \n",
       "4 4    5    4    5    5    3    4    3    5    2     ⋯ 3     3     3     5    \n",
       "5 7    7    1    1    1    6    7    4    1    1     ⋯ 1     1     1     7    \n",
       "  UEQ21 UEQ22 UEQ23 UEQ24 UEQ25 UEQ26\n",
       "1 2     6     2     2     2     7    \n",
       "2 4     3     6     6     6     5    \n",
       "3 3     7     2     2     2     7    \n",
       "4 3     5     2     3     4     4    \n",
       "5 2     7     1     1     1     7    "
      ]
     },
     "metadata": {},
     "output_type": "display_data"
    }
   ],
   "source": [
    "## view data\n",
    "head(weights,5)\n",
    "head(data,5)"
   ]
  },
  {
   "cell_type": "markdown",
   "metadata": {},
   "source": [
    "## Data wrangling for UEQ benchmark"
   ]
  },
  {
   "cell_type": "code",
   "execution_count": 9,
   "metadata": {
    "ExecuteTime": {
     "end_time": "2020-07-23T20:12:52.255545Z",
     "start_time": "2020-07-23T20:12:46.725Z"
    },
    "scrolled": true
   },
   "outputs": [
    {
     "data": {
      "text/html": [
       "<table>\n",
       "<caption>A data.frame: 33 × 26</caption>\n",
       "<thead>\n",
       "\t<tr><th scope=col>UEQ1</th><th scope=col>UEQ2</th><th scope=col>UEQ3</th><th scope=col>UEQ4</th><th scope=col>UEQ5</th><th scope=col>UEQ6</th><th scope=col>UEQ7</th><th scope=col>UEQ8</th><th scope=col>UEQ9</th><th scope=col>UEQ10</th><th scope=col>⋯</th><th scope=col>UEQ17</th><th scope=col>UEQ18</th><th scope=col>UEQ19</th><th scope=col>UEQ20</th><th scope=col>UEQ21</th><th scope=col>UEQ22</th><th scope=col>UEQ23</th><th scope=col>UEQ24</th><th scope=col>UEQ25</th><th scope=col>UEQ26</th></tr>\n",
       "\t<tr><th scope=col>&lt;dbl&gt;</th><th scope=col>&lt;dbl&gt;</th><th scope=col>&lt;dbl&gt;</th><th scope=col>&lt;dbl&gt;</th><th scope=col>&lt;dbl&gt;</th><th scope=col>&lt;dbl&gt;</th><th scope=col>&lt;dbl&gt;</th><th scope=col>&lt;dbl&gt;</th><th scope=col>&lt;dbl&gt;</th><th scope=col>&lt;dbl&gt;</th><th scope=col>⋯</th><th scope=col>&lt;dbl&gt;</th><th scope=col>&lt;dbl&gt;</th><th scope=col>&lt;dbl&gt;</th><th scope=col>&lt;dbl&gt;</th><th scope=col>&lt;dbl&gt;</th><th scope=col>&lt;dbl&gt;</th><th scope=col>&lt;dbl&gt;</th><th scope=col>&lt;dbl&gt;</th><th scope=col>&lt;dbl&gt;</th><th scope=col>&lt;dbl&gt;</th></tr>\n",
       "</thead>\n",
       "<tbody>\n",
       "\t<tr><td> 3</td><td> 2</td><td> 3</td><td> 2</td><td> 2</td><td> 2</td><td> 3</td><td>-1</td><td>-1</td><td> 3</td><td>⋯</td><td> 2</td><td> 3</td><td>3</td><td>2</td><td> 2</td><td> 2</td><td> 2</td><td> 2</td><td> 2</td><td>3</td></tr>\n",
       "\t<tr><td> 0</td><td> 0</td><td>-2</td><td> 0</td><td> 3</td><td>-1</td><td>-2</td><td> 0</td><td> 3</td><td> 0</td><td>⋯</td><td> 0</td><td>-2</td><td>0</td><td>0</td><td> 0</td><td>-1</td><td>-2</td><td>-2</td><td>-2</td><td>1</td></tr>\n",
       "\t<tr><td> 2</td><td> 2</td><td> 3</td><td> 0</td><td> 2</td><td> 1</td><td> 1</td><td>-2</td><td> 2</td><td> 3</td><td>⋯</td><td>-2</td><td> 1</td><td>0</td><td>2</td><td> 1</td><td> 3</td><td> 2</td><td> 2</td><td> 2</td><td>3</td></tr>\n",
       "\t<tr><td> 0</td><td> 1</td><td> 0</td><td>-1</td><td>-1</td><td>-1</td><td> 0</td><td>-1</td><td>-1</td><td> 2</td><td>⋯</td><td> 1</td><td> 1</td><td>1</td><td>1</td><td> 1</td><td> 1</td><td> 2</td><td> 1</td><td> 0</td><td>0</td></tr>\n",
       "\t<tr><td> 3</td><td> 3</td><td> 3</td><td> 3</td><td> 3</td><td> 2</td><td> 3</td><td> 0</td><td> 3</td><td> 3</td><td>⋯</td><td> 3</td><td> 3</td><td>3</td><td>3</td><td> 2</td><td> 3</td><td> 3</td><td> 3</td><td> 3</td><td>3</td></tr>\n",
       "\t<tr><td> 1</td><td> 1</td><td>-2</td><td> 0</td><td> 1</td><td> 1</td><td> 2</td><td> 0</td><td> 0</td><td> 1</td><td>⋯</td><td> 1</td><td> 2</td><td>1</td><td>0</td><td> 1</td><td> 1</td><td> 1</td><td> 0</td><td> 2</td><td>1</td></tr>\n",
       "\t<tr><td> 0</td><td> 1</td><td> 2</td><td> 3</td><td> 2</td><td> 0</td><td> 2</td><td> 1</td><td> 1</td><td> 3</td><td>⋯</td><td> 2</td><td> 2</td><td>1</td><td>2</td><td> 2</td><td> 2</td><td> 2</td><td> 1</td><td> 2</td><td>2</td></tr>\n",
       "\t<tr><td> 1</td><td> 1</td><td> 0</td><td> 0</td><td>-1</td><td> 1</td><td> 2</td><td> 1</td><td>-2</td><td> 2</td><td>⋯</td><td> 2</td><td> 2</td><td>1</td><td>2</td><td> 1</td><td> 2</td><td> 1</td><td> 2</td><td> 2</td><td>3</td></tr>\n",
       "\t<tr><td> 1</td><td> 0</td><td> 1</td><td> 0</td><td> 1</td><td> 1</td><td> 1</td><td> 0</td><td> 0</td><td>-1</td><td>⋯</td><td> 0</td><td> 1</td><td>0</td><td>0</td><td> 0</td><td> 0</td><td> 1</td><td> 0</td><td> 0</td><td>0</td></tr>\n",
       "\t<tr><td> 2</td><td> 2</td><td> 1</td><td> 3</td><td> 3</td><td> 0</td><td> 2</td><td> 2</td><td> 2</td><td> 2</td><td>⋯</td><td> 2</td><td> 3</td><td>3</td><td>2</td><td> 3</td><td> 2</td><td> 3</td><td> 2</td><td> 2</td><td>1</td></tr>\n",
       "\t<tr><td> 2</td><td> 3</td><td> 1</td><td> 3</td><td> 3</td><td> 0</td><td> 2</td><td> 0</td><td> 0</td><td> 0</td><td>⋯</td><td> 0</td><td> 2</td><td>0</td><td>0</td><td> 3</td><td> 3</td><td> 3</td><td> 0</td><td> 0</td><td>2</td></tr>\n",
       "\t<tr><td> 3</td><td> 2</td><td> 2</td><td> 3</td><td> 3</td><td> 1</td><td> 2</td><td> 3</td><td> 3</td><td> 2</td><td>⋯</td><td> 3</td><td> 3</td><td>2</td><td>2</td><td> 3</td><td> 2</td><td> 3</td><td> 2</td><td> 3</td><td>3</td></tr>\n",
       "\t<tr><td> 2</td><td> 2</td><td> 2</td><td> 1</td><td> 1</td><td> 0</td><td> 0</td><td> 2</td><td> 2</td><td> 2</td><td>⋯</td><td> 3</td><td> 2</td><td>2</td><td>2</td><td> 3</td><td> 3</td><td> 2</td><td> 2</td><td> 2</td><td>1</td></tr>\n",
       "\t<tr><td> 1</td><td>-1</td><td>-1</td><td> 0</td><td> 0</td><td>-1</td><td>-1</td><td>-1</td><td> 0</td><td> 0</td><td>⋯</td><td> 1</td><td>-2</td><td>0</td><td>0</td><td>-2</td><td>-1</td><td>-2</td><td>-1</td><td>-1</td><td>0</td></tr>\n",
       "\t<tr><td> 1</td><td> 2</td><td> 0</td><td> 2</td><td> 2</td><td> 1</td><td> 2</td><td> 1</td><td> 1</td><td> 2</td><td>⋯</td><td> 2</td><td> 2</td><td>2</td><td>2</td><td> 2</td><td> 2</td><td> 2</td><td> 2</td><td> 2</td><td>2</td></tr>\n",
       "\t<tr><td> 1</td><td> 2</td><td> 2</td><td> 2</td><td> 2</td><td> 1</td><td> 2</td><td> 2</td><td> 2</td><td> 2</td><td>⋯</td><td> 2</td><td> 2</td><td>2</td><td>2</td><td> 2</td><td> 2</td><td> 2</td><td> 2</td><td> 2</td><td>2</td></tr>\n",
       "\t<tr><td>-1</td><td> 0</td><td> 0</td><td> 1</td><td> 0</td><td>-1</td><td> 0</td><td> 1</td><td> 0</td><td> 1</td><td>⋯</td><td> 0</td><td> 1</td><td>0</td><td>1</td><td> 0</td><td> 1</td><td> 0</td><td> 0</td><td> 1</td><td>1</td></tr>\n",
       "\t<tr><td> 3</td><td> 3</td><td> 0</td><td> 3</td><td> 0</td><td> 0</td><td> 3</td><td> 0</td><td> 0</td><td> 0</td><td>⋯</td><td> 0</td><td> 0</td><td>0</td><td>0</td><td> 0</td><td> 0</td><td> 0</td><td> 0</td><td> 0</td><td>0</td></tr>\n",
       "\t<tr><td> 2</td><td> 1</td><td> 2</td><td> 2</td><td> 2</td><td> 0</td><td> 2</td><td> 1</td><td> 3</td><td> 3</td><td>⋯</td><td> 2</td><td> 2</td><td>2</td><td>2</td><td> 2</td><td> 2</td><td> 2</td><td> 2</td><td> 2</td><td>1</td></tr>\n",
       "\t<tr><td> 1</td><td> 1</td><td> 0</td><td> 1</td><td> 2</td><td> 0</td><td> 1</td><td> 2</td><td> 2</td><td> 0</td><td>⋯</td><td> 3</td><td> 3</td><td>1</td><td>2</td><td> 1</td><td> 2</td><td> 1</td><td> 1</td><td> 2</td><td>0</td></tr>\n",
       "\t<tr><td> 3</td><td> 3</td><td> 3</td><td> 3</td><td> 3</td><td> 3</td><td> 1</td><td> 1</td><td> 3</td><td> 3</td><td>⋯</td><td>-2</td><td> 2</td><td>0</td><td>2</td><td> 2</td><td> 1</td><td> 2</td><td> 2</td><td> 3</td><td>3</td></tr>\n",
       "\t<tr><td> 2</td><td> 3</td><td> 1</td><td> 2</td><td> 3</td><td> 0</td><td> 2</td><td> 1</td><td> 2</td><td> 2</td><td>⋯</td><td> 3</td><td> 2</td><td>3</td><td>1</td><td> 3</td><td> 3</td><td> 2</td><td> 1</td><td> 1</td><td>0</td></tr>\n",
       "\t<tr><td> 3</td><td> 2</td><td> 3</td><td> 2</td><td> 3</td><td> 1</td><td> 3</td><td>-2</td><td>-1</td><td> 3</td><td>⋯</td><td> 3</td><td> 3</td><td>3</td><td>3</td><td> 3</td><td> 3</td><td> 2</td><td> 1</td><td> 2</td><td>3</td></tr>\n",
       "\t<tr><td> 2</td><td> 3</td><td> 2</td><td> 3</td><td> 2</td><td> 2</td><td> 2</td><td> 2</td><td> 2</td><td> 3</td><td>⋯</td><td> 3</td><td> 2</td><td>2</td><td>2</td><td> 3</td><td> 2</td><td> 3</td><td> 3</td><td> 3</td><td>3</td></tr>\n",
       "\t<tr><td> 2</td><td> 1</td><td> 1</td><td> 2</td><td> 0</td><td> 0</td><td> 1</td><td> 0</td><td> 2</td><td> 2</td><td>⋯</td><td> 1</td><td> 1</td><td>2</td><td>2</td><td> 1</td><td> 2</td><td> 0</td><td> 0</td><td> 2</td><td>2</td></tr>\n",
       "\t<tr><td> 1</td><td> 2</td><td> 0</td><td> 1</td><td> 1</td><td>-2</td><td>-1</td><td> 0</td><td> 1</td><td> 3</td><td>⋯</td><td> 0</td><td> 2</td><td>0</td><td>1</td><td> 0</td><td>-1</td><td> 1</td><td> 2</td><td> 1</td><td>2</td></tr>\n",
       "\t<tr><td> 3</td><td> 2</td><td> 1</td><td> 3</td><td> 2</td><td> 1</td><td> 2</td><td> 0</td><td> 3</td><td> 3</td><td>⋯</td><td> 3</td><td> 2</td><td>2</td><td>2</td><td> 2</td><td> 3</td><td> 3</td><td> 3</td><td> 3</td><td>3</td></tr>\n",
       "\t<tr><td>-1</td><td> 2</td><td> 1</td><td> 2</td><td> 1</td><td> 0</td><td> 1</td><td> 2</td><td> 3</td><td> 1</td><td>⋯</td><td> 2</td><td> 1</td><td>2</td><td>2</td><td> 2</td><td> 2</td><td> 3</td><td> 2</td><td> 2</td><td>0</td></tr>\n",
       "\t<tr><td> 0</td><td> 2</td><td> 0</td><td>-1</td><td> 0</td><td> 0</td><td> 1</td><td> 1</td><td> 0</td><td> 1</td><td>⋯</td><td> 1</td><td> 2</td><td>1</td><td>1</td><td> 1</td><td> 1</td><td> 1</td><td> 0</td><td> 0</td><td>1</td></tr>\n",
       "\t<tr><td> 0</td><td> 2</td><td> 0</td><td> 1</td><td> 3</td><td> 0</td><td> 2</td><td> 0</td><td> 2</td><td> 2</td><td>⋯</td><td> 1</td><td> 0</td><td>0</td><td>0</td><td> 3</td><td> 2</td><td> 2</td><td> 1</td><td> 3</td><td>0</td></tr>\n",
       "\t<tr><td> 2</td><td> 2</td><td> 2</td><td> 2</td><td> 2</td><td> 1</td><td> 2</td><td> 2</td><td> 2</td><td> 2</td><td>⋯</td><td> 3</td><td> 2</td><td>2</td><td>2</td><td> 2</td><td> 2</td><td> 2</td><td> 2</td><td> 2</td><td>2</td></tr>\n",
       "\t<tr><td> 1</td><td> 1</td><td> 0</td><td> 0</td><td> 1</td><td> 0</td><td> 0</td><td> 0</td><td> 2</td><td> 1</td><td>⋯</td><td> 1</td><td> 1</td><td>0</td><td>0</td><td> 1</td><td> 1</td><td> 2</td><td> 1</td><td> 1</td><td>0</td></tr>\n",
       "\t<tr><td> 0</td><td> 2</td><td> 0</td><td> 1</td><td> 1</td><td> 0</td><td>-1</td><td> 1</td><td> 0</td><td> 0</td><td>⋯</td><td> 0</td><td> 0</td><td>1</td><td>1</td><td> 2</td><td> 1</td><td> 0</td><td> 0</td><td> 0</td><td>0</td></tr>\n",
       "</tbody>\n",
       "</table>\n"
      ],
      "text/latex": [
       "A data.frame: 33 × 26\n",
       "\\begin{tabular}{r|llllllllllllllllllllllllll}\n",
       " UEQ1 & UEQ2 & UEQ3 & UEQ4 & UEQ5 & UEQ6 & UEQ7 & UEQ8 & UEQ9 & UEQ10 & UEQ11 & UEQ12 & UEQ13 & UEQ14 & UEQ15 & UEQ16 & UEQ17 & UEQ18 & UEQ19 & UEQ20 & UEQ21 & UEQ22 & UEQ23 & UEQ24 & UEQ25 & UEQ26\\\\\n",
       " <dbl> & <dbl> & <dbl> & <dbl> & <dbl> & <dbl> & <dbl> & <dbl> & <dbl> & <dbl> & <dbl> & <dbl> & <dbl> & <dbl> & <dbl> & <dbl> & <dbl> & <dbl> & <dbl> & <dbl> & <dbl> & <dbl> & <dbl> & <dbl> & <dbl> & <dbl>\\\\\n",
       "\\hline\n",
       "\t  3 &  2 &  3 &  2 &  2 &  2 &  3 & -1 & -1 &  3 & 3 &  3 &  0 &  3 &  3 &  3 &  2 &  3 & 3 & 2 &  2 &  2 &  2 &  2 &  2 & 3\\\\\n",
       "\t  0 &  0 & -2 &  0 &  3 & -1 & -2 &  0 &  3 &  0 & 0 &  0 &  0 &  0 & -3 &  0 &  0 & -2 & 0 & 0 &  0 & -1 & -2 & -2 & -2 & 1\\\\\n",
       "\t  2 &  2 &  3 &  0 &  2 &  1 &  1 & -2 &  2 &  3 & 1 &  1 & -2 &  1 &  2 &  2 & -2 &  1 & 0 & 2 &  1 &  3 &  2 &  2 &  2 & 3\\\\\n",
       "\t  0 &  1 &  0 & -1 & -1 & -1 &  0 & -1 & -1 &  2 & 1 &  2 &  0 &  0 &  0 &  0 &  1 &  1 & 1 & 1 &  1 &  1 &  2 &  1 &  0 & 0\\\\\n",
       "\t  3 &  3 &  3 &  3 &  3 &  2 &  3 &  0 &  3 &  3 & 3 &  3 &  0 &  2 &  2 &  2 &  3 &  3 & 3 & 3 &  2 &  3 &  3 &  3 &  3 & 3\\\\\n",
       "\t  1 &  1 & -2 &  0 &  1 &  1 &  2 &  0 &  0 &  1 & 1 &  1 &  0 &  1 &  1 &  1 &  1 &  2 & 1 & 0 &  1 &  1 &  1 &  0 &  2 & 1\\\\\n",
       "\t  0 &  1 &  2 &  3 &  2 &  0 &  2 &  1 &  1 &  3 & 2 &  2 &  2 &  0 &  0 &  1 &  2 &  2 & 1 & 2 &  2 &  2 &  2 &  1 &  2 & 2\\\\\n",
       "\t  1 &  1 &  0 &  0 & -1 &  1 &  2 &  1 & -2 &  2 & 2 &  2 &  0 &  1 &  2 &  2 &  2 &  2 & 1 & 2 &  1 &  2 &  1 &  2 &  2 & 3\\\\\n",
       "\t  1 &  0 &  1 &  0 &  1 &  1 &  1 &  0 &  0 & -1 & 0 &  1 & -1 &  0 &  0 &  1 &  0 &  1 & 0 & 0 &  0 &  0 &  1 &  0 &  0 & 0\\\\\n",
       "\t  2 &  2 &  1 &  3 &  3 &  0 &  2 &  2 &  2 &  2 & 2 &  3 &  2 &  2 &  2 &  3 &  2 &  3 & 3 & 2 &  3 &  2 &  3 &  2 &  2 & 1\\\\\n",
       "\t  2 &  3 &  1 &  3 &  3 &  0 &  2 &  0 &  0 &  0 & 2 &  3 &  3 &  0 &  0 &  0 &  0 &  2 & 0 & 0 &  3 &  3 &  3 &  0 &  0 & 2\\\\\n",
       "\t  3 &  2 &  2 &  3 &  3 &  1 &  2 &  3 &  3 &  2 & 3 &  2 &  2 &  3 &  1 &  2 &  3 &  3 & 2 & 2 &  3 &  2 &  3 &  2 &  3 & 3\\\\\n",
       "\t  2 &  2 &  2 &  1 &  1 &  0 &  0 &  2 &  2 &  2 & 1 &  2 & -1 &  2 &  1 &  3 &  3 &  2 & 2 & 2 &  3 &  3 &  2 &  2 &  2 & 1\\\\\n",
       "\t  1 & -1 & -1 &  0 &  0 & -1 & -1 & -1 &  0 &  0 & 0 & -2 & -1 & -2 &  1 & -1 &  1 & -2 & 0 & 0 & -2 & -1 & -2 & -1 & -1 & 0\\\\\n",
       "\t  1 &  2 &  0 &  2 &  2 &  1 &  2 &  1 &  1 &  2 & 2 &  2 &  2 &  2 &  2 &  2 &  2 &  2 & 2 & 2 &  2 &  2 &  2 &  2 &  2 & 2\\\\\n",
       "\t  1 &  2 &  2 &  2 &  2 &  1 &  2 &  2 &  2 &  2 & 1 &  2 &  2 &  0 &  1 &  1 &  2 &  2 & 2 & 2 &  2 &  2 &  2 &  2 &  2 & 2\\\\\n",
       "\t -1 &  0 &  0 &  1 &  0 & -1 &  0 &  1 &  0 &  1 & 0 &  1 &  0 &  0 &  1 &  0 &  0 &  1 & 0 & 1 &  0 &  1 &  0 &  0 &  1 & 1\\\\\n",
       "\t  3 &  3 &  0 &  3 &  0 &  0 &  3 &  0 &  0 &  0 & 0 &  0 &  0 &  0 &  0 &  0 &  0 &  0 & 0 & 0 &  0 &  0 &  0 &  0 &  0 & 0\\\\\n",
       "\t  2 &  1 &  2 &  2 &  2 &  0 &  2 &  1 &  3 &  3 & 3 &  3 &  0 &  2 &  2 &  2 &  2 &  2 & 2 & 2 &  2 &  2 &  2 &  2 &  2 & 1\\\\\n",
       "\t  1 &  1 &  0 &  1 &  2 &  0 &  1 &  2 &  2 &  0 & 1 &  1 &  3 &  1 &  1 &  2 &  3 &  3 & 1 & 2 &  1 &  2 &  1 &  1 &  2 & 0\\\\\n",
       "\t  3 &  3 &  3 &  3 &  3 &  3 &  1 &  1 &  3 &  3 & 3 &  3 &  3 &  1 &  0 &  1 & -2 &  2 & 0 & 2 &  2 &  1 &  2 &  2 &  3 & 3\\\\\n",
       "\t  2 &  3 &  1 &  2 &  3 &  0 &  2 &  1 &  2 &  2 & 2 &  3 &  3 &  2 &  1 &  2 &  3 &  2 & 3 & 1 &  3 &  3 &  2 &  1 &  1 & 0\\\\\n",
       "\t  3 &  2 &  3 &  2 &  3 &  1 &  3 & -2 & -1 &  3 & 3 &  3 & -1 &  0 &  2 &  1 &  3 &  3 & 3 & 3 &  3 &  3 &  2 &  1 &  2 & 3\\\\\n",
       "\t  2 &  3 &  2 &  3 &  2 &  2 &  2 &  2 &  2 &  3 & 3 &  3 &  2 &  2 &  1 &  2 &  3 &  2 & 2 & 2 &  3 &  2 &  3 &  3 &  3 & 3\\\\\n",
       "\t  2 &  1 &  1 &  2 &  0 &  0 &  1 &  0 &  2 &  2 & 2 & -1 &  1 &  1 &  1 &  1 &  1 &  1 & 2 & 2 &  1 &  2 &  0 &  0 &  2 & 2\\\\\n",
       "\t  1 &  2 &  0 &  1 &  1 & -2 & -1 &  0 &  1 &  3 & 1 &  2 & -1 &  0 &  0 &  1 &  0 &  2 & 0 & 1 &  0 & -1 &  1 &  2 &  1 & 2\\\\\n",
       "\t  3 &  2 &  1 &  3 &  2 &  1 &  2 &  0 &  3 &  3 & 2 &  3 &  3 &  2 &  2 &  2 &  3 &  2 & 2 & 2 &  2 &  3 &  3 &  3 &  3 & 3\\\\\n",
       "\t -1 &  2 &  1 &  2 &  1 &  0 &  1 &  2 &  3 &  1 & 0 &  2 &  1 &  1 &  1 &  1 &  2 &  1 & 2 & 2 &  2 &  2 &  3 &  2 &  2 & 0\\\\\n",
       "\t  0 &  2 &  0 & -1 &  0 &  0 &  1 &  1 &  0 &  1 & 0 &  1 & -1 &  0 &  0 &  1 &  1 &  2 & 1 & 1 &  1 &  1 &  1 &  0 &  0 & 1\\\\\n",
       "\t  0 &  2 &  0 &  1 &  3 &  0 &  2 &  0 &  2 &  2 & 0 &  2 &  2 &  0 &  3 &  0 &  1 &  0 & 0 & 0 &  3 &  2 &  2 &  1 &  3 & 0\\\\\n",
       "\t  2 &  2 &  2 &  2 &  2 &  1 &  2 &  2 &  2 &  2 & 2 &  2 &  2 &  2 &  0 &  2 &  3 &  2 & 2 & 2 &  2 &  2 &  2 &  2 &  2 & 2\\\\\n",
       "\t  1 &  1 &  0 &  0 &  1 &  0 &  0 &  0 &  2 &  1 & 1 &  2 &  2 &  0 &  0 &  0 &  1 &  1 & 0 & 0 &  1 &  1 &  2 &  1 &  1 & 0\\\\\n",
       "\t  0 &  2 &  0 &  1 &  1 &  0 & -1 &  1 &  0 &  0 & 0 &  1 &  1 &  0 &  0 &  0 &  0 &  0 & 1 & 1 &  2 &  1 &  0 &  0 &  0 & 0\\\\\n",
       "\\end{tabular}\n"
      ],
      "text/markdown": [
       "\n",
       "A data.frame: 33 × 26\n",
       "\n",
       "| UEQ1 &lt;dbl&gt; | UEQ2 &lt;dbl&gt; | UEQ3 &lt;dbl&gt; | UEQ4 &lt;dbl&gt; | UEQ5 &lt;dbl&gt; | UEQ6 &lt;dbl&gt; | UEQ7 &lt;dbl&gt; | UEQ8 &lt;dbl&gt; | UEQ9 &lt;dbl&gt; | UEQ10 &lt;dbl&gt; | ⋯ ⋯ | UEQ17 &lt;dbl&gt; | UEQ18 &lt;dbl&gt; | UEQ19 &lt;dbl&gt; | UEQ20 &lt;dbl&gt; | UEQ21 &lt;dbl&gt; | UEQ22 &lt;dbl&gt; | UEQ23 &lt;dbl&gt; | UEQ24 &lt;dbl&gt; | UEQ25 &lt;dbl&gt; | UEQ26 &lt;dbl&gt; |\n",
       "|---|---|---|---|---|---|---|---|---|---|---|---|---|---|---|---|---|---|---|---|---|\n",
       "|  3 |  2 |  3 |  2 |  2 |  2 |  3 | -1 | -1 |  3 | ⋯ |  2 |  3 | 3 | 2 |  2 |  2 |  2 |  2 |  2 | 3 |\n",
       "|  0 |  0 | -2 |  0 |  3 | -1 | -2 |  0 |  3 |  0 | ⋯ |  0 | -2 | 0 | 0 |  0 | -1 | -2 | -2 | -2 | 1 |\n",
       "|  2 |  2 |  3 |  0 |  2 |  1 |  1 | -2 |  2 |  3 | ⋯ | -2 |  1 | 0 | 2 |  1 |  3 |  2 |  2 |  2 | 3 |\n",
       "|  0 |  1 |  0 | -1 | -1 | -1 |  0 | -1 | -1 |  2 | ⋯ |  1 |  1 | 1 | 1 |  1 |  1 |  2 |  1 |  0 | 0 |\n",
       "|  3 |  3 |  3 |  3 |  3 |  2 |  3 |  0 |  3 |  3 | ⋯ |  3 |  3 | 3 | 3 |  2 |  3 |  3 |  3 |  3 | 3 |\n",
       "|  1 |  1 | -2 |  0 |  1 |  1 |  2 |  0 |  0 |  1 | ⋯ |  1 |  2 | 1 | 0 |  1 |  1 |  1 |  0 |  2 | 1 |\n",
       "|  0 |  1 |  2 |  3 |  2 |  0 |  2 |  1 |  1 |  3 | ⋯ |  2 |  2 | 1 | 2 |  2 |  2 |  2 |  1 |  2 | 2 |\n",
       "|  1 |  1 |  0 |  0 | -1 |  1 |  2 |  1 | -2 |  2 | ⋯ |  2 |  2 | 1 | 2 |  1 |  2 |  1 |  2 |  2 | 3 |\n",
       "|  1 |  0 |  1 |  0 |  1 |  1 |  1 |  0 |  0 | -1 | ⋯ |  0 |  1 | 0 | 0 |  0 |  0 |  1 |  0 |  0 | 0 |\n",
       "|  2 |  2 |  1 |  3 |  3 |  0 |  2 |  2 |  2 |  2 | ⋯ |  2 |  3 | 3 | 2 |  3 |  2 |  3 |  2 |  2 | 1 |\n",
       "|  2 |  3 |  1 |  3 |  3 |  0 |  2 |  0 |  0 |  0 | ⋯ |  0 |  2 | 0 | 0 |  3 |  3 |  3 |  0 |  0 | 2 |\n",
       "|  3 |  2 |  2 |  3 |  3 |  1 |  2 |  3 |  3 |  2 | ⋯ |  3 |  3 | 2 | 2 |  3 |  2 |  3 |  2 |  3 | 3 |\n",
       "|  2 |  2 |  2 |  1 |  1 |  0 |  0 |  2 |  2 |  2 | ⋯ |  3 |  2 | 2 | 2 |  3 |  3 |  2 |  2 |  2 | 1 |\n",
       "|  1 | -1 | -1 |  0 |  0 | -1 | -1 | -1 |  0 |  0 | ⋯ |  1 | -2 | 0 | 0 | -2 | -1 | -2 | -1 | -1 | 0 |\n",
       "|  1 |  2 |  0 |  2 |  2 |  1 |  2 |  1 |  1 |  2 | ⋯ |  2 |  2 | 2 | 2 |  2 |  2 |  2 |  2 |  2 | 2 |\n",
       "|  1 |  2 |  2 |  2 |  2 |  1 |  2 |  2 |  2 |  2 | ⋯ |  2 |  2 | 2 | 2 |  2 |  2 |  2 |  2 |  2 | 2 |\n",
       "| -1 |  0 |  0 |  1 |  0 | -1 |  0 |  1 |  0 |  1 | ⋯ |  0 |  1 | 0 | 1 |  0 |  1 |  0 |  0 |  1 | 1 |\n",
       "|  3 |  3 |  0 |  3 |  0 |  0 |  3 |  0 |  0 |  0 | ⋯ |  0 |  0 | 0 | 0 |  0 |  0 |  0 |  0 |  0 | 0 |\n",
       "|  2 |  1 |  2 |  2 |  2 |  0 |  2 |  1 |  3 |  3 | ⋯ |  2 |  2 | 2 | 2 |  2 |  2 |  2 |  2 |  2 | 1 |\n",
       "|  1 |  1 |  0 |  1 |  2 |  0 |  1 |  2 |  2 |  0 | ⋯ |  3 |  3 | 1 | 2 |  1 |  2 |  1 |  1 |  2 | 0 |\n",
       "|  3 |  3 |  3 |  3 |  3 |  3 |  1 |  1 |  3 |  3 | ⋯ | -2 |  2 | 0 | 2 |  2 |  1 |  2 |  2 |  3 | 3 |\n",
       "|  2 |  3 |  1 |  2 |  3 |  0 |  2 |  1 |  2 |  2 | ⋯ |  3 |  2 | 3 | 1 |  3 |  3 |  2 |  1 |  1 | 0 |\n",
       "|  3 |  2 |  3 |  2 |  3 |  1 |  3 | -2 | -1 |  3 | ⋯ |  3 |  3 | 3 | 3 |  3 |  3 |  2 |  1 |  2 | 3 |\n",
       "|  2 |  3 |  2 |  3 |  2 |  2 |  2 |  2 |  2 |  3 | ⋯ |  3 |  2 | 2 | 2 |  3 |  2 |  3 |  3 |  3 | 3 |\n",
       "|  2 |  1 |  1 |  2 |  0 |  0 |  1 |  0 |  2 |  2 | ⋯ |  1 |  1 | 2 | 2 |  1 |  2 |  0 |  0 |  2 | 2 |\n",
       "|  1 |  2 |  0 |  1 |  1 | -2 | -1 |  0 |  1 |  3 | ⋯ |  0 |  2 | 0 | 1 |  0 | -1 |  1 |  2 |  1 | 2 |\n",
       "|  3 |  2 |  1 |  3 |  2 |  1 |  2 |  0 |  3 |  3 | ⋯ |  3 |  2 | 2 | 2 |  2 |  3 |  3 |  3 |  3 | 3 |\n",
       "| -1 |  2 |  1 |  2 |  1 |  0 |  1 |  2 |  3 |  1 | ⋯ |  2 |  1 | 2 | 2 |  2 |  2 |  3 |  2 |  2 | 0 |\n",
       "|  0 |  2 |  0 | -1 |  0 |  0 |  1 |  1 |  0 |  1 | ⋯ |  1 |  2 | 1 | 1 |  1 |  1 |  1 |  0 |  0 | 1 |\n",
       "|  0 |  2 |  0 |  1 |  3 |  0 |  2 |  0 |  2 |  2 | ⋯ |  1 |  0 | 0 | 0 |  3 |  2 |  2 |  1 |  3 | 0 |\n",
       "|  2 |  2 |  2 |  2 |  2 |  1 |  2 |  2 |  2 |  2 | ⋯ |  3 |  2 | 2 | 2 |  2 |  2 |  2 |  2 |  2 | 2 |\n",
       "|  1 |  1 |  0 |  0 |  1 |  0 |  0 |  0 |  2 |  1 | ⋯ |  1 |  1 | 0 | 0 |  1 |  1 |  2 |  1 |  1 | 0 |\n",
       "|  0 |  2 |  0 |  1 |  1 |  0 | -1 |  1 |  0 |  0 | ⋯ |  0 |  0 | 1 | 1 |  2 |  1 |  0 |  0 |  0 | 0 |\n",
       "\n"
      ],
      "text/plain": [
       "   UEQ1 UEQ2 UEQ3 UEQ4 UEQ5 UEQ6 UEQ7 UEQ8 UEQ9 UEQ10 ⋯ UEQ17 UEQ18 UEQ19 UEQ20\n",
       "1   3    2    3    2    2    2    3   -1   -1    3    ⋯  2     3    3     2    \n",
       "2   0    0   -2    0    3   -1   -2    0    3    0    ⋯  0    -2    0     0    \n",
       "3   2    2    3    0    2    1    1   -2    2    3    ⋯ -2     1    0     2    \n",
       "4   0    1    0   -1   -1   -1    0   -1   -1    2    ⋯  1     1    1     1    \n",
       "5   3    3    3    3    3    2    3    0    3    3    ⋯  3     3    3     3    \n",
       "6   1    1   -2    0    1    1    2    0    0    1    ⋯  1     2    1     0    \n",
       "7   0    1    2    3    2    0    2    1    1    3    ⋯  2     2    1     2    \n",
       "8   1    1    0    0   -1    1    2    1   -2    2    ⋯  2     2    1     2    \n",
       "9   1    0    1    0    1    1    1    0    0   -1    ⋯  0     1    0     0    \n",
       "10  2    2    1    3    3    0    2    2    2    2    ⋯  2     3    3     2    \n",
       "11  2    3    1    3    3    0    2    0    0    0    ⋯  0     2    0     0    \n",
       "12  3    2    2    3    3    1    2    3    3    2    ⋯  3     3    2     2    \n",
       "13  2    2    2    1    1    0    0    2    2    2    ⋯  3     2    2     2    \n",
       "14  1   -1   -1    0    0   -1   -1   -1    0    0    ⋯  1    -2    0     0    \n",
       "15  1    2    0    2    2    1    2    1    1    2    ⋯  2     2    2     2    \n",
       "16  1    2    2    2    2    1    2    2    2    2    ⋯  2     2    2     2    \n",
       "17 -1    0    0    1    0   -1    0    1    0    1    ⋯  0     1    0     1    \n",
       "18  3    3    0    3    0    0    3    0    0    0    ⋯  0     0    0     0    \n",
       "19  2    1    2    2    2    0    2    1    3    3    ⋯  2     2    2     2    \n",
       "20  1    1    0    1    2    0    1    2    2    0    ⋯  3     3    1     2    \n",
       "21  3    3    3    3    3    3    1    1    3    3    ⋯ -2     2    0     2    \n",
       "22  2    3    1    2    3    0    2    1    2    2    ⋯  3     2    3     1    \n",
       "23  3    2    3    2    3    1    3   -2   -1    3    ⋯  3     3    3     3    \n",
       "24  2    3    2    3    2    2    2    2    2    3    ⋯  3     2    2     2    \n",
       "25  2    1    1    2    0    0    1    0    2    2    ⋯  1     1    2     2    \n",
       "26  1    2    0    1    1   -2   -1    0    1    3    ⋯  0     2    0     1    \n",
       "27  3    2    1    3    2    1    2    0    3    3    ⋯  3     2    2     2    \n",
       "28 -1    2    1    2    1    0    1    2    3    1    ⋯  2     1    2     2    \n",
       "29  0    2    0   -1    0    0    1    1    0    1    ⋯  1     2    1     1    \n",
       "30  0    2    0    1    3    0    2    0    2    2    ⋯  1     0    0     0    \n",
       "31  2    2    2    2    2    1    2    2    2    2    ⋯  3     2    2     2    \n",
       "32  1    1    0    0    1    0    0    0    2    1    ⋯  1     1    0     0    \n",
       "33  0    2    0    1    1    0   -1    1    0    0    ⋯  0     0    1     1    \n",
       "   UEQ21 UEQ22 UEQ23 UEQ24 UEQ25 UEQ26\n",
       "1   2     2     2     2     2    3    \n",
       "2   0    -1    -2    -2    -2    1    \n",
       "3   1     3     2     2     2    3    \n",
       "4   1     1     2     1     0    0    \n",
       "5   2     3     3     3     3    3    \n",
       "6   1     1     1     0     2    1    \n",
       "7   2     2     2     1     2    2    \n",
       "8   1     2     1     2     2    3    \n",
       "9   0     0     1     0     0    0    \n",
       "10  3     2     3     2     2    1    \n",
       "11  3     3     3     0     0    2    \n",
       "12  3     2     3     2     3    3    \n",
       "13  3     3     2     2     2    1    \n",
       "14 -2    -1    -2    -1    -1    0    \n",
       "15  2     2     2     2     2    2    \n",
       "16  2     2     2     2     2    2    \n",
       "17  0     1     0     0     1    1    \n",
       "18  0     0     0     0     0    0    \n",
       "19  2     2     2     2     2    1    \n",
       "20  1     2     1     1     2    0    \n",
       "21  2     1     2     2     3    3    \n",
       "22  3     3     2     1     1    0    \n",
       "23  3     3     2     1     2    3    \n",
       "24  3     2     3     3     3    3    \n",
       "25  1     2     0     0     2    2    \n",
       "26  0    -1     1     2     1    2    \n",
       "27  2     3     3     3     3    3    \n",
       "28  2     2     3     2     2    0    \n",
       "29  1     1     1     0     0    1    \n",
       "30  3     2     2     1     3    0    \n",
       "31  2     2     2     2     2    2    \n",
       "32  1     1     2     1     1    0    \n",
       "33  2     1     0     0     0    0    "
      ]
     },
     "metadata": {},
     "output_type": "display_data"
    }
   ],
   "source": [
    "## rescale data\n",
    "DT <- rescale_data(data = data)\n",
    "DT"
   ]
  },
  {
   "cell_type": "markdown",
   "metadata": {
    "ExecuteTime": {
     "end_time": "2020-07-14T13:52:30.977253Z",
     "start_time": "2020-07-14T13:52:30.952Z"
    }
   },
   "source": [
    "# Analysis"
   ]
  },
  {
   "cell_type": "markdown",
   "metadata": {
    "ExecuteTime": {
     "end_time": "2020-07-14T13:52:30.977253Z",
     "start_time": "2020-07-14T13:52:30.952Z"
    }
   },
   "source": [
    "## Consistency, inconsistency"
   ]
  },
  {
   "cell_type": "code",
   "execution_count": 10,
   "metadata": {
    "ExecuteTime": {
     "end_time": "2020-07-23T20:12:52.766385Z",
     "start_time": "2020-07-23T20:12:46.737Z"
    }
   },
   "outputs": [
    {
     "data": {
      "text/html": [
       "0.956500819970459"
      ],
      "text/latex": [
       "0.956500819970459"
      ],
      "text/markdown": [
       "0.956500819970459"
      ],
      "text/plain": [
       "[1] 0.9565008"
      ]
     },
     "metadata": {},
     "output_type": "display_data"
    },
    {
     "data": {
      "text/html": [
       "<dl class=dl-horizontal>\n",
       "\t<dt>Attractiveness</dt>\n",
       "\t\t<dd>0.914086267729614</dd>\n",
       "\t<dt>Perspicuity</dt>\n",
       "\t\t<dd>0.811611570854102</dd>\n",
       "\t<dt>Efficiency</dt>\n",
       "\t\t<dd>0.755481074831691</dd>\n",
       "\t<dt>Dependability</dt>\n",
       "\t\t<dd>0.773656224103866</dd>\n",
       "\t<dt>Stimulation</dt>\n",
       "\t\t<dd>0.74820266812977</dd>\n",
       "\t<dt>Novelty</dt>\n",
       "\t\t<dd>0.796538813450854</dd>\n",
       "</dl>\n"
      ],
      "text/latex": [
       "\\begin{description*}\n",
       "\\item[Attractiveness] 0.914086267729614\n",
       "\\item[Perspicuity] 0.811611570854102\n",
       "\\item[Efficiency] 0.755481074831691\n",
       "\\item[Dependability] 0.773656224103866\n",
       "\\item[Stimulation] 0.74820266812977\n",
       "\\item[Novelty] 0.796538813450854\n",
       "\\end{description*}\n"
      ],
      "text/markdown": [
       "Attractiveness\n",
       ":   0.914086267729614Perspicuity\n",
       ":   0.811611570854102Efficiency\n",
       ":   0.755481074831691Dependability\n",
       ":   0.773656224103866Stimulation\n",
       ":   0.74820266812977Novelty\n",
       ":   0.796538813450854\n",
       "\n"
      ],
      "text/plain": [
       "Attractiveness    Perspicuity     Efficiency  Dependability    Stimulation \n",
       "     0.9140863      0.8116116      0.7554811      0.7736562      0.7482027 \n",
       "       Novelty \n",
       "     0.7965388 "
      ]
     },
     "metadata": {},
     "output_type": "display_data"
    }
   ],
   "source": [
    "## reliability\n",
    "reliability(DT, spec = \"whole\")\n",
    "reliability(DT, coef = \"lambda\")"
   ]
  },
  {
   "cell_type": "code",
   "execution_count": 11,
   "metadata": {
    "ExecuteTime": {
     "end_time": "2020-07-23T20:12:53.223174Z",
     "start_time": "2020-07-23T20:12:46.751Z"
    },
    "scrolled": true
   },
   "outputs": [
    {
     "data": {
      "text/html": [
       "<table>\n",
       "<caption>A data.frame: 33 × 7</caption>\n",
       "<thead>\n",
       "\t<tr><th scope=col>Attractiveness</th><th scope=col>Perspicuity</th><th scope=col>Efficiency</th><th scope=col>Dependability</th><th scope=col>Stimulation</th><th scope=col>Novelty</th><th scope=col>critical?</th></tr>\n",
       "\t<tr><th scope=col>&lt;chr&gt;</th><th scope=col>&lt;chr&gt;</th><th scope=col>&lt;chr&gt;</th><th scope=col>&lt;chr&gt;</th><th scope=col>&lt;chr&gt;</th><th scope=col>&lt;chr&gt;</th><th scope=col>&lt;chr&gt;</th></tr>\n",
       "</thead>\n",
       "<tbody>\n",
       "\t<tr><td>no</td><td>no </td><td>no </td><td>yes</td><td>no </td><td>no </td><td>no                 </td></tr>\n",
       "\t<tr><td>no</td><td>no </td><td>yes</td><td>no </td><td>yes</td><td>yes</td><td>strongly suspicious</td></tr>\n",
       "\t<tr><td>no</td><td>yes</td><td>no </td><td>no </td><td>no </td><td>no </td><td>no                 </td></tr>\n",
       "\t<tr><td>no</td><td>no </td><td>no </td><td>no </td><td>no </td><td>no </td><td>no                 </td></tr>\n",
       "\t<tr><td>no</td><td>no </td><td>no </td><td>no </td><td>no </td><td>no </td><td>no                 </td></tr>\n",
       "\t<tr><td>no</td><td>no </td><td>no </td><td>no </td><td>no </td><td>no </td><td>no                 </td></tr>\n",
       "\t<tr><td>no</td><td>no </td><td>no </td><td>no </td><td>no </td><td>no </td><td>no                 </td></tr>\n",
       "\t<tr><td>no</td><td>no </td><td>yes</td><td>no </td><td>no </td><td>no </td><td>no                 </td></tr>\n",
       "\t<tr><td>no</td><td>no </td><td>no </td><td>no </td><td>no </td><td>no </td><td>no                 </td></tr>\n",
       "\t<tr><td>no</td><td>no </td><td>no </td><td>no </td><td>no </td><td>no </td><td>no                 </td></tr>\n",
       "\t<tr><td>no</td><td>no </td><td>no </td><td>no </td><td>no </td><td>no </td><td>no                 </td></tr>\n",
       "\t<tr><td>no</td><td>no </td><td>no </td><td>no </td><td>no </td><td>no </td><td>no                 </td></tr>\n",
       "\t<tr><td>no</td><td>yes</td><td>no </td><td>no </td><td>no </td><td>no </td><td>no                 </td></tr>\n",
       "\t<tr><td>no</td><td>no </td><td>no </td><td>no </td><td>no </td><td>no </td><td>no                 </td></tr>\n",
       "\t<tr><td>no</td><td>no </td><td>no </td><td>no </td><td>no </td><td>no </td><td>no                 </td></tr>\n",
       "\t<tr><td>no</td><td>no </td><td>no </td><td>no </td><td>no </td><td>no </td><td>no                 </td></tr>\n",
       "\t<tr><td>no</td><td>no </td><td>no </td><td>no </td><td>no </td><td>no </td><td>no                 </td></tr>\n",
       "\t<tr><td>no</td><td>no </td><td>no </td><td>no </td><td>no </td><td>no </td><td>no                 </td></tr>\n",
       "\t<tr><td>no</td><td>no </td><td>no </td><td>no </td><td>no </td><td>no </td><td>no                 </td></tr>\n",
       "\t<tr><td>no</td><td>no </td><td>no </td><td>no </td><td>no </td><td>no </td><td>no                 </td></tr>\n",
       "\t<tr><td>no</td><td>no </td><td>no </td><td>yes</td><td>no </td><td>no </td><td>no                 </td></tr>\n",
       "\t<tr><td>no</td><td>no </td><td>no </td><td>no </td><td>no </td><td>no </td><td>no                 </td></tr>\n",
       "\t<tr><td>no</td><td>yes</td><td>yes</td><td>yes</td><td>no </td><td>no </td><td>strongly suspicious</td></tr>\n",
       "\t<tr><td>no</td><td>no </td><td>no </td><td>no </td><td>no </td><td>no </td><td>no                 </td></tr>\n",
       "\t<tr><td>no</td><td>no </td><td>no </td><td>no </td><td>no </td><td>no </td><td>no                 </td></tr>\n",
       "\t<tr><td>no</td><td>no </td><td>no </td><td>no </td><td>yes</td><td>no </td><td>no                 </td></tr>\n",
       "\t<tr><td>no</td><td>no </td><td>no </td><td>no </td><td>no </td><td>no </td><td>no                 </td></tr>\n",
       "\t<tr><td>no</td><td>no </td><td>no </td><td>no </td><td>no </td><td>no </td><td>no                 </td></tr>\n",
       "\t<tr><td>no</td><td>no </td><td>no </td><td>no </td><td>no </td><td>no </td><td>no                 </td></tr>\n",
       "\t<tr><td>no</td><td>no </td><td>no </td><td>no </td><td>no </td><td>no </td><td>no                 </td></tr>\n",
       "\t<tr><td>no</td><td>no </td><td>no </td><td>no </td><td>no </td><td>no </td><td>no                 </td></tr>\n",
       "\t<tr><td>no</td><td>no </td><td>no </td><td>no </td><td>no </td><td>no </td><td>no                 </td></tr>\n",
       "\t<tr><td>no</td><td>no </td><td>no </td><td>no </td><td>no </td><td>no </td><td>no                 </td></tr>\n",
       "</tbody>\n",
       "</table>\n"
      ],
      "text/latex": [
       "A data.frame: 33 × 7\n",
       "\\begin{tabular}{r|lllllll}\n",
       " Attractiveness & Perspicuity & Efficiency & Dependability & Stimulation & Novelty & critical?\\\\\n",
       " <chr> & <chr> & <chr> & <chr> & <chr> & <chr> & <chr>\\\\\n",
       "\\hline\n",
       "\t no & no  & no  & yes & no  & no  & no                 \\\\\n",
       "\t no & no  & yes & no  & yes & yes & strongly suspicious\\\\\n",
       "\t no & yes & no  & no  & no  & no  & no                 \\\\\n",
       "\t no & no  & no  & no  & no  & no  & no                 \\\\\n",
       "\t no & no  & no  & no  & no  & no  & no                 \\\\\n",
       "\t no & no  & no  & no  & no  & no  & no                 \\\\\n",
       "\t no & no  & no  & no  & no  & no  & no                 \\\\\n",
       "\t no & no  & yes & no  & no  & no  & no                 \\\\\n",
       "\t no & no  & no  & no  & no  & no  & no                 \\\\\n",
       "\t no & no  & no  & no  & no  & no  & no                 \\\\\n",
       "\t no & no  & no  & no  & no  & no  & no                 \\\\\n",
       "\t no & no  & no  & no  & no  & no  & no                 \\\\\n",
       "\t no & yes & no  & no  & no  & no  & no                 \\\\\n",
       "\t no & no  & no  & no  & no  & no  & no                 \\\\\n",
       "\t no & no  & no  & no  & no  & no  & no                 \\\\\n",
       "\t no & no  & no  & no  & no  & no  & no                 \\\\\n",
       "\t no & no  & no  & no  & no  & no  & no                 \\\\\n",
       "\t no & no  & no  & no  & no  & no  & no                 \\\\\n",
       "\t no & no  & no  & no  & no  & no  & no                 \\\\\n",
       "\t no & no  & no  & no  & no  & no  & no                 \\\\\n",
       "\t no & no  & no  & yes & no  & no  & no                 \\\\\n",
       "\t no & no  & no  & no  & no  & no  & no                 \\\\\n",
       "\t no & yes & yes & yes & no  & no  & strongly suspicious\\\\\n",
       "\t no & no  & no  & no  & no  & no  & no                 \\\\\n",
       "\t no & no  & no  & no  & no  & no  & no                 \\\\\n",
       "\t no & no  & no  & no  & yes & no  & no                 \\\\\n",
       "\t no & no  & no  & no  & no  & no  & no                 \\\\\n",
       "\t no & no  & no  & no  & no  & no  & no                 \\\\\n",
       "\t no & no  & no  & no  & no  & no  & no                 \\\\\n",
       "\t no & no  & no  & no  & no  & no  & no                 \\\\\n",
       "\t no & no  & no  & no  & no  & no  & no                 \\\\\n",
       "\t no & no  & no  & no  & no  & no  & no                 \\\\\n",
       "\t no & no  & no  & no  & no  & no  & no                 \\\\\n",
       "\\end{tabular}\n"
      ],
      "text/markdown": [
       "\n",
       "A data.frame: 33 × 7\n",
       "\n",
       "| Attractiveness &lt;chr&gt; | Perspicuity &lt;chr&gt; | Efficiency &lt;chr&gt; | Dependability &lt;chr&gt; | Stimulation &lt;chr&gt; | Novelty &lt;chr&gt; | critical? &lt;chr&gt; |\n",
       "|---|---|---|---|---|---|---|\n",
       "| no | no  | no  | yes | no  | no  | no                  |\n",
       "| no | no  | yes | no  | yes | yes | strongly suspicious |\n",
       "| no | yes | no  | no  | no  | no  | no                  |\n",
       "| no | no  | no  | no  | no  | no  | no                  |\n",
       "| no | no  | no  | no  | no  | no  | no                  |\n",
       "| no | no  | no  | no  | no  | no  | no                  |\n",
       "| no | no  | no  | no  | no  | no  | no                  |\n",
       "| no | no  | yes | no  | no  | no  | no                  |\n",
       "| no | no  | no  | no  | no  | no  | no                  |\n",
       "| no | no  | no  | no  | no  | no  | no                  |\n",
       "| no | no  | no  | no  | no  | no  | no                  |\n",
       "| no | no  | no  | no  | no  | no  | no                  |\n",
       "| no | yes | no  | no  | no  | no  | no                  |\n",
       "| no | no  | no  | no  | no  | no  | no                  |\n",
       "| no | no  | no  | no  | no  | no  | no                  |\n",
       "| no | no  | no  | no  | no  | no  | no                  |\n",
       "| no | no  | no  | no  | no  | no  | no                  |\n",
       "| no | no  | no  | no  | no  | no  | no                  |\n",
       "| no | no  | no  | no  | no  | no  | no                  |\n",
       "| no | no  | no  | no  | no  | no  | no                  |\n",
       "| no | no  | no  | yes | no  | no  | no                  |\n",
       "| no | no  | no  | no  | no  | no  | no                  |\n",
       "| no | yes | yes | yes | no  | no  | strongly suspicious |\n",
       "| no | no  | no  | no  | no  | no  | no                  |\n",
       "| no | no  | no  | no  | no  | no  | no                  |\n",
       "| no | no  | no  | no  | yes | no  | no                  |\n",
       "| no | no  | no  | no  | no  | no  | no                  |\n",
       "| no | no  | no  | no  | no  | no  | no                  |\n",
       "| no | no  | no  | no  | no  | no  | no                  |\n",
       "| no | no  | no  | no  | no  | no  | no                  |\n",
       "| no | no  | no  | no  | no  | no  | no                  |\n",
       "| no | no  | no  | no  | no  | no  | no                  |\n",
       "| no | no  | no  | no  | no  | no  | no                  |\n",
       "\n"
      ],
      "text/plain": [
       "   Attractiveness Perspicuity Efficiency Dependability Stimulation Novelty\n",
       "1  no             no          no         yes           no          no     \n",
       "2  no             no          yes        no            yes         yes    \n",
       "3  no             yes         no         no            no          no     \n",
       "4  no             no          no         no            no          no     \n",
       "5  no             no          no         no            no          no     \n",
       "6  no             no          no         no            no          no     \n",
       "7  no             no          no         no            no          no     \n",
       "8  no             no          yes        no            no          no     \n",
       "9  no             no          no         no            no          no     \n",
       "10 no             no          no         no            no          no     \n",
       "11 no             no          no         no            no          no     \n",
       "12 no             no          no         no            no          no     \n",
       "13 no             yes         no         no            no          no     \n",
       "14 no             no          no         no            no          no     \n",
       "15 no             no          no         no            no          no     \n",
       "16 no             no          no         no            no          no     \n",
       "17 no             no          no         no            no          no     \n",
       "18 no             no          no         no            no          no     \n",
       "19 no             no          no         no            no          no     \n",
       "20 no             no          no         no            no          no     \n",
       "21 no             no          no         yes           no          no     \n",
       "22 no             no          no         no            no          no     \n",
       "23 no             yes         yes        yes           no          no     \n",
       "24 no             no          no         no            no          no     \n",
       "25 no             no          no         no            no          no     \n",
       "26 no             no          no         no            yes         no     \n",
       "27 no             no          no         no            no          no     \n",
       "28 no             no          no         no            no          no     \n",
       "29 no             no          no         no            no          no     \n",
       "30 no             no          no         no            no          no     \n",
       "31 no             no          no         no            no          no     \n",
       "32 no             no          no         no            no          no     \n",
       "33 no             no          no         no            no          no     \n",
       "   critical?          \n",
       "1  no                 \n",
       "2  strongly suspicious\n",
       "3  no                 \n",
       "4  no                 \n",
       "5  no                 \n",
       "6  no                 \n",
       "7  no                 \n",
       "8  no                 \n",
       "9  no                 \n",
       "10 no                 \n",
       "11 no                 \n",
       "12 no                 \n",
       "13 no                 \n",
       "14 no                 \n",
       "15 no                 \n",
       "16 no                 \n",
       "17 no                 \n",
       "18 no                 \n",
       "19 no                 \n",
       "20 no                 \n",
       "21 no                 \n",
       "22 no                 \n",
       "23 strongly suspicious\n",
       "24 no                 \n",
       "25 no                 \n",
       "26 no                 \n",
       "27 no                 \n",
       "28 no                 \n",
       "29 no                 \n",
       "30 no                 \n",
       "31 no                 \n",
       "32 no                 \n",
       "33 no                 "
      ]
     },
     "metadata": {},
     "output_type": "display_data"
    }
   ],
   "source": [
    "## check data for inconstencies\n",
    "inconsistencies(rescaled_data = DT, spec = \"text\")"
   ]
  },
  {
   "cell_type": "code",
   "execution_count": 12,
   "metadata": {
    "ExecuteTime": {
     "end_time": "2020-07-23T20:12:53.286683Z",
     "start_time": "2020-07-23T20:12:46.762Z"
    }
   },
   "outputs": [
    {
     "data": {
      "text/html": [
       "<ol class=list-inline>\n",
       "\t<li>2</li>\n",
       "\t<li>23</li>\n",
       "</ol>\n"
      ],
      "text/latex": [
       "\\begin{enumerate*}\n",
       "\\item 2\n",
       "\\item 23\n",
       "\\end{enumerate*}\n"
      ],
      "text/markdown": [
       "1. 2\n",
       "2. 23\n",
       "\n",
       "\n"
      ],
      "text/plain": [
       "[1]  2 23"
      ]
     },
     "metadata": {},
     "output_type": "display_data"
    }
   ],
   "source": [
    "## which responces are suggested to be deleted\n",
    "remove_rows <- inconsistencies(rescaled_data = DT, spec = \"remove\")\n",
    "remove_rows"
   ]
  },
  {
   "cell_type": "code",
   "execution_count": 13,
   "metadata": {
    "ExecuteTime": {
     "end_time": "2020-07-23T20:12:53.314757Z",
     "start_time": "2020-07-23T20:12:46.770Z"
    },
    "scrolled": true
   },
   "outputs": [],
   "source": [
    "## if we want we can remove suspicious responces - just delete \"#\" sign in the row below\n",
    "#DT <- DT[-remove_rows,]; DT\n",
    "#weights <- weights[-remove_rows]; weights"
   ]
  },
  {
   "cell_type": "markdown",
   "metadata": {},
   "source": [
    "## Analysis of items"
   ]
  },
  {
   "cell_type": "code",
   "execution_count": 14,
   "metadata": {
    "ExecuteTime": {
     "end_time": "2020-07-23T20:12:53.365539Z",
     "start_time": "2020-07-23T20:12:46.781Z"
    },
    "scrolled": true
   },
   "outputs": [
    {
     "data": {
      "text/html": [
       "<dl class=dl-horizontal>\n",
       "\t<dt>UEQ1</dt>\n",
       "\t\t<dd>1.39393939393939</dd>\n",
       "\t<dt>UEQ2</dt>\n",
       "\t\t<dd>1.66666666666667</dd>\n",
       "\t<dt>UEQ3</dt>\n",
       "\t\t<dd>0.939393939393939</dd>\n",
       "\t<dt>UEQ4</dt>\n",
       "\t\t<dd>1.48484848484848</dd>\n",
       "\t<dt>UEQ5</dt>\n",
       "\t\t<dd>1.57575757575758</dd>\n",
       "\t<dt>UEQ6</dt>\n",
       "\t\t<dd>0.393939393939394</dd>\n",
       "\t<dt>UEQ7</dt>\n",
       "\t\t<dd>1.27272727272727</dd>\n",
       "\t<dt>UEQ8</dt>\n",
       "\t\t<dd>0.575757575757576</dd>\n",
       "\t<dt>UEQ9</dt>\n",
       "\t\t<dd>1.24242424242424</dd>\n",
       "\t<dt>UEQ10</dt>\n",
       "\t\t<dd>1.6969696969697</dd>\n",
       "\t<dt>UEQ11</dt>\n",
       "\t\t<dd>1.42424242424242</dd>\n",
       "\t<dt>UEQ12</dt>\n",
       "\t\t<dd>1.75757575757576</dd>\n",
       "\t<dt>UEQ13</dt>\n",
       "\t\t<dd>0.848484848484849</dd>\n",
       "\t<dt>UEQ14</dt>\n",
       "\t\t<dd>0.878787878787879</dd>\n",
       "\t<dt>UEQ15</dt>\n",
       "\t\t<dd>0.909090909090909</dd>\n",
       "\t<dt>UEQ16</dt>\n",
       "\t\t<dd>1.21212121212121</dd>\n",
       "\t<dt>UEQ17</dt>\n",
       "\t\t<dd>1.39393939393939</dd>\n",
       "\t<dt>UEQ18</dt>\n",
       "\t\t<dd>1.54545454545455</dd>\n",
       "\t<dt>UEQ19</dt>\n",
       "\t\t<dd>1.27272727272727</dd>\n",
       "\t<dt>UEQ20</dt>\n",
       "\t\t<dd>1.39393939393939</dd>\n",
       "\t<dt>UEQ21</dt>\n",
       "\t\t<dd>1.57575757575758</dd>\n",
       "\t<dt>UEQ22</dt>\n",
       "\t\t<dd>1.60606060606061</dd>\n",
       "\t<dt>UEQ23</dt>\n",
       "\t\t<dd>1.54545454545455</dd>\n",
       "\t<dt>UEQ24</dt>\n",
       "\t\t<dd>1.18181818181818</dd>\n",
       "\t<dt>UEQ25</dt>\n",
       "\t\t<dd>1.48484848484848</dd>\n",
       "\t<dt>UEQ26</dt>\n",
       "\t\t<dd>1.45454545454545</dd>\n",
       "</dl>\n"
      ],
      "text/latex": [
       "\\begin{description*}\n",
       "\\item[UEQ1] 1.39393939393939\n",
       "\\item[UEQ2] 1.66666666666667\n",
       "\\item[UEQ3] 0.939393939393939\n",
       "\\item[UEQ4] 1.48484848484848\n",
       "\\item[UEQ5] 1.57575757575758\n",
       "\\item[UEQ6] 0.393939393939394\n",
       "\\item[UEQ7] 1.27272727272727\n",
       "\\item[UEQ8] 0.575757575757576\n",
       "\\item[UEQ9] 1.24242424242424\n",
       "\\item[UEQ10] 1.6969696969697\n",
       "\\item[UEQ11] 1.42424242424242\n",
       "\\item[UEQ12] 1.75757575757576\n",
       "\\item[UEQ13] 0.848484848484849\n",
       "\\item[UEQ14] 0.878787878787879\n",
       "\\item[UEQ15] 0.909090909090909\n",
       "\\item[UEQ16] 1.21212121212121\n",
       "\\item[UEQ17] 1.39393939393939\n",
       "\\item[UEQ18] 1.54545454545455\n",
       "\\item[UEQ19] 1.27272727272727\n",
       "\\item[UEQ20] 1.39393939393939\n",
       "\\item[UEQ21] 1.57575757575758\n",
       "\\item[UEQ22] 1.60606060606061\n",
       "\\item[UEQ23] 1.54545454545455\n",
       "\\item[UEQ24] 1.18181818181818\n",
       "\\item[UEQ25] 1.48484848484848\n",
       "\\item[UEQ26] 1.45454545454545\n",
       "\\end{description*}\n"
      ],
      "text/markdown": [
       "UEQ1\n",
       ":   1.39393939393939UEQ2\n",
       ":   1.66666666666667UEQ3\n",
       ":   0.939393939393939UEQ4\n",
       ":   1.48484848484848UEQ5\n",
       ":   1.57575757575758UEQ6\n",
       ":   0.393939393939394UEQ7\n",
       ":   1.27272727272727UEQ8\n",
       ":   0.575757575757576UEQ9\n",
       ":   1.24242424242424UEQ10\n",
       ":   1.6969696969697UEQ11\n",
       ":   1.42424242424242UEQ12\n",
       ":   1.75757575757576UEQ13\n",
       ":   0.848484848484849UEQ14\n",
       ":   0.878787878787879UEQ15\n",
       ":   0.909090909090909UEQ16\n",
       ":   1.21212121212121UEQ17\n",
       ":   1.39393939393939UEQ18\n",
       ":   1.54545454545455UEQ19\n",
       ":   1.27272727272727UEQ20\n",
       ":   1.39393939393939UEQ21\n",
       ":   1.57575757575758UEQ22\n",
       ":   1.60606060606061UEQ23\n",
       ":   1.54545454545455UEQ24\n",
       ":   1.18181818181818UEQ25\n",
       ":   1.48484848484848UEQ26\n",
       ":   1.45454545454545\n",
       "\n"
      ],
      "text/plain": [
       "     UEQ1      UEQ2      UEQ3      UEQ4      UEQ5      UEQ6      UEQ7      UEQ8 \n",
       "1.3939394 1.6666667 0.9393939 1.4848485 1.5757576 0.3939394 1.2727273 0.5757576 \n",
       "     UEQ9     UEQ10     UEQ11     UEQ12     UEQ13     UEQ14     UEQ15     UEQ16 \n",
       "1.2424242 1.6969697 1.4242424 1.7575758 0.8484848 0.8787879 0.9090909 1.2121212 \n",
       "    UEQ17     UEQ18     UEQ19     UEQ20     UEQ21     UEQ22     UEQ23     UEQ24 \n",
       "1.3939394 1.5454545 1.2727273 1.3939394 1.5757576 1.6060606 1.5454545 1.1818182 \n",
       "    UEQ25     UEQ26 \n",
       "1.4848485 1.4545455 "
      ]
     },
     "metadata": {},
     "output_type": "display_data"
    }
   ],
   "source": [
    "## mean values per item\n",
    "item_mean(DT)"
   ]
  },
  {
   "cell_type": "code",
   "execution_count": 15,
   "metadata": {
    "ExecuteTime": {
     "end_time": "2020-07-23T20:12:53.836059Z",
     "start_time": "2020-07-23T20:12:46.793Z"
    },
    "scrolled": false
   },
   "outputs": [
    {
     "data": {
      "image/png": "[encoded data removed]",
      "text/plain": [
       "plot without title"
      ]
     },
     "metadata": {},
     "output_type": "display_data"
    }
   ],
   "source": [
    "## plot of item means\n",
    "options(repr.plot.width=8, repr.plot.height=6)\n",
    "plot_items(rescaled_data = DT)"
   ]
  },
  {
   "cell_type": "markdown",
   "metadata": {},
   "source": [
    "## Analysis of responses"
   ]
  },
  {
   "cell_type": "code",
   "execution_count": 16,
   "metadata": {
    "ExecuteTime": {
     "end_time": "2020-07-23T20:12:53.963140Z",
     "start_time": "2020-07-23T20:12:46.811Z"
    },
    "scrolled": true
   },
   "outputs": [
    {
     "data": {
      "text/html": [
       "<table>\n",
       "<caption>A data.frame: 33 × 6</caption>\n",
       "<thead>\n",
       "\t<tr><th scope=col>Attractiveness</th><th scope=col>Perspicuity</th><th scope=col>Efficiency</th><th scope=col>Dependability</th><th scope=col>Stimulation</th><th scope=col>Novelty</th></tr>\n",
       "\t<tr><th scope=col>&lt;dbl&gt;</th><th scope=col>&lt;dbl&gt;</th><th scope=col>&lt;dbl&gt;</th><th scope=col>&lt;dbl&gt;</th><th scope=col>&lt;dbl&gt;</th><th scope=col>&lt;dbl&gt;</th></tr>\n",
       "</thead>\n",
       "<tbody>\n",
       "\t<tr><td> 2.6666667</td><td> 1.50</td><td> 1.25</td><td> 1.75</td><td> 2.50</td><td> 3.00</td></tr>\n",
       "\t<tr><td>-0.6666667</td><td> 0.00</td><td> 0.00</td><td> 0.00</td><td>-0.50</td><td>-1.00</td></tr>\n",
       "\t<tr><td> 1.6666667</td><td> 0.25</td><td> 2.25</td><td>-0.75</td><td> 1.25</td><td> 2.75</td></tr>\n",
       "\t<tr><td> 0.5000000</td><td> 0.25</td><td> 0.75</td><td> 0.50</td><td>-0.25</td><td> 0.50</td></tr>\n",
       "\t<tr><td> 2.6666667</td><td> 2.00</td><td> 3.00</td><td> 2.25</td><td> 2.75</td><td> 2.75</td></tr>\n",
       "\t<tr><td> 1.0000000</td><td> 0.50</td><td> 0.50</td><td> 0.75</td><td> 1.50</td><td> 0.25</td></tr>\n",
       "\t<tr><td> 1.0000000</td><td> 2.00</td><td> 1.75</td><td> 1.50</td><td> 1.50</td><td> 1.75</td></tr>\n",
       "\t<tr><td> 1.6666667</td><td> 0.50</td><td> 0.75</td><td> 1.50</td><td> 1.00</td><td> 1.75</td></tr>\n",
       "\t<tr><td> 0.5000000</td><td>-0.25</td><td> 0.25</td><td> 0.00</td><td> 1.00</td><td> 0.00</td></tr>\n",
       "\t<tr><td> 2.3333333</td><td> 2.50</td><td> 2.25</td><td> 2.25</td><td> 2.00</td><td> 1.50</td></tr>\n",
       "\t<tr><td> 0.8333333</td><td> 3.00</td><td> 1.50</td><td> 0.50</td><td> 1.75</td><td> 0.75</td></tr>\n",
       "\t<tr><td> 2.5000000</td><td> 2.50</td><td> 2.50</td><td> 2.75</td><td> 2.25</td><td> 2.00</td></tr>\n",
       "\t<tr><td> 2.1666667</td><td> 1.25</td><td> 2.25</td><td> 2.00</td><td> 0.75</td><td> 1.50</td></tr>\n",
       "\t<tr><td>-1.0000000</td><td>-1.00</td><td>-0.75</td><td> 0.00</td><td>-1.00</td><td> 0.00</td></tr>\n",
       "\t<tr><td> 1.8333333</td><td> 2.00</td><td> 1.75</td><td> 1.75</td><td> 1.75</td><td> 1.50</td></tr>\n",
       "\t<tr><td> 1.3333333</td><td> 2.00</td><td> 2.00</td><td> 1.75</td><td> 1.75</td><td> 1.75</td></tr>\n",
       "\t<tr><td> 0.1666667</td><td> 0.25</td><td> 0.50</td><td> 0.25</td><td> 0.00</td><td> 0.75</td></tr>\n",
       "\t<tr><td> 0.5000000</td><td> 1.50</td><td> 0.00</td><td> 0.00</td><td> 0.75</td><td> 0.00</td></tr>\n",
       "\t<tr><td> 2.1666667</td><td> 1.25</td><td> 2.25</td><td> 2.00</td><td> 1.50</td><td> 2.00</td></tr>\n",
       "\t<tr><td> 1.3333333</td><td> 1.50</td><td> 1.75</td><td> 1.75</td><td> 1.50</td><td> 0.25</td></tr>\n",
       "\t<tr><td> 2.1666667</td><td> 2.75</td><td> 2.00</td><td> 0.50</td><td> 2.25</td><td> 2.25</td></tr>\n",
       "\t<tr><td> 1.8333333</td><td> 2.75</td><td> 2.00</td><td> 2.25</td><td> 1.75</td><td> 1.00</td></tr>\n",
       "\t<tr><td> 1.6666667</td><td> 1.50</td><td> 1.75</td><td> 1.75</td><td> 2.50</td><td> 2.75</td></tr>\n",
       "\t<tr><td> 2.5000000</td><td> 2.75</td><td> 2.25</td><td> 2.50</td><td> 2.00</td><td> 2.25</td></tr>\n",
       "\t<tr><td> 0.8333333</td><td> 1.25</td><td> 1.50</td><td> 1.25</td><td> 0.50</td><td> 1.50</td></tr>\n",
       "\t<tr><td> 1.1666667</td><td> 0.50</td><td> 0.50</td><td> 0.25</td><td> 0.00</td><td> 1.25</td></tr>\n",
       "\t<tr><td> 2.6666667</td><td> 2.50</td><td> 2.75</td><td> 1.75</td><td> 1.75</td><td> 2.25</td></tr>\n",
       "\t<tr><td> 1.1666667</td><td> 1.75</td><td> 2.50</td><td> 1.50</td><td> 0.75</td><td> 0.75</td></tr>\n",
       "\t<tr><td> 0.3333333</td><td> 0.25</td><td> 0.75</td><td> 0.75</td><td> 0.75</td><td> 0.50</td></tr>\n",
       "\t<tr><td> 1.0000000</td><td> 2.00</td><td> 1.50</td><td> 0.25</td><td> 1.25</td><td> 1.25</td></tr>\n",
       "\t<tr><td> 2.0000000</td><td> 2.00</td><td> 2.00</td><td> 2.25</td><td> 1.75</td><td> 1.50</td></tr>\n",
       "\t<tr><td> 0.8333333</td><td> 1.00</td><td> 1.25</td><td> 0.50</td><td> 0.50</td><td> 0.25</td></tr>\n",
       "\t<tr><td> 0.1666667</td><td> 1.50</td><td> 0.50</td><td> 0.50</td><td> 0.00</td><td> 0.00</td></tr>\n",
       "</tbody>\n",
       "</table>\n"
      ],
      "text/latex": [
       "A data.frame: 33 × 6\n",
       "\\begin{tabular}{r|llllll}\n",
       " Attractiveness & Perspicuity & Efficiency & Dependability & Stimulation & Novelty\\\\\n",
       " <dbl> & <dbl> & <dbl> & <dbl> & <dbl> & <dbl>\\\\\n",
       "\\hline\n",
       "\t  2.6666667 &  1.50 &  1.25 &  1.75 &  2.50 &  3.00\\\\\n",
       "\t -0.6666667 &  0.00 &  0.00 &  0.00 & -0.50 & -1.00\\\\\n",
       "\t  1.6666667 &  0.25 &  2.25 & -0.75 &  1.25 &  2.75\\\\\n",
       "\t  0.5000000 &  0.25 &  0.75 &  0.50 & -0.25 &  0.50\\\\\n",
       "\t  2.6666667 &  2.00 &  3.00 &  2.25 &  2.75 &  2.75\\\\\n",
       "\t  1.0000000 &  0.50 &  0.50 &  0.75 &  1.50 &  0.25\\\\\n",
       "\t  1.0000000 &  2.00 &  1.75 &  1.50 &  1.50 &  1.75\\\\\n",
       "\t  1.6666667 &  0.50 &  0.75 &  1.50 &  1.00 &  1.75\\\\\n",
       "\t  0.5000000 & -0.25 &  0.25 &  0.00 &  1.00 &  0.00\\\\\n",
       "\t  2.3333333 &  2.50 &  2.25 &  2.25 &  2.00 &  1.50\\\\\n",
       "\t  0.8333333 &  3.00 &  1.50 &  0.50 &  1.75 &  0.75\\\\\n",
       "\t  2.5000000 &  2.50 &  2.50 &  2.75 &  2.25 &  2.00\\\\\n",
       "\t  2.1666667 &  1.25 &  2.25 &  2.00 &  0.75 &  1.50\\\\\n",
       "\t -1.0000000 & -1.00 & -0.75 &  0.00 & -1.00 &  0.00\\\\\n",
       "\t  1.8333333 &  2.00 &  1.75 &  1.75 &  1.75 &  1.50\\\\\n",
       "\t  1.3333333 &  2.00 &  2.00 &  1.75 &  1.75 &  1.75\\\\\n",
       "\t  0.1666667 &  0.25 &  0.50 &  0.25 &  0.00 &  0.75\\\\\n",
       "\t  0.5000000 &  1.50 &  0.00 &  0.00 &  0.75 &  0.00\\\\\n",
       "\t  2.1666667 &  1.25 &  2.25 &  2.00 &  1.50 &  2.00\\\\\n",
       "\t  1.3333333 &  1.50 &  1.75 &  1.75 &  1.50 &  0.25\\\\\n",
       "\t  2.1666667 &  2.75 &  2.00 &  0.50 &  2.25 &  2.25\\\\\n",
       "\t  1.8333333 &  2.75 &  2.00 &  2.25 &  1.75 &  1.00\\\\\n",
       "\t  1.6666667 &  1.50 &  1.75 &  1.75 &  2.50 &  2.75\\\\\n",
       "\t  2.5000000 &  2.75 &  2.25 &  2.50 &  2.00 &  2.25\\\\\n",
       "\t  0.8333333 &  1.25 &  1.50 &  1.25 &  0.50 &  1.50\\\\\n",
       "\t  1.1666667 &  0.50 &  0.50 &  0.25 &  0.00 &  1.25\\\\\n",
       "\t  2.6666667 &  2.50 &  2.75 &  1.75 &  1.75 &  2.25\\\\\n",
       "\t  1.1666667 &  1.75 &  2.50 &  1.50 &  0.75 &  0.75\\\\\n",
       "\t  0.3333333 &  0.25 &  0.75 &  0.75 &  0.75 &  0.50\\\\\n",
       "\t  1.0000000 &  2.00 &  1.50 &  0.25 &  1.25 &  1.25\\\\\n",
       "\t  2.0000000 &  2.00 &  2.00 &  2.25 &  1.75 &  1.50\\\\\n",
       "\t  0.8333333 &  1.00 &  1.25 &  0.50 &  0.50 &  0.25\\\\\n",
       "\t  0.1666667 &  1.50 &  0.50 &  0.50 &  0.00 &  0.00\\\\\n",
       "\\end{tabular}\n"
      ],
      "text/markdown": [
       "\n",
       "A data.frame: 33 × 6\n",
       "\n",
       "| Attractiveness &lt;dbl&gt; | Perspicuity &lt;dbl&gt; | Efficiency &lt;dbl&gt; | Dependability &lt;dbl&gt; | Stimulation &lt;dbl&gt; | Novelty &lt;dbl&gt; |\n",
       "|---|---|---|---|---|---|\n",
       "|  2.6666667 |  1.50 |  1.25 |  1.75 |  2.50 |  3.00 |\n",
       "| -0.6666667 |  0.00 |  0.00 |  0.00 | -0.50 | -1.00 |\n",
       "|  1.6666667 |  0.25 |  2.25 | -0.75 |  1.25 |  2.75 |\n",
       "|  0.5000000 |  0.25 |  0.75 |  0.50 | -0.25 |  0.50 |\n",
       "|  2.6666667 |  2.00 |  3.00 |  2.25 |  2.75 |  2.75 |\n",
       "|  1.0000000 |  0.50 |  0.50 |  0.75 |  1.50 |  0.25 |\n",
       "|  1.0000000 |  2.00 |  1.75 |  1.50 |  1.50 |  1.75 |\n",
       "|  1.6666667 |  0.50 |  0.75 |  1.50 |  1.00 |  1.75 |\n",
       "|  0.5000000 | -0.25 |  0.25 |  0.00 |  1.00 |  0.00 |\n",
       "|  2.3333333 |  2.50 |  2.25 |  2.25 |  2.00 |  1.50 |\n",
       "|  0.8333333 |  3.00 |  1.50 |  0.50 |  1.75 |  0.75 |\n",
       "|  2.5000000 |  2.50 |  2.50 |  2.75 |  2.25 |  2.00 |\n",
       "|  2.1666667 |  1.25 |  2.25 |  2.00 |  0.75 |  1.50 |\n",
       "| -1.0000000 | -1.00 | -0.75 |  0.00 | -1.00 |  0.00 |\n",
       "|  1.8333333 |  2.00 |  1.75 |  1.75 |  1.75 |  1.50 |\n",
       "|  1.3333333 |  2.00 |  2.00 |  1.75 |  1.75 |  1.75 |\n",
       "|  0.1666667 |  0.25 |  0.50 |  0.25 |  0.00 |  0.75 |\n",
       "|  0.5000000 |  1.50 |  0.00 |  0.00 |  0.75 |  0.00 |\n",
       "|  2.1666667 |  1.25 |  2.25 |  2.00 |  1.50 |  2.00 |\n",
       "|  1.3333333 |  1.50 |  1.75 |  1.75 |  1.50 |  0.25 |\n",
       "|  2.1666667 |  2.75 |  2.00 |  0.50 |  2.25 |  2.25 |\n",
       "|  1.8333333 |  2.75 |  2.00 |  2.25 |  1.75 |  1.00 |\n",
       "|  1.6666667 |  1.50 |  1.75 |  1.75 |  2.50 |  2.75 |\n",
       "|  2.5000000 |  2.75 |  2.25 |  2.50 |  2.00 |  2.25 |\n",
       "|  0.8333333 |  1.25 |  1.50 |  1.25 |  0.50 |  1.50 |\n",
       "|  1.1666667 |  0.50 |  0.50 |  0.25 |  0.00 |  1.25 |\n",
       "|  2.6666667 |  2.50 |  2.75 |  1.75 |  1.75 |  2.25 |\n",
       "|  1.1666667 |  1.75 |  2.50 |  1.50 |  0.75 |  0.75 |\n",
       "|  0.3333333 |  0.25 |  0.75 |  0.75 |  0.75 |  0.50 |\n",
       "|  1.0000000 |  2.00 |  1.50 |  0.25 |  1.25 |  1.25 |\n",
       "|  2.0000000 |  2.00 |  2.00 |  2.25 |  1.75 |  1.50 |\n",
       "|  0.8333333 |  1.00 |  1.25 |  0.50 |  0.50 |  0.25 |\n",
       "|  0.1666667 |  1.50 |  0.50 |  0.50 |  0.00 |  0.00 |\n",
       "\n"
      ],
      "text/plain": [
       "   Attractiveness Perspicuity Efficiency Dependability Stimulation Novelty\n",
       "1   2.6666667      1.50        1.25       1.75          2.50        3.00  \n",
       "2  -0.6666667      0.00        0.00       0.00         -0.50       -1.00  \n",
       "3   1.6666667      0.25        2.25      -0.75          1.25        2.75  \n",
       "4   0.5000000      0.25        0.75       0.50         -0.25        0.50  \n",
       "5   2.6666667      2.00        3.00       2.25          2.75        2.75  \n",
       "6   1.0000000      0.50        0.50       0.75          1.50        0.25  \n",
       "7   1.0000000      2.00        1.75       1.50          1.50        1.75  \n",
       "8   1.6666667      0.50        0.75       1.50          1.00        1.75  \n",
       "9   0.5000000     -0.25        0.25       0.00          1.00        0.00  \n",
       "10  2.3333333      2.50        2.25       2.25          2.00        1.50  \n",
       "11  0.8333333      3.00        1.50       0.50          1.75        0.75  \n",
       "12  2.5000000      2.50        2.50       2.75          2.25        2.00  \n",
       "13  2.1666667      1.25        2.25       2.00          0.75        1.50  \n",
       "14 -1.0000000     -1.00       -0.75       0.00         -1.00        0.00  \n",
       "15  1.8333333      2.00        1.75       1.75          1.75        1.50  \n",
       "16  1.3333333      2.00        2.00       1.75          1.75        1.75  \n",
       "17  0.1666667      0.25        0.50       0.25          0.00        0.75  \n",
       "18  0.5000000      1.50        0.00       0.00          0.75        0.00  \n",
       "19  2.1666667      1.25        2.25       2.00          1.50        2.00  \n",
       "20  1.3333333      1.50        1.75       1.75          1.50        0.25  \n",
       "21  2.1666667      2.75        2.00       0.50          2.25        2.25  \n",
       "22  1.8333333      2.75        2.00       2.25          1.75        1.00  \n",
       "23  1.6666667      1.50        1.75       1.75          2.50        2.75  \n",
       "24  2.5000000      2.75        2.25       2.50          2.00        2.25  \n",
       "25  0.8333333      1.25        1.50       1.25          0.50        1.50  \n",
       "26  1.1666667      0.50        0.50       0.25          0.00        1.25  \n",
       "27  2.6666667      2.50        2.75       1.75          1.75        2.25  \n",
       "28  1.1666667      1.75        2.50       1.50          0.75        0.75  \n",
       "29  0.3333333      0.25        0.75       0.75          0.75        0.50  \n",
       "30  1.0000000      2.00        1.50       0.25          1.25        1.25  \n",
       "31  2.0000000      2.00        2.00       2.25          1.75        1.50  \n",
       "32  0.8333333      1.00        1.25       0.50          0.50        0.25  \n",
       "33  0.1666667      1.50        0.50       0.50          0.00        0.00  "
      ]
     },
     "metadata": {},
     "output_type": "display_data"
    }
   ],
   "source": [
    "## means per person\n",
    "tab <- means_person(rescaled_data = DT)\n",
    "tab"
   ]
  },
  {
   "cell_type": "code",
   "execution_count": 17,
   "metadata": {
    "ExecuteTime": {
     "end_time": "2020-07-23T20:12:54.010426Z",
     "start_time": "2020-07-23T20:12:46.820Z"
    }
   },
   "outputs": [
    {
     "data": {
      "text/html": [
       "<dl class=dl-horizontal>\n",
       "\t<dt>Attractiveness</dt>\n",
       "\t\t<dd>1.28438223223258</dd>\n",
       "\t<dt>Perspicuity</dt>\n",
       "\t\t<dd>1.3706609509996</dd>\n",
       "\t<dt>Efficiency</dt>\n",
       "\t\t<dd>1.42795907026079</dd>\n",
       "\t<dt>Dependability</dt>\n",
       "\t\t<dd>1.11261305236146</dd>\n",
       "\t<dt>Stimulation</dt>\n",
       "\t\t<dd>1.17629016056089</dd>\n",
       "\t<dt>Novelty</dt>\n",
       "\t\t<dd>1.2511126064666</dd>\n",
       "</dl>\n"
      ],
      "text/latex": [
       "\\begin{description*}\n",
       "\\item[Attractiveness] 1.28438223223258\n",
       "\\item[Perspicuity] 1.3706609509996\n",
       "\\item[Efficiency] 1.42795907026079\n",
       "\\item[Dependability] 1.11261305236146\n",
       "\\item[Stimulation] 1.17629016056089\n",
       "\\item[Novelty] 1.2511126064666\n",
       "\\end{description*}\n"
      ],
      "text/markdown": [
       "Attractiveness\n",
       ":   1.28438223223258Perspicuity\n",
       ":   1.3706609509996Efficiency\n",
       ":   1.42795907026079Dependability\n",
       ":   1.11261305236146Stimulation\n",
       ":   1.17629016056089Novelty\n",
       ":   1.2511126064666\n",
       "\n"
      ],
      "text/plain": [
       "Attractiveness    Perspicuity     Efficiency  Dependability    Stimulation \n",
       "      1.284382       1.370661       1.427959       1.112613       1.176290 \n",
       "       Novelty \n",
       "      1.251113 "
      ]
     },
     "metadata": {},
     "output_type": "display_data"
    }
   ],
   "source": [
    "## mean, standard deviaton and variance for each dimension\n",
    "dim_means <- dimensions_mean(data = tab, weights = weights)\n",
    "dim_means"
   ]
  },
  {
   "cell_type": "code",
   "execution_count": 18,
   "metadata": {
    "ExecuteTime": {
     "end_time": "2020-07-23T20:12:54.055274Z",
     "start_time": "2020-07-23T20:12:46.840Z"
    }
   },
   "outputs": [
    {
     "data": {
      "text/html": [
       "<dl class=dl-horizontal>\n",
       "\t<dt>Attractiveness</dt>\n",
       "\t\t<dd>0.949851397363097</dd>\n",
       "\t<dt>Perspicuity</dt>\n",
       "\t\t<dd>1.01157450878837</dd>\n",
       "\t<dt>Efficiency</dt>\n",
       "\t\t<dd>0.917452963607881</dd>\n",
       "\t<dt>Dependability</dt>\n",
       "\t\t<dd>0.907199064664534</dd>\n",
       "\t<dt>Stimulation</dt>\n",
       "\t\t<dd>0.918658335197891</dd>\n",
       "\t<dt>Novelty</dt>\n",
       "\t\t<dd>0.975777909769585</dd>\n",
       "</dl>\n"
      ],
      "text/latex": [
       "\\begin{description*}\n",
       "\\item[Attractiveness] 0.949851397363097\n",
       "\\item[Perspicuity] 1.01157450878837\n",
       "\\item[Efficiency] 0.917452963607881\n",
       "\\item[Dependability] 0.907199064664534\n",
       "\\item[Stimulation] 0.918658335197891\n",
       "\\item[Novelty] 0.975777909769585\n",
       "\\end{description*}\n"
      ],
      "text/markdown": [
       "Attractiveness\n",
       ":   0.949851397363097Perspicuity\n",
       ":   1.01157450878837Efficiency\n",
       ":   0.917452963607881Dependability\n",
       ":   0.907199064664534Stimulation\n",
       ":   0.918658335197891Novelty\n",
       ":   0.975777909769585\n",
       "\n"
      ],
      "text/plain": [
       "Attractiveness    Perspicuity     Efficiency  Dependability    Stimulation \n",
       "     0.9498514      1.0115745      0.9174530      0.9071991      0.9186583 \n",
       "       Novelty \n",
       "     0.9757779 "
      ]
     },
     "metadata": {},
     "output_type": "display_data"
    }
   ],
   "source": [
    "dimensions_deviation(data = tab, weights = weights)"
   ]
  },
  {
   "cell_type": "code",
   "execution_count": 19,
   "metadata": {
    "ExecuteTime": {
     "end_time": "2020-07-23T20:12:54.096490Z",
     "start_time": "2020-07-23T20:12:46.857Z"
    }
   },
   "outputs": [
    {
     "data": {
      "text/html": [
       "<dl class=dl-horizontal>\n",
       "\t<dt>Attractiveness</dt>\n",
       "\t\t<dd>0.165347904759212</dd>\n",
       "\t<dt>Perspicuity</dt>\n",
       "\t\t<dd>0.176092519314416</dd>\n",
       "\t<dt>Efficiency</dt>\n",
       "\t\t<dd>0.159708061354468</dd>\n",
       "\t<dt>Dependability</dt>\n",
       "\t\t<dd>0.157923086662004</dd>\n",
       "\t<dt>Stimulation</dt>\n",
       "\t\t<dd>0.159917889615413</dd>\n",
       "\t<dt>Novelty</dt>\n",
       "\t\t<dd>0.16986113126604</dd>\n",
       "</dl>\n"
      ],
      "text/latex": [
       "\\begin{description*}\n",
       "\\item[Attractiveness] 0.165347904759212\n",
       "\\item[Perspicuity] 0.176092519314416\n",
       "\\item[Efficiency] 0.159708061354468\n",
       "\\item[Dependability] 0.157923086662004\n",
       "\\item[Stimulation] 0.159917889615413\n",
       "\\item[Novelty] 0.16986113126604\n",
       "\\end{description*}\n"
      ],
      "text/markdown": [
       "Attractiveness\n",
       ":   0.165347904759212Perspicuity\n",
       ":   0.176092519314416Efficiency\n",
       ":   0.159708061354468Dependability\n",
       ":   0.157923086662004Stimulation\n",
       ":   0.159917889615413Novelty\n",
       ":   0.16986113126604\n",
       "\n"
      ],
      "text/plain": [
       "Attractiveness    Perspicuity     Efficiency  Dependability    Stimulation \n",
       "     0.1653479      0.1760925      0.1597081      0.1579231      0.1599179 \n",
       "       Novelty \n",
       "     0.1698611 "
      ]
     },
     "metadata": {},
     "output_type": "display_data"
    }
   ],
   "source": [
    "dimensions_sderror(data=tab, weights = weights)"
   ]
  },
  {
   "cell_type": "code",
   "execution_count": 20,
   "metadata": {
    "ExecuteTime": {
     "end_time": "2020-07-23T20:12:54.143256Z",
     "start_time": "2020-07-23T20:12:46.873Z"
    },
    "scrolled": false
   },
   "outputs": [
    {
     "data": {
      "text/html": [
       "<dl class=dl-horizontal>\n",
       "\t<dt>Attractiveness</dt>\n",
       "\t\t<dd>0.902217677072628</dd>\n",
       "\t<dt>Perspicuity</dt>\n",
       "\t\t<dd>1.02328298683044</dd>\n",
       "\t<dt>Efficiency</dt>\n",
       "\t\t<dd>0.841719940432884</dd>\n",
       "\t<dt>Dependability</dt>\n",
       "\t\t<dd>0.823010142928206</dd>\n",
       "\t<dt>Stimulation</dt>\n",
       "\t\t<dd>0.843933136828561</dd>\n",
       "\t<dt>Novelty</dt>\n",
       "\t\t<dd>0.952142529194301</dd>\n",
       "</dl>\n"
      ],
      "text/latex": [
       "\\begin{description*}\n",
       "\\item[Attractiveness] 0.902217677072628\n",
       "\\item[Perspicuity] 1.02328298683044\n",
       "\\item[Efficiency] 0.841719940432884\n",
       "\\item[Dependability] 0.823010142928206\n",
       "\\item[Stimulation] 0.843933136828561\n",
       "\\item[Novelty] 0.952142529194301\n",
       "\\end{description*}\n"
      ],
      "text/markdown": [
       "Attractiveness\n",
       ":   0.902217677072628Perspicuity\n",
       ":   1.02328298683044Efficiency\n",
       ":   0.841719940432884Dependability\n",
       ":   0.823010142928206Stimulation\n",
       ":   0.843933136828561Novelty\n",
       ":   0.952142529194301\n",
       "\n"
      ],
      "text/plain": [
       "Attractiveness    Perspicuity     Efficiency  Dependability    Stimulation \n",
       "     0.9022177      1.0232830      0.8417199      0.8230101      0.8439331 \n",
       "       Novelty \n",
       "     0.9521425 "
      ]
     },
     "metadata": {},
     "output_type": "display_data"
    }
   ],
   "source": [
    "dimensions_variance(data = tab, weights = weights)"
   ]
  },
  {
   "cell_type": "code",
   "execution_count": 21,
   "metadata": {
    "ExecuteTime": {
     "end_time": "2020-07-23T20:12:54.184710Z",
     "start_time": "2020-07-23T20:12:46.882Z"
    }
   },
   "outputs": [
    {
     "data": {
      "text/html": [
       "<dl class=dl-horizontal>\n",
       "\t<dt>Attractiveness</dt>\n",
       "\t\t<dd>1.28438223223258</dd>\n",
       "\t<dt>Pragmatic Quality</dt>\n",
       "\t\t<dd>1.30374435787395</dd>\n",
       "\t<dt>Hedonic Quality</dt>\n",
       "\t\t<dd>1.21370138351374</dd>\n",
       "</dl>\n"
      ],
      "text/latex": [
       "\\begin{description*}\n",
       "\\item[Attractiveness] 1.28438223223258\n",
       "\\item[Pragmatic Quality] 1.30374435787395\n",
       "\\item[Hedonic Quality] 1.21370138351374\n",
       "\\end{description*}\n"
      ],
      "text/markdown": [
       "Attractiveness\n",
       ":   1.28438223223258Pragmatic Quality\n",
       ":   1.30374435787395Hedonic Quality\n",
       ":   1.21370138351374\n",
       "\n"
      ],
      "text/plain": [
       "   Attractiveness Pragmatic Quality   Hedonic Quality \n",
       "         1.284382          1.303744          1.213701 "
      ]
     },
     "metadata": {},
     "output_type": "display_data"
    }
   ],
   "source": [
    "## means for grouped dimensions\n",
    "grouped_dimensions_mean(tab, weights = weights)"
   ]
  },
  {
   "cell_type": "markdown",
   "metadata": {},
   "source": [
    "## Vizualization and interpretation"
   ]
  },
  {
   "cell_type": "code",
   "execution_count": 22,
   "metadata": {
    "ExecuteTime": {
     "end_time": "2020-07-23T20:12:54.712380Z",
     "start_time": "2020-07-23T20:12:46.891Z"
    }
   },
   "outputs": [
    {
     "data": {
      "image/png": "[encoded data removed]",
      "text/plain": [
       "plot without title"
      ]
     },
     "metadata": {},
     "output_type": "display_data"
    }
   ],
   "source": [
    "## plot by dimensions\n",
    "options(repr.plot.width=8, repr.plot.height=5)\n",
    "plot_dimensions(data = tab, weights = weights)"
   ]
  },
  {
   "cell_type": "code",
   "execution_count": 23,
   "metadata": {
    "ExecuteTime": {
     "end_time": "2020-07-23T20:12:54.984664Z",
     "start_time": "2020-07-23T20:12:46.901Z"
    }
   },
   "outputs": [
    {
     "data": {
      "image/png": "[encoded data removed]",
      "text/plain": [
       "plot without title"
      ]
     },
     "metadata": {},
     "output_type": "display_data"
    }
   ],
   "source": [
    "## plot by grouped dimensions\n",
    "options(repr.plot.width=7, repr.plot.height=5)\n",
    "plot_grouped_dimensions(tab, weights = weights)"
   ]
  },
  {
   "cell_type": "code",
   "execution_count": 24,
   "metadata": {
    "ExecuteTime": {
     "end_time": "2020-07-23T20:12:55.397620Z",
     "start_time": "2020-07-23T20:12:46.909Z"
    },
    "scrolled": false
   },
   "outputs": [
    {
     "data": {
      "image/png": "[encoded data removed]",
      "text/plain": [
       "plot without title"
      ]
     },
     "metadata": {},
     "output_type": "display_data"
    }
   ],
   "source": [
    "## plot with benchmarks\n",
    "options(repr.plot.width=10, repr.plot.height=6)\n",
    "plot_benchmarks(tab, weights = weights)"
   ]
  },
  {
   "cell_type": "code",
   "execution_count": 25,
   "metadata": {
    "ExecuteTime": {
     "end_time": "2020-07-23T20:12:55.569780Z",
     "start_time": "2020-07-23T20:12:46.917Z"
    }
   },
   "outputs": [
    {
     "data": {
      "text/html": [
       "<table>\n",
       "<caption>A data.frame: 6 × 3</caption>\n",
       "<thead>\n",
       "\t<tr><th></th><th scope=col>Mean</th><th scope=col>benchmark</th><th scope=col>Interpretation</th></tr>\n",
       "\t<tr><th></th><th scope=col>&lt;dbl&gt;</th><th scope=col>&lt;chr&gt;</th><th scope=col>&lt;chr&gt;</th></tr>\n",
       "</thead>\n",
       "<tbody>\n",
       "\t<tr><th scope=row>Attractiveness</th><td>1.284382</td><td>above average</td><td>25% of results better, 50% of results worse</td></tr>\n",
       "\t<tr><th scope=row>Perspicuity</th><td>1.370661</td><td>above average</td><td>25% of results better, 50% of results worse</td></tr>\n",
       "\t<tr><th scope=row>Efficiency</th><td>1.427959</td><td>above average</td><td>25% of results better, 50% of results worse</td></tr>\n",
       "\t<tr><th scope=row>Dependability</th><td>1.112613</td><td>below average</td><td>50% of results better, 25% of results worse</td></tr>\n",
       "\t<tr><th scope=row>Stimulation</th><td>1.176290</td><td>above average</td><td>25% of results better, 50% of results worse</td></tr>\n",
       "\t<tr><th scope=row>Novelty</th><td>1.251113</td><td>good         </td><td>10% of results better, 75% of results worse</td></tr>\n",
       "</tbody>\n",
       "</table>\n"
      ],
      "text/latex": [
       "A data.frame: 6 × 3\n",
       "\\begin{tabular}{r|lll}\n",
       "  & Mean & benchmark & Interpretation\\\\\n",
       "  & <dbl> & <chr> & <chr>\\\\\n",
       "\\hline\n",
       "\tAttractiveness & 1.284382 & above average & 25\\% of results better, 50\\% of results worse\\\\\n",
       "\tPerspicuity & 1.370661 & above average & 25\\% of results better, 50\\% of results worse\\\\\n",
       "\tEfficiency & 1.427959 & above average & 25\\% of results better, 50\\% of results worse\\\\\n",
       "\tDependability & 1.112613 & below average & 50\\% of results better, 25\\% of results worse\\\\\n",
       "\tStimulation & 1.176290 & above average & 25\\% of results better, 50\\% of results worse\\\\\n",
       "\tNovelty & 1.251113 & good          & 10\\% of results better, 75\\% of results worse\\\\\n",
       "\\end{tabular}\n"
      ],
      "text/markdown": [
       "\n",
       "A data.frame: 6 × 3\n",
       "\n",
       "| <!--/--> | Mean &lt;dbl&gt; | benchmark &lt;chr&gt; | Interpretation &lt;chr&gt; |\n",
       "|---|---|---|---|\n",
       "| Attractiveness | 1.284382 | above average | 25% of results better, 50% of results worse |\n",
       "| Perspicuity | 1.370661 | above average | 25% of results better, 50% of results worse |\n",
       "| Efficiency | 1.427959 | above average | 25% of results better, 50% of results worse |\n",
       "| Dependability | 1.112613 | below average | 50% of results better, 25% of results worse |\n",
       "| Stimulation | 1.176290 | above average | 25% of results better, 50% of results worse |\n",
       "| Novelty | 1.251113 | good          | 10% of results better, 75% of results worse |\n",
       "\n"
      ],
      "text/plain": [
       "               Mean     benchmark    \n",
       "Attractiveness 1.284382 above average\n",
       "Perspicuity    1.370661 above average\n",
       "Efficiency     1.427959 above average\n",
       "Dependability  1.112613 below average\n",
       "Stimulation    1.176290 above average\n",
       "Novelty        1.251113 good         \n",
       "               Interpretation                             \n",
       "Attractiveness 25% of results better, 50% of results worse\n",
       "Perspicuity    25% of results better, 50% of results worse\n",
       "Efficiency     25% of results better, 50% of results worse\n",
       "Dependability  50% of results better, 25% of results worse\n",
       "Stimulation    25% of results better, 50% of results worse\n",
       "Novelty        10% of results better, 75% of results worse"
      ]
     },
     "metadata": {},
     "output_type": "display_data"
    }
   ],
   "source": [
    "## interpretation of results\n",
    "interpretation(dim_means)"
   ]
  },
  {
   "cell_type": "markdown",
   "metadata": {},
   "source": [
    "## Weighted vs non-weighted"
   ]
  },
  {
   "cell_type": "code",
   "execution_count": 26,
   "metadata": {
    "ExecuteTime": {
     "end_time": "2020-07-23T20:12:56.233484Z",
     "start_time": "2020-07-23T20:12:46.955Z"
    }
   },
   "outputs": [
    {
     "data": {
      "text/html": [
       "<ol class=list-inline>\n",
       "\t<li>471.083333333333</li>\n",
       "\t<li>361.222222222222</li>\n",
       "\t<li>471.083333333333</li>\n",
       "\t<li>361.222222222222</li>\n",
       "\t<li>361.222222222222</li>\n",
       "\t<li>361.222222222222</li>\n",
       "\t<li>471.083333333333</li>\n",
       "\t<li>361.222222222222</li>\n",
       "\t<li>471.083333333333</li>\n",
       "\t<li>375.727272727273</li>\n",
       "\t<li>471.083333333333</li>\n",
       "\t<li>471.083333333333</li>\n",
       "\t<li>375.727272727273</li>\n",
       "\t<li>471.083333333333</li>\n",
       "\t<li>361.222222222222</li>\n",
       "\t<li>375.727272727273</li>\n",
       "\t<li>375.727272727273</li>\n",
       "\t<li>375.727272727273</li>\n",
       "\t<li>375.727272727273</li>\n",
       "\t<li>187.863636363636</li>\n",
       "\t<li>375.727272727273</li>\n",
       "\t<li>375.727272727273</li>\n",
       "\t<li>361.222222222222</li>\n",
       "\t<li>187.863636363636</li>\n",
       "\t<li>375.727272727273</li>\n",
       "\t<li>375.727272727273</li>\n",
       "\t<li>471.083333333333</li>\n",
       "\t<li>471.083333333333</li>\n",
       "\t<li>471.083333333333</li>\n",
       "\t<li>471.083333333333</li>\n",
       "\t<li>361.222222222222</li>\n",
       "\t<li>361.222222222222</li>\n",
       "\t<li>471.083333333333</li>\n",
       "\t<li>1</li>\n",
       "\t<li>1</li>\n",
       "\t<li>1</li>\n",
       "\t<li>1</li>\n",
       "\t<li>1</li>\n",
       "\t<li>1</li>\n",
       "\t<li>1</li>\n",
       "\t<li>1</li>\n",
       "\t<li>1</li>\n",
       "\t<li>1</li>\n",
       "\t<li>1</li>\n",
       "\t<li>1</li>\n",
       "\t<li>1</li>\n",
       "\t<li>1</li>\n",
       "\t<li>1</li>\n",
       "\t<li>1</li>\n",
       "\t<li>1</li>\n",
       "\t<li>1</li>\n",
       "\t<li>1</li>\n",
       "\t<li>1</li>\n",
       "\t<li>1</li>\n",
       "\t<li>1</li>\n",
       "\t<li>1</li>\n",
       "\t<li>1</li>\n",
       "\t<li>1</li>\n",
       "\t<li>1</li>\n",
       "\t<li>1</li>\n",
       "\t<li>1</li>\n",
       "\t<li>1</li>\n",
       "\t<li>1</li>\n",
       "\t<li>1</li>\n",
       "\t<li>1</li>\n",
       "\t<li>1</li>\n",
       "</ol>\n"
      ],
      "text/latex": [
       "\\begin{enumerate*}\n",
       "\\item 471.083333333333\n",
       "\\item 361.222222222222\n",
       "\\item 471.083333333333\n",
       "\\item 361.222222222222\n",
       "\\item 361.222222222222\n",
       "\\item 361.222222222222\n",
       "\\item 471.083333333333\n",
       "\\item 361.222222222222\n",
       "\\item 471.083333333333\n",
       "\\item 375.727272727273\n",
       "\\item 471.083333333333\n",
       "\\item 471.083333333333\n",
       "\\item 375.727272727273\n",
       "\\item 471.083333333333\n",
       "\\item 361.222222222222\n",
       "\\item 375.727272727273\n",
       "\\item 375.727272727273\n",
       "\\item 375.727272727273\n",
       "\\item 375.727272727273\n",
       "\\item 187.863636363636\n",
       "\\item 375.727272727273\n",
       "\\item 375.727272727273\n",
       "\\item 361.222222222222\n",
       "\\item 187.863636363636\n",
       "\\item 375.727272727273\n",
       "\\item 375.727272727273\n",
       "\\item 471.083333333333\n",
       "\\item 471.083333333333\n",
       "\\item 471.083333333333\n",
       "\\item 471.083333333333\n",
       "\\item 361.222222222222\n",
       "\\item 361.222222222222\n",
       "\\item 471.083333333333\n",
       "\\item 1\n",
       "\\item 1\n",
       "\\item 1\n",
       "\\item 1\n",
       "\\item 1\n",
       "\\item 1\n",
       "\\item 1\n",
       "\\item 1\n",
       "\\item 1\n",
       "\\item 1\n",
       "\\item 1\n",
       "\\item 1\n",
       "\\item 1\n",
       "\\item 1\n",
       "\\item 1\n",
       "\\item 1\n",
       "\\item 1\n",
       "\\item 1\n",
       "\\item 1\n",
       "\\item 1\n",
       "\\item 1\n",
       "\\item 1\n",
       "\\item 1\n",
       "\\item 1\n",
       "\\item 1\n",
       "\\item 1\n",
       "\\item 1\n",
       "\\item 1\n",
       "\\item 1\n",
       "\\item 1\n",
       "\\item 1\n",
       "\\item 1\n",
       "\\item 1\n",
       "\\end{enumerate*}\n"
      ],
      "text/markdown": [
       "1. 471.083333333333\n",
       "2. 361.222222222222\n",
       "3. 471.083333333333\n",
       "4. 361.222222222222\n",
       "5. 361.222222222222\n",
       "6. 361.222222222222\n",
       "7. 471.083333333333\n",
       "8. 361.222222222222\n",
       "9. 471.083333333333\n",
       "10. 375.727272727273\n",
       "11. 471.083333333333\n",
       "12. 471.083333333333\n",
       "13. 375.727272727273\n",
       "14. 471.083333333333\n",
       "15. 361.222222222222\n",
       "16. 375.727272727273\n",
       "17. 375.727272727273\n",
       "18. 375.727272727273\n",
       "19. 375.727272727273\n",
       "20. 187.863636363636\n",
       "21. 375.727272727273\n",
       "22. 375.727272727273\n",
       "23. 361.222222222222\n",
       "24. 187.863636363636\n",
       "25. 375.727272727273\n",
       "26. 375.727272727273\n",
       "27. 471.083333333333\n",
       "28. 471.083333333333\n",
       "29. 471.083333333333\n",
       "30. 471.083333333333\n",
       "31. 361.222222222222\n",
       "32. 361.222222222222\n",
       "33. 471.083333333333\n",
       "34. 1\n",
       "35. 1\n",
       "36. 1\n",
       "37. 1\n",
       "38. 1\n",
       "39. 1\n",
       "40. 1\n",
       "41. 1\n",
       "42. 1\n",
       "43. 1\n",
       "44. 1\n",
       "45. 1\n",
       "46. 1\n",
       "47. 1\n",
       "48. 1\n",
       "49. 1\n",
       "50. 1\n",
       "51. 1\n",
       "52. 1\n",
       "53. 1\n",
       "54. 1\n",
       "55. 1\n",
       "56. 1\n",
       "57. 1\n",
       "58. 1\n",
       "59. 1\n",
       "60. 1\n",
       "61. 1\n",
       "62. 1\n",
       "63. 1\n",
       "64. 1\n",
       "65. 1\n",
       "66. 1\n",
       "\n",
       "\n"
      ],
      "text/plain": [
       " [1] 471.0833 361.2222 471.0833 361.2222 361.2222 361.2222 471.0833 361.2222\n",
       " [9] 471.0833 375.7273 471.0833 471.0833 375.7273 471.0833 361.2222 375.7273\n",
       "[17] 375.7273 375.7273 375.7273 187.8636 375.7273 375.7273 361.2222 187.8636\n",
       "[25] 375.7273 375.7273 471.0833 471.0833 471.0833 471.0833 361.2222 361.2222\n",
       "[33] 471.0833   1.0000   1.0000   1.0000   1.0000   1.0000   1.0000   1.0000\n",
       "[41]   1.0000   1.0000   1.0000   1.0000   1.0000   1.0000   1.0000   1.0000\n",
       "[49]   1.0000   1.0000   1.0000   1.0000   1.0000   1.0000   1.0000   1.0000\n",
       "[57]   1.0000   1.0000   1.0000   1.0000   1.0000   1.0000   1.0000   1.0000\n",
       "[65]   1.0000   1.0000"
      ]
     },
     "metadata": {},
     "output_type": "display_data"
    },
    {
     "data": {
      "text/html": [
       "<table>\n",
       "<caption>A data.frame: 66 × 27</caption>\n",
       "<thead>\n",
       "\t<tr><th scope=col>UEQ1</th><th scope=col>UEQ2</th><th scope=col>UEQ3</th><th scope=col>UEQ4</th><th scope=col>UEQ5</th><th scope=col>UEQ6</th><th scope=col>UEQ7</th><th scope=col>UEQ8</th><th scope=col>UEQ9</th><th scope=col>UEQ10</th><th scope=col>⋯</th><th scope=col>UEQ18</th><th scope=col>UEQ19</th><th scope=col>UEQ20</th><th scope=col>UEQ21</th><th scope=col>UEQ22</th><th scope=col>UEQ23</th><th scope=col>UEQ24</th><th scope=col>UEQ25</th><th scope=col>UEQ26</th><th scope=col>group</th></tr>\n",
       "\t<tr><th scope=col>&lt;dbl&gt;</th><th scope=col>&lt;dbl&gt;</th><th scope=col>&lt;dbl&gt;</th><th scope=col>&lt;dbl&gt;</th><th scope=col>&lt;dbl&gt;</th><th scope=col>&lt;dbl&gt;</th><th scope=col>&lt;dbl&gt;</th><th scope=col>&lt;dbl&gt;</th><th scope=col>&lt;dbl&gt;</th><th scope=col>&lt;dbl&gt;</th><th scope=col>⋯</th><th scope=col>&lt;dbl&gt;</th><th scope=col>&lt;dbl&gt;</th><th scope=col>&lt;dbl&gt;</th><th scope=col>&lt;dbl&gt;</th><th scope=col>&lt;dbl&gt;</th><th scope=col>&lt;dbl&gt;</th><th scope=col>&lt;dbl&gt;</th><th scope=col>&lt;dbl&gt;</th><th scope=col>&lt;dbl&gt;</th><th scope=col>&lt;fct&gt;</th></tr>\n",
       "</thead>\n",
       "<tbody>\n",
       "\t<tr><td>7</td><td>6</td><td>1</td><td>2</td><td>2</td><td>6</td><td>7</td><td>3</td><td>5</td><td>1</td><td>⋯</td><td>1</td><td>1</td><td>6</td><td>2</td><td>6</td><td>2</td><td>2</td><td>2</td><td>7</td><td>weighted</td></tr>\n",
       "\t<tr><td>4</td><td>4</td><td>6</td><td>4</td><td>1</td><td>3</td><td>2</td><td>4</td><td>1</td><td>4</td><td>⋯</td><td>6</td><td>4</td><td>4</td><td>4</td><td>3</td><td>6</td><td>6</td><td>6</td><td>5</td><td>weighted</td></tr>\n",
       "\t<tr><td>6</td><td>6</td><td>1</td><td>4</td><td>2</td><td>5</td><td>5</td><td>2</td><td>2</td><td>1</td><td>⋯</td><td>3</td><td>4</td><td>6</td><td>3</td><td>7</td><td>2</td><td>2</td><td>2</td><td>7</td><td>weighted</td></tr>\n",
       "\t<tr><td>4</td><td>5</td><td>4</td><td>5</td><td>5</td><td>3</td><td>4</td><td>3</td><td>5</td><td>2</td><td>⋯</td><td>3</td><td>3</td><td>5</td><td>3</td><td>5</td><td>2</td><td>3</td><td>4</td><td>4</td><td>weighted</td></tr>\n",
       "\t<tr><td>7</td><td>7</td><td>1</td><td>1</td><td>1</td><td>6</td><td>7</td><td>4</td><td>1</td><td>1</td><td>⋯</td><td>1</td><td>1</td><td>7</td><td>2</td><td>7</td><td>1</td><td>1</td><td>1</td><td>7</td><td>weighted</td></tr>\n",
       "\t<tr><td>5</td><td>5</td><td>6</td><td>4</td><td>3</td><td>5</td><td>6</td><td>4</td><td>4</td><td>3</td><td>⋯</td><td>2</td><td>3</td><td>4</td><td>3</td><td>5</td><td>3</td><td>4</td><td>2</td><td>5</td><td>weighted</td></tr>\n",
       "\t<tr><td>4</td><td>5</td><td>2</td><td>1</td><td>2</td><td>4</td><td>6</td><td>5</td><td>3</td><td>1</td><td>⋯</td><td>2</td><td>3</td><td>6</td><td>2</td><td>6</td><td>2</td><td>3</td><td>2</td><td>6</td><td>weighted</td></tr>\n",
       "\t<tr><td>5</td><td>5</td><td>4</td><td>4</td><td>5</td><td>5</td><td>6</td><td>5</td><td>6</td><td>2</td><td>⋯</td><td>2</td><td>3</td><td>6</td><td>3</td><td>6</td><td>3</td><td>2</td><td>2</td><td>7</td><td>weighted</td></tr>\n",
       "\t<tr><td>5</td><td>4</td><td>3</td><td>4</td><td>3</td><td>5</td><td>5</td><td>4</td><td>4</td><td>5</td><td>⋯</td><td>3</td><td>4</td><td>4</td><td>4</td><td>4</td><td>3</td><td>4</td><td>4</td><td>4</td><td>weighted</td></tr>\n",
       "\t<tr><td>6</td><td>6</td><td>3</td><td>1</td><td>1</td><td>4</td><td>6</td><td>6</td><td>2</td><td>2</td><td>⋯</td><td>1</td><td>1</td><td>6</td><td>1</td><td>6</td><td>1</td><td>2</td><td>2</td><td>5</td><td>weighted</td></tr>\n",
       "\t<tr><td>6</td><td>7</td><td>3</td><td>1</td><td>1</td><td>4</td><td>6</td><td>4</td><td>4</td><td>4</td><td>⋯</td><td>2</td><td>4</td><td>4</td><td>1</td><td>7</td><td>1</td><td>4</td><td>4</td><td>6</td><td>weighted</td></tr>\n",
       "\t<tr><td>7</td><td>6</td><td>2</td><td>1</td><td>1</td><td>5</td><td>6</td><td>7</td><td>1</td><td>2</td><td>⋯</td><td>1</td><td>2</td><td>6</td><td>1</td><td>6</td><td>1</td><td>2</td><td>1</td><td>7</td><td>weighted</td></tr>\n",
       "\t<tr><td>6</td><td>6</td><td>2</td><td>3</td><td>3</td><td>4</td><td>4</td><td>6</td><td>2</td><td>2</td><td>⋯</td><td>2</td><td>2</td><td>6</td><td>1</td><td>7</td><td>2</td><td>2</td><td>2</td><td>5</td><td>weighted</td></tr>\n",
       "\t<tr><td>5</td><td>3</td><td>5</td><td>4</td><td>4</td><td>3</td><td>3</td><td>3</td><td>4</td><td>4</td><td>⋯</td><td>6</td><td>4</td><td>4</td><td>6</td><td>3</td><td>6</td><td>5</td><td>5</td><td>4</td><td>weighted</td></tr>\n",
       "\t<tr><td>5</td><td>6</td><td>4</td><td>2</td><td>2</td><td>5</td><td>6</td><td>5</td><td>3</td><td>2</td><td>⋯</td><td>2</td><td>2</td><td>6</td><td>2</td><td>6</td><td>2</td><td>2</td><td>2</td><td>6</td><td>weighted</td></tr>\n",
       "\t<tr><td>5</td><td>6</td><td>2</td><td>2</td><td>2</td><td>5</td><td>6</td><td>6</td><td>2</td><td>2</td><td>⋯</td><td>2</td><td>2</td><td>6</td><td>2</td><td>6</td><td>2</td><td>2</td><td>2</td><td>6</td><td>weighted</td></tr>\n",
       "\t<tr><td>3</td><td>4</td><td>4</td><td>3</td><td>4</td><td>3</td><td>4</td><td>5</td><td>4</td><td>3</td><td>⋯</td><td>3</td><td>4</td><td>5</td><td>4</td><td>5</td><td>4</td><td>4</td><td>3</td><td>5</td><td>weighted</td></tr>\n",
       "\t<tr><td>7</td><td>7</td><td>4</td><td>1</td><td>4</td><td>4</td><td>7</td><td>4</td><td>4</td><td>4</td><td>⋯</td><td>4</td><td>4</td><td>4</td><td>4</td><td>4</td><td>4</td><td>4</td><td>4</td><td>4</td><td>weighted</td></tr>\n",
       "\t<tr><td>6</td><td>5</td><td>2</td><td>2</td><td>2</td><td>4</td><td>6</td><td>5</td><td>1</td><td>1</td><td>⋯</td><td>2</td><td>2</td><td>6</td><td>2</td><td>6</td><td>2</td><td>2</td><td>2</td><td>5</td><td>weighted</td></tr>\n",
       "\t<tr><td>5</td><td>5</td><td>4</td><td>3</td><td>2</td><td>4</td><td>5</td><td>6</td><td>2</td><td>4</td><td>⋯</td><td>1</td><td>3</td><td>6</td><td>3</td><td>6</td><td>3</td><td>3</td><td>2</td><td>4</td><td>weighted</td></tr>\n",
       "\t<tr><td>7</td><td>7</td><td>1</td><td>1</td><td>1</td><td>7</td><td>5</td><td>5</td><td>1</td><td>1</td><td>⋯</td><td>2</td><td>4</td><td>6</td><td>2</td><td>5</td><td>2</td><td>2</td><td>1</td><td>7</td><td>weighted</td></tr>\n",
       "\t<tr><td>6</td><td>7</td><td>3</td><td>2</td><td>1</td><td>4</td><td>6</td><td>5</td><td>2</td><td>2</td><td>⋯</td><td>2</td><td>1</td><td>5</td><td>1</td><td>7</td><td>2</td><td>3</td><td>3</td><td>4</td><td>weighted</td></tr>\n",
       "\t<tr><td>7</td><td>6</td><td>1</td><td>2</td><td>1</td><td>5</td><td>7</td><td>2</td><td>5</td><td>1</td><td>⋯</td><td>1</td><td>1</td><td>7</td><td>1</td><td>7</td><td>2</td><td>3</td><td>2</td><td>7</td><td>weighted</td></tr>\n",
       "\t<tr><td>6</td><td>7</td><td>2</td><td>1</td><td>2</td><td>6</td><td>6</td><td>6</td><td>2</td><td>1</td><td>⋯</td><td>2</td><td>2</td><td>6</td><td>1</td><td>6</td><td>1</td><td>1</td><td>1</td><td>7</td><td>weighted</td></tr>\n",
       "\t<tr><td>6</td><td>5</td><td>3</td><td>2</td><td>4</td><td>4</td><td>5</td><td>4</td><td>2</td><td>2</td><td>⋯</td><td>3</td><td>2</td><td>6</td><td>3</td><td>6</td><td>4</td><td>4</td><td>2</td><td>6</td><td>weighted</td></tr>\n",
       "\t<tr><td>5</td><td>6</td><td>4</td><td>3</td><td>3</td><td>2</td><td>3</td><td>4</td><td>3</td><td>1</td><td>⋯</td><td>2</td><td>4</td><td>5</td><td>4</td><td>3</td><td>3</td><td>2</td><td>3</td><td>6</td><td>weighted</td></tr>\n",
       "\t<tr><td>7</td><td>6</td><td>3</td><td>1</td><td>2</td><td>5</td><td>6</td><td>4</td><td>1</td><td>1</td><td>⋯</td><td>2</td><td>2</td><td>6</td><td>2</td><td>7</td><td>1</td><td>1</td><td>1</td><td>7</td><td>weighted</td></tr>\n",
       "\t<tr><td>3</td><td>6</td><td>3</td><td>2</td><td>3</td><td>4</td><td>5</td><td>6</td><td>1</td><td>3</td><td>⋯</td><td>3</td><td>2</td><td>6</td><td>2</td><td>6</td><td>1</td><td>2</td><td>2</td><td>4</td><td>weighted</td></tr>\n",
       "\t<tr><td>4</td><td>6</td><td>4</td><td>5</td><td>4</td><td>4</td><td>5</td><td>5</td><td>4</td><td>3</td><td>⋯</td><td>2</td><td>3</td><td>5</td><td>3</td><td>5</td><td>3</td><td>4</td><td>4</td><td>5</td><td>weighted</td></tr>\n",
       "\t<tr><td>4</td><td>6</td><td>4</td><td>3</td><td>1</td><td>4</td><td>6</td><td>4</td><td>2</td><td>2</td><td>⋯</td><td>4</td><td>4</td><td>4</td><td>1</td><td>6</td><td>2</td><td>3</td><td>1</td><td>4</td><td>weighted</td></tr>\n",
       "\t<tr><td>⋮</td><td>⋮</td><td>⋮</td><td>⋮</td><td>⋮</td><td>⋮</td><td>⋮</td><td>⋮</td><td>⋮</td><td>⋮</td><td>⋱</td><td>⋮</td><td>⋮</td><td>⋮</td><td>⋮</td><td>⋮</td><td>⋮</td><td>⋮</td><td>⋮</td><td>⋮</td><td>⋮</td></tr>\n",
       "\t<tr><td>4</td><td>5</td><td>4</td><td>5</td><td>5</td><td>3</td><td>4</td><td>3</td><td>5</td><td>2</td><td>⋯</td><td>3</td><td>3</td><td>5</td><td>3</td><td>5</td><td>2</td><td>3</td><td>4</td><td>4</td><td>non-weighted</td></tr>\n",
       "\t<tr><td>7</td><td>7</td><td>1</td><td>1</td><td>1</td><td>6</td><td>7</td><td>4</td><td>1</td><td>1</td><td>⋯</td><td>1</td><td>1</td><td>7</td><td>2</td><td>7</td><td>1</td><td>1</td><td>1</td><td>7</td><td>non-weighted</td></tr>\n",
       "\t<tr><td>5</td><td>5</td><td>6</td><td>4</td><td>3</td><td>5</td><td>6</td><td>4</td><td>4</td><td>3</td><td>⋯</td><td>2</td><td>3</td><td>4</td><td>3</td><td>5</td><td>3</td><td>4</td><td>2</td><td>5</td><td>non-weighted</td></tr>\n",
       "\t<tr><td>4</td><td>5</td><td>2</td><td>1</td><td>2</td><td>4</td><td>6</td><td>5</td><td>3</td><td>1</td><td>⋯</td><td>2</td><td>3</td><td>6</td><td>2</td><td>6</td><td>2</td><td>3</td><td>2</td><td>6</td><td>non-weighted</td></tr>\n",
       "\t<tr><td>5</td><td>5</td><td>4</td><td>4</td><td>5</td><td>5</td><td>6</td><td>5</td><td>6</td><td>2</td><td>⋯</td><td>2</td><td>3</td><td>6</td><td>3</td><td>6</td><td>3</td><td>2</td><td>2</td><td>7</td><td>non-weighted</td></tr>\n",
       "\t<tr><td>5</td><td>4</td><td>3</td><td>4</td><td>3</td><td>5</td><td>5</td><td>4</td><td>4</td><td>5</td><td>⋯</td><td>3</td><td>4</td><td>4</td><td>4</td><td>4</td><td>3</td><td>4</td><td>4</td><td>4</td><td>non-weighted</td></tr>\n",
       "\t<tr><td>6</td><td>6</td><td>3</td><td>1</td><td>1</td><td>4</td><td>6</td><td>6</td><td>2</td><td>2</td><td>⋯</td><td>1</td><td>1</td><td>6</td><td>1</td><td>6</td><td>1</td><td>2</td><td>2</td><td>5</td><td>non-weighted</td></tr>\n",
       "\t<tr><td>6</td><td>7</td><td>3</td><td>1</td><td>1</td><td>4</td><td>6</td><td>4</td><td>4</td><td>4</td><td>⋯</td><td>2</td><td>4</td><td>4</td><td>1</td><td>7</td><td>1</td><td>4</td><td>4</td><td>6</td><td>non-weighted</td></tr>\n",
       "\t<tr><td>7</td><td>6</td><td>2</td><td>1</td><td>1</td><td>5</td><td>6</td><td>7</td><td>1</td><td>2</td><td>⋯</td><td>1</td><td>2</td><td>6</td><td>1</td><td>6</td><td>1</td><td>2</td><td>1</td><td>7</td><td>non-weighted</td></tr>\n",
       "\t<tr><td>6</td><td>6</td><td>2</td><td>3</td><td>3</td><td>4</td><td>4</td><td>6</td><td>2</td><td>2</td><td>⋯</td><td>2</td><td>2</td><td>6</td><td>1</td><td>7</td><td>2</td><td>2</td><td>2</td><td>5</td><td>non-weighted</td></tr>\n",
       "\t<tr><td>5</td><td>3</td><td>5</td><td>4</td><td>4</td><td>3</td><td>3</td><td>3</td><td>4</td><td>4</td><td>⋯</td><td>6</td><td>4</td><td>4</td><td>6</td><td>3</td><td>6</td><td>5</td><td>5</td><td>4</td><td>non-weighted</td></tr>\n",
       "\t<tr><td>5</td><td>6</td><td>4</td><td>2</td><td>2</td><td>5</td><td>6</td><td>5</td><td>3</td><td>2</td><td>⋯</td><td>2</td><td>2</td><td>6</td><td>2</td><td>6</td><td>2</td><td>2</td><td>2</td><td>6</td><td>non-weighted</td></tr>\n",
       "\t<tr><td>5</td><td>6</td><td>2</td><td>2</td><td>2</td><td>5</td><td>6</td><td>6</td><td>2</td><td>2</td><td>⋯</td><td>2</td><td>2</td><td>6</td><td>2</td><td>6</td><td>2</td><td>2</td><td>2</td><td>6</td><td>non-weighted</td></tr>\n",
       "\t<tr><td>3</td><td>4</td><td>4</td><td>3</td><td>4</td><td>3</td><td>4</td><td>5</td><td>4</td><td>3</td><td>⋯</td><td>3</td><td>4</td><td>5</td><td>4</td><td>5</td><td>4</td><td>4</td><td>3</td><td>5</td><td>non-weighted</td></tr>\n",
       "\t<tr><td>7</td><td>7</td><td>4</td><td>1</td><td>4</td><td>4</td><td>7</td><td>4</td><td>4</td><td>4</td><td>⋯</td><td>4</td><td>4</td><td>4</td><td>4</td><td>4</td><td>4</td><td>4</td><td>4</td><td>4</td><td>non-weighted</td></tr>\n",
       "\t<tr><td>6</td><td>5</td><td>2</td><td>2</td><td>2</td><td>4</td><td>6</td><td>5</td><td>1</td><td>1</td><td>⋯</td><td>2</td><td>2</td><td>6</td><td>2</td><td>6</td><td>2</td><td>2</td><td>2</td><td>5</td><td>non-weighted</td></tr>\n",
       "\t<tr><td>5</td><td>5</td><td>4</td><td>3</td><td>2</td><td>4</td><td>5</td><td>6</td><td>2</td><td>4</td><td>⋯</td><td>1</td><td>3</td><td>6</td><td>3</td><td>6</td><td>3</td><td>3</td><td>2</td><td>4</td><td>non-weighted</td></tr>\n",
       "\t<tr><td>7</td><td>7</td><td>1</td><td>1</td><td>1</td><td>7</td><td>5</td><td>5</td><td>1</td><td>1</td><td>⋯</td><td>2</td><td>4</td><td>6</td><td>2</td><td>5</td><td>2</td><td>2</td><td>1</td><td>7</td><td>non-weighted</td></tr>\n",
       "\t<tr><td>6</td><td>7</td><td>3</td><td>2</td><td>1</td><td>4</td><td>6</td><td>5</td><td>2</td><td>2</td><td>⋯</td><td>2</td><td>1</td><td>5</td><td>1</td><td>7</td><td>2</td><td>3</td><td>3</td><td>4</td><td>non-weighted</td></tr>\n",
       "\t<tr><td>7</td><td>6</td><td>1</td><td>2</td><td>1</td><td>5</td><td>7</td><td>2</td><td>5</td><td>1</td><td>⋯</td><td>1</td><td>1</td><td>7</td><td>1</td><td>7</td><td>2</td><td>3</td><td>2</td><td>7</td><td>non-weighted</td></tr>\n",
       "\t<tr><td>6</td><td>7</td><td>2</td><td>1</td><td>2</td><td>6</td><td>6</td><td>6</td><td>2</td><td>1</td><td>⋯</td><td>2</td><td>2</td><td>6</td><td>1</td><td>6</td><td>1</td><td>1</td><td>1</td><td>7</td><td>non-weighted</td></tr>\n",
       "\t<tr><td>6</td><td>5</td><td>3</td><td>2</td><td>4</td><td>4</td><td>5</td><td>4</td><td>2</td><td>2</td><td>⋯</td><td>3</td><td>2</td><td>6</td><td>3</td><td>6</td><td>4</td><td>4</td><td>2</td><td>6</td><td>non-weighted</td></tr>\n",
       "\t<tr><td>5</td><td>6</td><td>4</td><td>3</td><td>3</td><td>2</td><td>3</td><td>4</td><td>3</td><td>1</td><td>⋯</td><td>2</td><td>4</td><td>5</td><td>4</td><td>3</td><td>3</td><td>2</td><td>3</td><td>6</td><td>non-weighted</td></tr>\n",
       "\t<tr><td>7</td><td>6</td><td>3</td><td>1</td><td>2</td><td>5</td><td>6</td><td>4</td><td>1</td><td>1</td><td>⋯</td><td>2</td><td>2</td><td>6</td><td>2</td><td>7</td><td>1</td><td>1</td><td>1</td><td>7</td><td>non-weighted</td></tr>\n",
       "\t<tr><td>3</td><td>6</td><td>3</td><td>2</td><td>3</td><td>4</td><td>5</td><td>6</td><td>1</td><td>3</td><td>⋯</td><td>3</td><td>2</td><td>6</td><td>2</td><td>6</td><td>1</td><td>2</td><td>2</td><td>4</td><td>non-weighted</td></tr>\n",
       "\t<tr><td>4</td><td>6</td><td>4</td><td>5</td><td>4</td><td>4</td><td>5</td><td>5</td><td>4</td><td>3</td><td>⋯</td><td>2</td><td>3</td><td>5</td><td>3</td><td>5</td><td>3</td><td>4</td><td>4</td><td>5</td><td>non-weighted</td></tr>\n",
       "\t<tr><td>4</td><td>6</td><td>4</td><td>3</td><td>1</td><td>4</td><td>6</td><td>4</td><td>2</td><td>2</td><td>⋯</td><td>4</td><td>4</td><td>4</td><td>1</td><td>6</td><td>2</td><td>3</td><td>1</td><td>4</td><td>non-weighted</td></tr>\n",
       "\t<tr><td>6</td><td>6</td><td>2</td><td>2</td><td>2</td><td>5</td><td>6</td><td>6</td><td>2</td><td>2</td><td>⋯</td><td>2</td><td>2</td><td>6</td><td>2</td><td>6</td><td>2</td><td>2</td><td>2</td><td>6</td><td>non-weighted</td></tr>\n",
       "\t<tr><td>5</td><td>5</td><td>4</td><td>4</td><td>3</td><td>4</td><td>4</td><td>4</td><td>2</td><td>3</td><td>⋯</td><td>3</td><td>4</td><td>4</td><td>3</td><td>5</td><td>2</td><td>3</td><td>3</td><td>4</td><td>non-weighted</td></tr>\n",
       "\t<tr><td>4</td><td>6</td><td>4</td><td>3</td><td>3</td><td>4</td><td>3</td><td>5</td><td>4</td><td>4</td><td>⋯</td><td>4</td><td>3</td><td>5</td><td>2</td><td>5</td><td>4</td><td>4</td><td>4</td><td>4</td><td>non-weighted</td></tr>\n",
       "</tbody>\n",
       "</table>\n"
      ],
      "text/latex": [
       "A data.frame: 66 × 27\n",
       "\\begin{tabular}{r|lllllllllllllllllllllllllll}\n",
       " UEQ1 & UEQ2 & UEQ3 & UEQ4 & UEQ5 & UEQ6 & UEQ7 & UEQ8 & UEQ9 & UEQ10 & UEQ11 & UEQ12 & UEQ13 & UEQ14 & UEQ15 & UEQ16 & UEQ17 & UEQ18 & UEQ19 & UEQ20 & UEQ21 & UEQ22 & UEQ23 & UEQ24 & UEQ25 & UEQ26 & group\\\\\n",
       " <dbl> & <dbl> & <dbl> & <dbl> & <dbl> & <dbl> & <dbl> & <dbl> & <dbl> & <dbl> & <dbl> & <dbl> & <dbl> & <dbl> & <dbl> & <dbl> & <dbl> & <dbl> & <dbl> & <dbl> & <dbl> & <dbl> & <dbl> & <dbl> & <dbl> & <dbl> & <fct>\\\\\n",
       "\\hline\n",
       "\t 7 & 6 & 1 & 2 & 2 & 6 & 7 & 3 & 5 & 1 & 7 & 1 & 4 & 7 & 7 & 7 & 2 & 1 & 1 & 6 & 2 & 6 & 2 & 2 & 2 & 7 & weighted\\\\\n",
       "\t 4 & 4 & 6 & 4 & 1 & 3 & 2 & 4 & 1 & 4 & 4 & 4 & 4 & 4 & 1 & 4 & 4 & 6 & 4 & 4 & 4 & 3 & 6 & 6 & 6 & 5 & weighted\\\\\n",
       "\t 6 & 6 & 1 & 4 & 2 & 5 & 5 & 2 & 2 & 1 & 5 & 3 & 2 & 5 & 6 & 6 & 6 & 3 & 4 & 6 & 3 & 7 & 2 & 2 & 2 & 7 & weighted\\\\\n",
       "\t 4 & 5 & 4 & 5 & 5 & 3 & 4 & 3 & 5 & 2 & 5 & 2 & 4 & 4 & 4 & 4 & 3 & 3 & 3 & 5 & 3 & 5 & 2 & 3 & 4 & 4 & weighted\\\\\n",
       "\t 7 & 7 & 1 & 1 & 1 & 6 & 7 & 4 & 1 & 1 & 7 & 1 & 4 & 6 & 6 & 6 & 1 & 1 & 1 & 7 & 2 & 7 & 1 & 1 & 1 & 7 & weighted\\\\\n",
       "\t 5 & 5 & 6 & 4 & 3 & 5 & 6 & 4 & 4 & 3 & 5 & 3 & 4 & 5 & 5 & 5 & 3 & 2 & 3 & 4 & 3 & 5 & 3 & 4 & 2 & 5 & weighted\\\\\n",
       "\t 4 & 5 & 2 & 1 & 2 & 4 & 6 & 5 & 3 & 1 & 6 & 2 & 6 & 4 & 4 & 5 & 2 & 2 & 3 & 6 & 2 & 6 & 2 & 3 & 2 & 6 & weighted\\\\\n",
       "\t 5 & 5 & 4 & 4 & 5 & 5 & 6 & 5 & 6 & 2 & 6 & 2 & 4 & 5 & 6 & 6 & 2 & 2 & 3 & 6 & 3 & 6 & 3 & 2 & 2 & 7 & weighted\\\\\n",
       "\t 5 & 4 & 3 & 4 & 3 & 5 & 5 & 4 & 4 & 5 & 4 & 3 & 3 & 4 & 4 & 5 & 4 & 3 & 4 & 4 & 4 & 4 & 3 & 4 & 4 & 4 & weighted\\\\\n",
       "\t 6 & 6 & 3 & 1 & 1 & 4 & 6 & 6 & 2 & 2 & 6 & 1 & 6 & 6 & 6 & 7 & 2 & 1 & 1 & 6 & 1 & 6 & 1 & 2 & 2 & 5 & weighted\\\\\n",
       "\t 6 & 7 & 3 & 1 & 1 & 4 & 6 & 4 & 4 & 4 & 6 & 1 & 7 & 4 & 4 & 4 & 4 & 2 & 4 & 4 & 1 & 7 & 1 & 4 & 4 & 6 & weighted\\\\\n",
       "\t 7 & 6 & 2 & 1 & 1 & 5 & 6 & 7 & 1 & 2 & 7 & 2 & 6 & 7 & 5 & 6 & 1 & 1 & 2 & 6 & 1 & 6 & 1 & 2 & 1 & 7 & weighted\\\\\n",
       "\t 6 & 6 & 2 & 3 & 3 & 4 & 4 & 6 & 2 & 2 & 5 & 2 & 3 & 6 & 5 & 7 & 1 & 2 & 2 & 6 & 1 & 7 & 2 & 2 & 2 & 5 & weighted\\\\\n",
       "\t 5 & 3 & 5 & 4 & 4 & 3 & 3 & 3 & 4 & 4 & 4 & 6 & 3 & 2 & 5 & 3 & 3 & 6 & 4 & 4 & 6 & 3 & 6 & 5 & 5 & 4 & weighted\\\\\n",
       "\t 5 & 6 & 4 & 2 & 2 & 5 & 6 & 5 & 3 & 2 & 6 & 2 & 6 & 6 & 6 & 6 & 2 & 2 & 2 & 6 & 2 & 6 & 2 & 2 & 2 & 6 & weighted\\\\\n",
       "\t 5 & 6 & 2 & 2 & 2 & 5 & 6 & 6 & 2 & 2 & 5 & 2 & 6 & 4 & 5 & 5 & 2 & 2 & 2 & 6 & 2 & 6 & 2 & 2 & 2 & 6 & weighted\\\\\n",
       "\t 3 & 4 & 4 & 3 & 4 & 3 & 4 & 5 & 4 & 3 & 4 & 3 & 4 & 4 & 5 & 4 & 4 & 3 & 4 & 5 & 4 & 5 & 4 & 4 & 3 & 5 & weighted\\\\\n",
       "\t 7 & 7 & 4 & 1 & 4 & 4 & 7 & 4 & 4 & 4 & 4 & 4 & 4 & 4 & 4 & 4 & 4 & 4 & 4 & 4 & 4 & 4 & 4 & 4 & 4 & 4 & weighted\\\\\n",
       "\t 6 & 5 & 2 & 2 & 2 & 4 & 6 & 5 & 1 & 1 & 7 & 1 & 4 & 6 & 6 & 6 & 2 & 2 & 2 & 6 & 2 & 6 & 2 & 2 & 2 & 5 & weighted\\\\\n",
       "\t 5 & 5 & 4 & 3 & 2 & 4 & 5 & 6 & 2 & 4 & 5 & 3 & 7 & 5 & 5 & 6 & 1 & 1 & 3 & 6 & 3 & 6 & 3 & 3 & 2 & 4 & weighted\\\\\n",
       "\t 7 & 7 & 1 & 1 & 1 & 7 & 5 & 5 & 1 & 1 & 7 & 1 & 7 & 5 & 4 & 5 & 6 & 2 & 4 & 6 & 2 & 5 & 2 & 2 & 1 & 7 & weighted\\\\\n",
       "\t 6 & 7 & 3 & 2 & 1 & 4 & 6 & 5 & 2 & 2 & 6 & 1 & 7 & 6 & 5 & 6 & 1 & 2 & 1 & 5 & 1 & 7 & 2 & 3 & 3 & 4 & weighted\\\\\n",
       "\t 7 & 6 & 1 & 2 & 1 & 5 & 7 & 2 & 5 & 1 & 7 & 1 & 3 & 4 & 6 & 5 & 1 & 1 & 1 & 7 & 1 & 7 & 2 & 3 & 2 & 7 & weighted\\\\\n",
       "\t 6 & 7 & 2 & 1 & 2 & 6 & 6 & 6 & 2 & 1 & 7 & 1 & 6 & 6 & 5 & 6 & 1 & 2 & 2 & 6 & 1 & 6 & 1 & 1 & 1 & 7 & weighted\\\\\n",
       "\t 6 & 5 & 3 & 2 & 4 & 4 & 5 & 4 & 2 & 2 & 6 & 5 & 5 & 5 & 5 & 5 & 3 & 3 & 2 & 6 & 3 & 6 & 4 & 4 & 2 & 6 & weighted\\\\\n",
       "\t 5 & 6 & 4 & 3 & 3 & 2 & 3 & 4 & 3 & 1 & 5 & 2 & 3 & 4 & 4 & 5 & 4 & 2 & 4 & 5 & 4 & 3 & 3 & 2 & 3 & 6 & weighted\\\\\n",
       "\t 7 & 6 & 3 & 1 & 2 & 5 & 6 & 4 & 1 & 1 & 6 & 1 & 7 & 6 & 6 & 6 & 1 & 2 & 2 & 6 & 2 & 7 & 1 & 1 & 1 & 7 & weighted\\\\\n",
       "\t 3 & 6 & 3 & 2 & 3 & 4 & 5 & 6 & 1 & 3 & 4 & 2 & 5 & 5 & 5 & 5 & 2 & 3 & 2 & 6 & 2 & 6 & 1 & 2 & 2 & 4 & weighted\\\\\n",
       "\t 4 & 6 & 4 & 5 & 4 & 4 & 5 & 5 & 4 & 3 & 4 & 3 & 3 & 4 & 4 & 5 & 3 & 2 & 3 & 5 & 3 & 5 & 3 & 4 & 4 & 5 & weighted\\\\\n",
       "\t 4 & 6 & 4 & 3 & 1 & 4 & 6 & 4 & 2 & 2 & 4 & 2 & 6 & 4 & 7 & 4 & 3 & 4 & 4 & 4 & 1 & 6 & 2 & 3 & 1 & 4 & weighted\\\\\n",
       "\t ⋮ & ⋮ & ⋮ & ⋮ & ⋮ & ⋮ & ⋮ & ⋮ & ⋮ & ⋮ & ⋮ & ⋮ & ⋮ & ⋮ & ⋮ & ⋮ & ⋮ & ⋮ & ⋮ & ⋮ & ⋮ & ⋮ & ⋮ & ⋮ & ⋮ & ⋮ & ⋮\\\\\n",
       "\t 4 & 5 & 4 & 5 & 5 & 3 & 4 & 3 & 5 & 2 & 5 & 2 & 4 & 4 & 4 & 4 & 3 & 3 & 3 & 5 & 3 & 5 & 2 & 3 & 4 & 4 & non-weighted\\\\\n",
       "\t 7 & 7 & 1 & 1 & 1 & 6 & 7 & 4 & 1 & 1 & 7 & 1 & 4 & 6 & 6 & 6 & 1 & 1 & 1 & 7 & 2 & 7 & 1 & 1 & 1 & 7 & non-weighted\\\\\n",
       "\t 5 & 5 & 6 & 4 & 3 & 5 & 6 & 4 & 4 & 3 & 5 & 3 & 4 & 5 & 5 & 5 & 3 & 2 & 3 & 4 & 3 & 5 & 3 & 4 & 2 & 5 & non-weighted\\\\\n",
       "\t 4 & 5 & 2 & 1 & 2 & 4 & 6 & 5 & 3 & 1 & 6 & 2 & 6 & 4 & 4 & 5 & 2 & 2 & 3 & 6 & 2 & 6 & 2 & 3 & 2 & 6 & non-weighted\\\\\n",
       "\t 5 & 5 & 4 & 4 & 5 & 5 & 6 & 5 & 6 & 2 & 6 & 2 & 4 & 5 & 6 & 6 & 2 & 2 & 3 & 6 & 3 & 6 & 3 & 2 & 2 & 7 & non-weighted\\\\\n",
       "\t 5 & 4 & 3 & 4 & 3 & 5 & 5 & 4 & 4 & 5 & 4 & 3 & 3 & 4 & 4 & 5 & 4 & 3 & 4 & 4 & 4 & 4 & 3 & 4 & 4 & 4 & non-weighted\\\\\n",
       "\t 6 & 6 & 3 & 1 & 1 & 4 & 6 & 6 & 2 & 2 & 6 & 1 & 6 & 6 & 6 & 7 & 2 & 1 & 1 & 6 & 1 & 6 & 1 & 2 & 2 & 5 & non-weighted\\\\\n",
       "\t 6 & 7 & 3 & 1 & 1 & 4 & 6 & 4 & 4 & 4 & 6 & 1 & 7 & 4 & 4 & 4 & 4 & 2 & 4 & 4 & 1 & 7 & 1 & 4 & 4 & 6 & non-weighted\\\\\n",
       "\t 7 & 6 & 2 & 1 & 1 & 5 & 6 & 7 & 1 & 2 & 7 & 2 & 6 & 7 & 5 & 6 & 1 & 1 & 2 & 6 & 1 & 6 & 1 & 2 & 1 & 7 & non-weighted\\\\\n",
       "\t 6 & 6 & 2 & 3 & 3 & 4 & 4 & 6 & 2 & 2 & 5 & 2 & 3 & 6 & 5 & 7 & 1 & 2 & 2 & 6 & 1 & 7 & 2 & 2 & 2 & 5 & non-weighted\\\\\n",
       "\t 5 & 3 & 5 & 4 & 4 & 3 & 3 & 3 & 4 & 4 & 4 & 6 & 3 & 2 & 5 & 3 & 3 & 6 & 4 & 4 & 6 & 3 & 6 & 5 & 5 & 4 & non-weighted\\\\\n",
       "\t 5 & 6 & 4 & 2 & 2 & 5 & 6 & 5 & 3 & 2 & 6 & 2 & 6 & 6 & 6 & 6 & 2 & 2 & 2 & 6 & 2 & 6 & 2 & 2 & 2 & 6 & non-weighted\\\\\n",
       "\t 5 & 6 & 2 & 2 & 2 & 5 & 6 & 6 & 2 & 2 & 5 & 2 & 6 & 4 & 5 & 5 & 2 & 2 & 2 & 6 & 2 & 6 & 2 & 2 & 2 & 6 & non-weighted\\\\\n",
       "\t 3 & 4 & 4 & 3 & 4 & 3 & 4 & 5 & 4 & 3 & 4 & 3 & 4 & 4 & 5 & 4 & 4 & 3 & 4 & 5 & 4 & 5 & 4 & 4 & 3 & 5 & non-weighted\\\\\n",
       "\t 7 & 7 & 4 & 1 & 4 & 4 & 7 & 4 & 4 & 4 & 4 & 4 & 4 & 4 & 4 & 4 & 4 & 4 & 4 & 4 & 4 & 4 & 4 & 4 & 4 & 4 & non-weighted\\\\\n",
       "\t 6 & 5 & 2 & 2 & 2 & 4 & 6 & 5 & 1 & 1 & 7 & 1 & 4 & 6 & 6 & 6 & 2 & 2 & 2 & 6 & 2 & 6 & 2 & 2 & 2 & 5 & non-weighted\\\\\n",
       "\t 5 & 5 & 4 & 3 & 2 & 4 & 5 & 6 & 2 & 4 & 5 & 3 & 7 & 5 & 5 & 6 & 1 & 1 & 3 & 6 & 3 & 6 & 3 & 3 & 2 & 4 & non-weighted\\\\\n",
       "\t 7 & 7 & 1 & 1 & 1 & 7 & 5 & 5 & 1 & 1 & 7 & 1 & 7 & 5 & 4 & 5 & 6 & 2 & 4 & 6 & 2 & 5 & 2 & 2 & 1 & 7 & non-weighted\\\\\n",
       "\t 6 & 7 & 3 & 2 & 1 & 4 & 6 & 5 & 2 & 2 & 6 & 1 & 7 & 6 & 5 & 6 & 1 & 2 & 1 & 5 & 1 & 7 & 2 & 3 & 3 & 4 & non-weighted\\\\\n",
       "\t 7 & 6 & 1 & 2 & 1 & 5 & 7 & 2 & 5 & 1 & 7 & 1 & 3 & 4 & 6 & 5 & 1 & 1 & 1 & 7 & 1 & 7 & 2 & 3 & 2 & 7 & non-weighted\\\\\n",
       "\t 6 & 7 & 2 & 1 & 2 & 6 & 6 & 6 & 2 & 1 & 7 & 1 & 6 & 6 & 5 & 6 & 1 & 2 & 2 & 6 & 1 & 6 & 1 & 1 & 1 & 7 & non-weighted\\\\\n",
       "\t 6 & 5 & 3 & 2 & 4 & 4 & 5 & 4 & 2 & 2 & 6 & 5 & 5 & 5 & 5 & 5 & 3 & 3 & 2 & 6 & 3 & 6 & 4 & 4 & 2 & 6 & non-weighted\\\\\n",
       "\t 5 & 6 & 4 & 3 & 3 & 2 & 3 & 4 & 3 & 1 & 5 & 2 & 3 & 4 & 4 & 5 & 4 & 2 & 4 & 5 & 4 & 3 & 3 & 2 & 3 & 6 & non-weighted\\\\\n",
       "\t 7 & 6 & 3 & 1 & 2 & 5 & 6 & 4 & 1 & 1 & 6 & 1 & 7 & 6 & 6 & 6 & 1 & 2 & 2 & 6 & 2 & 7 & 1 & 1 & 1 & 7 & non-weighted\\\\\n",
       "\t 3 & 6 & 3 & 2 & 3 & 4 & 5 & 6 & 1 & 3 & 4 & 2 & 5 & 5 & 5 & 5 & 2 & 3 & 2 & 6 & 2 & 6 & 1 & 2 & 2 & 4 & non-weighted\\\\\n",
       "\t 4 & 6 & 4 & 5 & 4 & 4 & 5 & 5 & 4 & 3 & 4 & 3 & 3 & 4 & 4 & 5 & 3 & 2 & 3 & 5 & 3 & 5 & 3 & 4 & 4 & 5 & non-weighted\\\\\n",
       "\t 4 & 6 & 4 & 3 & 1 & 4 & 6 & 4 & 2 & 2 & 4 & 2 & 6 & 4 & 7 & 4 & 3 & 4 & 4 & 4 & 1 & 6 & 2 & 3 & 1 & 4 & non-weighted\\\\\n",
       "\t 6 & 6 & 2 & 2 & 2 & 5 & 6 & 6 & 2 & 2 & 6 & 2 & 6 & 6 & 4 & 6 & 1 & 2 & 2 & 6 & 2 & 6 & 2 & 2 & 2 & 6 & non-weighted\\\\\n",
       "\t 5 & 5 & 4 & 4 & 3 & 4 & 4 & 4 & 2 & 3 & 5 & 2 & 6 & 4 & 4 & 4 & 3 & 3 & 4 & 4 & 3 & 5 & 2 & 3 & 3 & 4 & non-weighted\\\\\n",
       "\t 4 & 6 & 4 & 3 & 3 & 4 & 3 & 5 & 4 & 4 & 4 & 3 & 5 & 4 & 4 & 4 & 4 & 4 & 3 & 5 & 2 & 5 & 4 & 4 & 4 & 4 & non-weighted\\\\\n",
       "\\end{tabular}\n"
      ],
      "text/markdown": [
       "\n",
       "A data.frame: 66 × 27\n",
       "\n",
       "| UEQ1 &lt;dbl&gt; | UEQ2 &lt;dbl&gt; | UEQ3 &lt;dbl&gt; | UEQ4 &lt;dbl&gt; | UEQ5 &lt;dbl&gt; | UEQ6 &lt;dbl&gt; | UEQ7 &lt;dbl&gt; | UEQ8 &lt;dbl&gt; | UEQ9 &lt;dbl&gt; | UEQ10 &lt;dbl&gt; | ⋯ ⋯ | UEQ18 &lt;dbl&gt; | UEQ19 &lt;dbl&gt; | UEQ20 &lt;dbl&gt; | UEQ21 &lt;dbl&gt; | UEQ22 &lt;dbl&gt; | UEQ23 &lt;dbl&gt; | UEQ24 &lt;dbl&gt; | UEQ25 &lt;dbl&gt; | UEQ26 &lt;dbl&gt; | group &lt;fct&gt; |\n",
       "|---|---|---|---|---|---|---|---|---|---|---|---|---|---|---|---|---|---|---|---|---|\n",
       "| 7 | 6 | 1 | 2 | 2 | 6 | 7 | 3 | 5 | 1 | ⋯ | 1 | 1 | 6 | 2 | 6 | 2 | 2 | 2 | 7 | weighted |\n",
       "| 4 | 4 | 6 | 4 | 1 | 3 | 2 | 4 | 1 | 4 | ⋯ | 6 | 4 | 4 | 4 | 3 | 6 | 6 | 6 | 5 | weighted |\n",
       "| 6 | 6 | 1 | 4 | 2 | 5 | 5 | 2 | 2 | 1 | ⋯ | 3 | 4 | 6 | 3 | 7 | 2 | 2 | 2 | 7 | weighted |\n",
       "| 4 | 5 | 4 | 5 | 5 | 3 | 4 | 3 | 5 | 2 | ⋯ | 3 | 3 | 5 | 3 | 5 | 2 | 3 | 4 | 4 | weighted |\n",
       "| 7 | 7 | 1 | 1 | 1 | 6 | 7 | 4 | 1 | 1 | ⋯ | 1 | 1 | 7 | 2 | 7 | 1 | 1 | 1 | 7 | weighted |\n",
       "| 5 | 5 | 6 | 4 | 3 | 5 | 6 | 4 | 4 | 3 | ⋯ | 2 | 3 | 4 | 3 | 5 | 3 | 4 | 2 | 5 | weighted |\n",
       "| 4 | 5 | 2 | 1 | 2 | 4 | 6 | 5 | 3 | 1 | ⋯ | 2 | 3 | 6 | 2 | 6 | 2 | 3 | 2 | 6 | weighted |\n",
       "| 5 | 5 | 4 | 4 | 5 | 5 | 6 | 5 | 6 | 2 | ⋯ | 2 | 3 | 6 | 3 | 6 | 3 | 2 | 2 | 7 | weighted |\n",
       "| 5 | 4 | 3 | 4 | 3 | 5 | 5 | 4 | 4 | 5 | ⋯ | 3 | 4 | 4 | 4 | 4 | 3 | 4 | 4 | 4 | weighted |\n",
       "| 6 | 6 | 3 | 1 | 1 | 4 | 6 | 6 | 2 | 2 | ⋯ | 1 | 1 | 6 | 1 | 6 | 1 | 2 | 2 | 5 | weighted |\n",
       "| 6 | 7 | 3 | 1 | 1 | 4 | 6 | 4 | 4 | 4 | ⋯ | 2 | 4 | 4 | 1 | 7 | 1 | 4 | 4 | 6 | weighted |\n",
       "| 7 | 6 | 2 | 1 | 1 | 5 | 6 | 7 | 1 | 2 | ⋯ | 1 | 2 | 6 | 1 | 6 | 1 | 2 | 1 | 7 | weighted |\n",
       "| 6 | 6 | 2 | 3 | 3 | 4 | 4 | 6 | 2 | 2 | ⋯ | 2 | 2 | 6 | 1 | 7 | 2 | 2 | 2 | 5 | weighted |\n",
       "| 5 | 3 | 5 | 4 | 4 | 3 | 3 | 3 | 4 | 4 | ⋯ | 6 | 4 | 4 | 6 | 3 | 6 | 5 | 5 | 4 | weighted |\n",
       "| 5 | 6 | 4 | 2 | 2 | 5 | 6 | 5 | 3 | 2 | ⋯ | 2 | 2 | 6 | 2 | 6 | 2 | 2 | 2 | 6 | weighted |\n",
       "| 5 | 6 | 2 | 2 | 2 | 5 | 6 | 6 | 2 | 2 | ⋯ | 2 | 2 | 6 | 2 | 6 | 2 | 2 | 2 | 6 | weighted |\n",
       "| 3 | 4 | 4 | 3 | 4 | 3 | 4 | 5 | 4 | 3 | ⋯ | 3 | 4 | 5 | 4 | 5 | 4 | 4 | 3 | 5 | weighted |\n",
       "| 7 | 7 | 4 | 1 | 4 | 4 | 7 | 4 | 4 | 4 | ⋯ | 4 | 4 | 4 | 4 | 4 | 4 | 4 | 4 | 4 | weighted |\n",
       "| 6 | 5 | 2 | 2 | 2 | 4 | 6 | 5 | 1 | 1 | ⋯ | 2 | 2 | 6 | 2 | 6 | 2 | 2 | 2 | 5 | weighted |\n",
       "| 5 | 5 | 4 | 3 | 2 | 4 | 5 | 6 | 2 | 4 | ⋯ | 1 | 3 | 6 | 3 | 6 | 3 | 3 | 2 | 4 | weighted |\n",
       "| 7 | 7 | 1 | 1 | 1 | 7 | 5 | 5 | 1 | 1 | ⋯ | 2 | 4 | 6 | 2 | 5 | 2 | 2 | 1 | 7 | weighted |\n",
       "| 6 | 7 | 3 | 2 | 1 | 4 | 6 | 5 | 2 | 2 | ⋯ | 2 | 1 | 5 | 1 | 7 | 2 | 3 | 3 | 4 | weighted |\n",
       "| 7 | 6 | 1 | 2 | 1 | 5 | 7 | 2 | 5 | 1 | ⋯ | 1 | 1 | 7 | 1 | 7 | 2 | 3 | 2 | 7 | weighted |\n",
       "| 6 | 7 | 2 | 1 | 2 | 6 | 6 | 6 | 2 | 1 | ⋯ | 2 | 2 | 6 | 1 | 6 | 1 | 1 | 1 | 7 | weighted |\n",
       "| 6 | 5 | 3 | 2 | 4 | 4 | 5 | 4 | 2 | 2 | ⋯ | 3 | 2 | 6 | 3 | 6 | 4 | 4 | 2 | 6 | weighted |\n",
       "| 5 | 6 | 4 | 3 | 3 | 2 | 3 | 4 | 3 | 1 | ⋯ | 2 | 4 | 5 | 4 | 3 | 3 | 2 | 3 | 6 | weighted |\n",
       "| 7 | 6 | 3 | 1 | 2 | 5 | 6 | 4 | 1 | 1 | ⋯ | 2 | 2 | 6 | 2 | 7 | 1 | 1 | 1 | 7 | weighted |\n",
       "| 3 | 6 | 3 | 2 | 3 | 4 | 5 | 6 | 1 | 3 | ⋯ | 3 | 2 | 6 | 2 | 6 | 1 | 2 | 2 | 4 | weighted |\n",
       "| 4 | 6 | 4 | 5 | 4 | 4 | 5 | 5 | 4 | 3 | ⋯ | 2 | 3 | 5 | 3 | 5 | 3 | 4 | 4 | 5 | weighted |\n",
       "| 4 | 6 | 4 | 3 | 1 | 4 | 6 | 4 | 2 | 2 | ⋯ | 4 | 4 | 4 | 1 | 6 | 2 | 3 | 1 | 4 | weighted |\n",
       "| ⋮ | ⋮ | ⋮ | ⋮ | ⋮ | ⋮ | ⋮ | ⋮ | ⋮ | ⋮ | ⋱ | ⋮ | ⋮ | ⋮ | ⋮ | ⋮ | ⋮ | ⋮ | ⋮ | ⋮ | ⋮ |\n",
       "| 4 | 5 | 4 | 5 | 5 | 3 | 4 | 3 | 5 | 2 | ⋯ | 3 | 3 | 5 | 3 | 5 | 2 | 3 | 4 | 4 | non-weighted |\n",
       "| 7 | 7 | 1 | 1 | 1 | 6 | 7 | 4 | 1 | 1 | ⋯ | 1 | 1 | 7 | 2 | 7 | 1 | 1 | 1 | 7 | non-weighted |\n",
       "| 5 | 5 | 6 | 4 | 3 | 5 | 6 | 4 | 4 | 3 | ⋯ | 2 | 3 | 4 | 3 | 5 | 3 | 4 | 2 | 5 | non-weighted |\n",
       "| 4 | 5 | 2 | 1 | 2 | 4 | 6 | 5 | 3 | 1 | ⋯ | 2 | 3 | 6 | 2 | 6 | 2 | 3 | 2 | 6 | non-weighted |\n",
       "| 5 | 5 | 4 | 4 | 5 | 5 | 6 | 5 | 6 | 2 | ⋯ | 2 | 3 | 6 | 3 | 6 | 3 | 2 | 2 | 7 | non-weighted |\n",
       "| 5 | 4 | 3 | 4 | 3 | 5 | 5 | 4 | 4 | 5 | ⋯ | 3 | 4 | 4 | 4 | 4 | 3 | 4 | 4 | 4 | non-weighted |\n",
       "| 6 | 6 | 3 | 1 | 1 | 4 | 6 | 6 | 2 | 2 | ⋯ | 1 | 1 | 6 | 1 | 6 | 1 | 2 | 2 | 5 | non-weighted |\n",
       "| 6 | 7 | 3 | 1 | 1 | 4 | 6 | 4 | 4 | 4 | ⋯ | 2 | 4 | 4 | 1 | 7 | 1 | 4 | 4 | 6 | non-weighted |\n",
       "| 7 | 6 | 2 | 1 | 1 | 5 | 6 | 7 | 1 | 2 | ⋯ | 1 | 2 | 6 | 1 | 6 | 1 | 2 | 1 | 7 | non-weighted |\n",
       "| 6 | 6 | 2 | 3 | 3 | 4 | 4 | 6 | 2 | 2 | ⋯ | 2 | 2 | 6 | 1 | 7 | 2 | 2 | 2 | 5 | non-weighted |\n",
       "| 5 | 3 | 5 | 4 | 4 | 3 | 3 | 3 | 4 | 4 | ⋯ | 6 | 4 | 4 | 6 | 3 | 6 | 5 | 5 | 4 | non-weighted |\n",
       "| 5 | 6 | 4 | 2 | 2 | 5 | 6 | 5 | 3 | 2 | ⋯ | 2 | 2 | 6 | 2 | 6 | 2 | 2 | 2 | 6 | non-weighted |\n",
       "| 5 | 6 | 2 | 2 | 2 | 5 | 6 | 6 | 2 | 2 | ⋯ | 2 | 2 | 6 | 2 | 6 | 2 | 2 | 2 | 6 | non-weighted |\n",
       "| 3 | 4 | 4 | 3 | 4 | 3 | 4 | 5 | 4 | 3 | ⋯ | 3 | 4 | 5 | 4 | 5 | 4 | 4 | 3 | 5 | non-weighted |\n",
       "| 7 | 7 | 4 | 1 | 4 | 4 | 7 | 4 | 4 | 4 | ⋯ | 4 | 4 | 4 | 4 | 4 | 4 | 4 | 4 | 4 | non-weighted |\n",
       "| 6 | 5 | 2 | 2 | 2 | 4 | 6 | 5 | 1 | 1 | ⋯ | 2 | 2 | 6 | 2 | 6 | 2 | 2 | 2 | 5 | non-weighted |\n",
       "| 5 | 5 | 4 | 3 | 2 | 4 | 5 | 6 | 2 | 4 | ⋯ | 1 | 3 | 6 | 3 | 6 | 3 | 3 | 2 | 4 | non-weighted |\n",
       "| 7 | 7 | 1 | 1 | 1 | 7 | 5 | 5 | 1 | 1 | ⋯ | 2 | 4 | 6 | 2 | 5 | 2 | 2 | 1 | 7 | non-weighted |\n",
       "| 6 | 7 | 3 | 2 | 1 | 4 | 6 | 5 | 2 | 2 | ⋯ | 2 | 1 | 5 | 1 | 7 | 2 | 3 | 3 | 4 | non-weighted |\n",
       "| 7 | 6 | 1 | 2 | 1 | 5 | 7 | 2 | 5 | 1 | ⋯ | 1 | 1 | 7 | 1 | 7 | 2 | 3 | 2 | 7 | non-weighted |\n",
       "| 6 | 7 | 2 | 1 | 2 | 6 | 6 | 6 | 2 | 1 | ⋯ | 2 | 2 | 6 | 1 | 6 | 1 | 1 | 1 | 7 | non-weighted |\n",
       "| 6 | 5 | 3 | 2 | 4 | 4 | 5 | 4 | 2 | 2 | ⋯ | 3 | 2 | 6 | 3 | 6 | 4 | 4 | 2 | 6 | non-weighted |\n",
       "| 5 | 6 | 4 | 3 | 3 | 2 | 3 | 4 | 3 | 1 | ⋯ | 2 | 4 | 5 | 4 | 3 | 3 | 2 | 3 | 6 | non-weighted |\n",
       "| 7 | 6 | 3 | 1 | 2 | 5 | 6 | 4 | 1 | 1 | ⋯ | 2 | 2 | 6 | 2 | 7 | 1 | 1 | 1 | 7 | non-weighted |\n",
       "| 3 | 6 | 3 | 2 | 3 | 4 | 5 | 6 | 1 | 3 | ⋯ | 3 | 2 | 6 | 2 | 6 | 1 | 2 | 2 | 4 | non-weighted |\n",
       "| 4 | 6 | 4 | 5 | 4 | 4 | 5 | 5 | 4 | 3 | ⋯ | 2 | 3 | 5 | 3 | 5 | 3 | 4 | 4 | 5 | non-weighted |\n",
       "| 4 | 6 | 4 | 3 | 1 | 4 | 6 | 4 | 2 | 2 | ⋯ | 4 | 4 | 4 | 1 | 6 | 2 | 3 | 1 | 4 | non-weighted |\n",
       "| 6 | 6 | 2 | 2 | 2 | 5 | 6 | 6 | 2 | 2 | ⋯ | 2 | 2 | 6 | 2 | 6 | 2 | 2 | 2 | 6 | non-weighted |\n",
       "| 5 | 5 | 4 | 4 | 3 | 4 | 4 | 4 | 2 | 3 | ⋯ | 3 | 4 | 4 | 3 | 5 | 2 | 3 | 3 | 4 | non-weighted |\n",
       "| 4 | 6 | 4 | 3 | 3 | 4 | 3 | 5 | 4 | 4 | ⋯ | 4 | 3 | 5 | 2 | 5 | 4 | 4 | 4 | 4 | non-weighted |\n",
       "\n"
      ],
      "text/plain": [
       "   UEQ1 UEQ2 UEQ3 UEQ4 UEQ5 UEQ6 UEQ7 UEQ8 UEQ9 UEQ10 ⋯ UEQ18 UEQ19 UEQ20 UEQ21\n",
       "1  7    6    1    2    2    6    7    3    5    1     ⋯ 1     1     6     2    \n",
       "2  4    4    6    4    1    3    2    4    1    4     ⋯ 6     4     4     4    \n",
       "3  6    6    1    4    2    5    5    2    2    1     ⋯ 3     4     6     3    \n",
       "4  4    5    4    5    5    3    4    3    5    2     ⋯ 3     3     5     3    \n",
       "5  7    7    1    1    1    6    7    4    1    1     ⋯ 1     1     7     2    \n",
       "6  5    5    6    4    3    5    6    4    4    3     ⋯ 2     3     4     3    \n",
       "7  4    5    2    1    2    4    6    5    3    1     ⋯ 2     3     6     2    \n",
       "8  5    5    4    4    5    5    6    5    6    2     ⋯ 2     3     6     3    \n",
       "9  5    4    3    4    3    5    5    4    4    5     ⋯ 3     4     4     4    \n",
       "10 6    6    3    1    1    4    6    6    2    2     ⋯ 1     1     6     1    \n",
       "11 6    7    3    1    1    4    6    4    4    4     ⋯ 2     4     4     1    \n",
       "12 7    6    2    1    1    5    6    7    1    2     ⋯ 1     2     6     1    \n",
       "13 6    6    2    3    3    4    4    6    2    2     ⋯ 2     2     6     1    \n",
       "14 5    3    5    4    4    3    3    3    4    4     ⋯ 6     4     4     6    \n",
       "15 5    6    4    2    2    5    6    5    3    2     ⋯ 2     2     6     2    \n",
       "16 5    6    2    2    2    5    6    6    2    2     ⋯ 2     2     6     2    \n",
       "17 3    4    4    3    4    3    4    5    4    3     ⋯ 3     4     5     4    \n",
       "18 7    7    4    1    4    4    7    4    4    4     ⋯ 4     4     4     4    \n",
       "19 6    5    2    2    2    4    6    5    1    1     ⋯ 2     2     6     2    \n",
       "20 5    5    4    3    2    4    5    6    2    4     ⋯ 1     3     6     3    \n",
       "21 7    7    1    1    1    7    5    5    1    1     ⋯ 2     4     6     2    \n",
       "22 6    7    3    2    1    4    6    5    2    2     ⋯ 2     1     5     1    \n",
       "23 7    6    1    2    1    5    7    2    5    1     ⋯ 1     1     7     1    \n",
       "24 6    7    2    1    2    6    6    6    2    1     ⋯ 2     2     6     1    \n",
       "25 6    5    3    2    4    4    5    4    2    2     ⋯ 3     2     6     3    \n",
       "26 5    6    4    3    3    2    3    4    3    1     ⋯ 2     4     5     4    \n",
       "27 7    6    3    1    2    5    6    4    1    1     ⋯ 2     2     6     2    \n",
       "28 3    6    3    2    3    4    5    6    1    3     ⋯ 3     2     6     2    \n",
       "29 4    6    4    5    4    4    5    5    4    3     ⋯ 2     3     5     3    \n",
       "30 4    6    4    3    1    4    6    4    2    2     ⋯ 4     4     4     1    \n",
       "⋮  ⋮    ⋮    ⋮    ⋮    ⋮    ⋮    ⋮    ⋮    ⋮    ⋮     ⋱ ⋮     ⋮     ⋮     ⋮    \n",
       "37 4    5    4    5    5    3    4    3    5    2     ⋯ 3     3     5     3    \n",
       "38 7    7    1    1    1    6    7    4    1    1     ⋯ 1     1     7     2    \n",
       "39 5    5    6    4    3    5    6    4    4    3     ⋯ 2     3     4     3    \n",
       "40 4    5    2    1    2    4    6    5    3    1     ⋯ 2     3     6     2    \n",
       "41 5    5    4    4    5    5    6    5    6    2     ⋯ 2     3     6     3    \n",
       "42 5    4    3    4    3    5    5    4    4    5     ⋯ 3     4     4     4    \n",
       "43 6    6    3    1    1    4    6    6    2    2     ⋯ 1     1     6     1    \n",
       "44 6    7    3    1    1    4    6    4    4    4     ⋯ 2     4     4     1    \n",
       "45 7    6    2    1    1    5    6    7    1    2     ⋯ 1     2     6     1    \n",
       "46 6    6    2    3    3    4    4    6    2    2     ⋯ 2     2     6     1    \n",
       "47 5    3    5    4    4    3    3    3    4    4     ⋯ 6     4     4     6    \n",
       "48 5    6    4    2    2    5    6    5    3    2     ⋯ 2     2     6     2    \n",
       "49 5    6    2    2    2    5    6    6    2    2     ⋯ 2     2     6     2    \n",
       "50 3    4    4    3    4    3    4    5    4    3     ⋯ 3     4     5     4    \n",
       "51 7    7    4    1    4    4    7    4    4    4     ⋯ 4     4     4     4    \n",
       "52 6    5    2    2    2    4    6    5    1    1     ⋯ 2     2     6     2    \n",
       "53 5    5    4    3    2    4    5    6    2    4     ⋯ 1     3     6     3    \n",
       "54 7    7    1    1    1    7    5    5    1    1     ⋯ 2     4     6     2    \n",
       "55 6    7    3    2    1    4    6    5    2    2     ⋯ 2     1     5     1    \n",
       "56 7    6    1    2    1    5    7    2    5    1     ⋯ 1     1     7     1    \n",
       "57 6    7    2    1    2    6    6    6    2    1     ⋯ 2     2     6     1    \n",
       "58 6    5    3    2    4    4    5    4    2    2     ⋯ 3     2     6     3    \n",
       "59 5    6    4    3    3    2    3    4    3    1     ⋯ 2     4     5     4    \n",
       "60 7    6    3    1    2    5    6    4    1    1     ⋯ 2     2     6     2    \n",
       "61 3    6    3    2    3    4    5    6    1    3     ⋯ 3     2     6     2    \n",
       "62 4    6    4    5    4    4    5    5    4    3     ⋯ 2     3     5     3    \n",
       "63 4    6    4    3    1    4    6    4    2    2     ⋯ 4     4     4     1    \n",
       "64 6    6    2    2    2    5    6    6    2    2     ⋯ 2     2     6     2    \n",
       "65 5    5    4    4    3    4    4    4    2    3     ⋯ 3     4     4     3    \n",
       "66 4    6    4    3    3    4    3    5    4    4     ⋯ 4     3     5     2    \n",
       "   UEQ22 UEQ23 UEQ24 UEQ25 UEQ26 group       \n",
       "1  6     2     2     2     7     weighted    \n",
       "2  3     6     6     6     5     weighted    \n",
       "3  7     2     2     2     7     weighted    \n",
       "4  5     2     3     4     4     weighted    \n",
       "5  7     1     1     1     7     weighted    \n",
       "6  5     3     4     2     5     weighted    \n",
       "7  6     2     3     2     6     weighted    \n",
       "8  6     3     2     2     7     weighted    \n",
       "9  4     3     4     4     4     weighted    \n",
       "10 6     1     2     2     5     weighted    \n",
       "11 7     1     4     4     6     weighted    \n",
       "12 6     1     2     1     7     weighted    \n",
       "13 7     2     2     2     5     weighted    \n",
       "14 3     6     5     5     4     weighted    \n",
       "15 6     2     2     2     6     weighted    \n",
       "16 6     2     2     2     6     weighted    \n",
       "17 5     4     4     3     5     weighted    \n",
       "18 4     4     4     4     4     weighted    \n",
       "19 6     2     2     2     5     weighted    \n",
       "20 6     3     3     2     4     weighted    \n",
       "21 5     2     2     1     7     weighted    \n",
       "22 7     2     3     3     4     weighted    \n",
       "23 7     2     3     2     7     weighted    \n",
       "24 6     1     1     1     7     weighted    \n",
       "25 6     4     4     2     6     weighted    \n",
       "26 3     3     2     3     6     weighted    \n",
       "27 7     1     1     1     7     weighted    \n",
       "28 6     1     2     2     4     weighted    \n",
       "29 5     3     4     4     5     weighted    \n",
       "30 6     2     3     1     4     weighted    \n",
       "⋮  ⋮     ⋮     ⋮     ⋮     ⋮     ⋮           \n",
       "37 5     2     3     4     4     non-weighted\n",
       "38 7     1     1     1     7     non-weighted\n",
       "39 5     3     4     2     5     non-weighted\n",
       "40 6     2     3     2     6     non-weighted\n",
       "41 6     3     2     2     7     non-weighted\n",
       "42 4     3     4     4     4     non-weighted\n",
       "43 6     1     2     2     5     non-weighted\n",
       "44 7     1     4     4     6     non-weighted\n",
       "45 6     1     2     1     7     non-weighted\n",
       "46 7     2     2     2     5     non-weighted\n",
       "47 3     6     5     5     4     non-weighted\n",
       "48 6     2     2     2     6     non-weighted\n",
       "49 6     2     2     2     6     non-weighted\n",
       "50 5     4     4     3     5     non-weighted\n",
       "51 4     4     4     4     4     non-weighted\n",
       "52 6     2     2     2     5     non-weighted\n",
       "53 6     3     3     2     4     non-weighted\n",
       "54 5     2     2     1     7     non-weighted\n",
       "55 7     2     3     3     4     non-weighted\n",
       "56 7     2     3     2     7     non-weighted\n",
       "57 6     1     1     1     7     non-weighted\n",
       "58 6     4     4     2     6     non-weighted\n",
       "59 3     3     2     3     6     non-weighted\n",
       "60 7     1     1     1     7     non-weighted\n",
       "61 6     1     2     2     4     non-weighted\n",
       "62 5     3     4     4     5     non-weighted\n",
       "63 6     2     3     1     4     non-weighted\n",
       "64 6     2     2     2     6     non-weighted\n",
       "65 5     2     3     3     4     non-weighted\n",
       "66 5     4     4     4     4     non-weighted"
      ]
     },
     "metadata": {},
     "output_type": "display_data"
    }
   ],
   "source": [
    "## duplicate data - with and without weights\n",
    "data_merged <- merge_data(data_1 = data[,1:26], data_2 = data[,1:26], label_1 = \"weighted\", label_2 = \"non-weighted\")\n",
    "weights_merged <- c(weights, rep(1, nrow(data)))\n",
    "\n",
    "weights_merged\n",
    "data_merged"
   ]
  },
  {
   "cell_type": "code",
   "execution_count": 27,
   "metadata": {
    "ExecuteTime": {
     "end_time": "2020-07-23T20:12:56.312866Z",
     "start_time": "2020-07-23T20:12:46.963Z"
    }
   },
   "outputs": [],
   "source": [
    "## rescale data\n",
    "DT_merged <- rescale_data(data = data_merged)\n",
    "## calculate means for each dimension\n",
    "tab_merged <- means_person(rescaled_data = DT_merged, grouping = TRUE)"
   ]
  },
  {
   "cell_type": "code",
   "execution_count": 28,
   "metadata": {
    "ExecuteTime": {
     "end_time": "2020-07-23T20:12:56.368744Z",
     "start_time": "2020-07-23T20:12:46.977Z"
    }
   },
   "outputs": [
    {
     "data": {
      "text/html": [
       "<table>\n",
       "<caption>A data.frame: 2 × 7</caption>\n",
       "<thead>\n",
       "\t<tr><th scope=col>group</th><th scope=col>Attractiveness</th><th scope=col>Perspicuity</th><th scope=col>Efficiency</th><th scope=col>Dependability</th><th scope=col>Stimulation</th><th scope=col>Novelty</th></tr>\n",
       "\t<tr><th scope=col>&lt;fct&gt;</th><th scope=col>&lt;dbl&gt;</th><th scope=col>&lt;dbl&gt;</th><th scope=col>&lt;dbl&gt;</th><th scope=col>&lt;dbl&gt;</th><th scope=col>&lt;dbl&gt;</th><th scope=col>&lt;dbl&gt;</th></tr>\n",
       "</thead>\n",
       "<tbody>\n",
       "\t<tr><td>weighted    </td><td>1.284382</td><td>1.370661</td><td>1.427959</td><td>1.112613</td><td>1.17629</td><td>1.251113</td></tr>\n",
       "\t<tr><td>non-weighted</td><td>1.318182</td><td>1.393939</td><td>1.446970</td><td>1.166667</td><td>1.19697</td><td>1.250000</td></tr>\n",
       "</tbody>\n",
       "</table>\n"
      ],
      "text/latex": [
       "A data.frame: 2 × 7\n",
       "\\begin{tabular}{r|lllllll}\n",
       " group & Attractiveness & Perspicuity & Efficiency & Dependability & Stimulation & Novelty\\\\\n",
       " <fct> & <dbl> & <dbl> & <dbl> & <dbl> & <dbl> & <dbl>\\\\\n",
       "\\hline\n",
       "\t weighted     & 1.284382 & 1.370661 & 1.427959 & 1.112613 & 1.17629 & 1.251113\\\\\n",
       "\t non-weighted & 1.318182 & 1.393939 & 1.446970 & 1.166667 & 1.19697 & 1.250000\\\\\n",
       "\\end{tabular}\n"
      ],
      "text/markdown": [
       "\n",
       "A data.frame: 2 × 7\n",
       "\n",
       "| group &lt;fct&gt; | Attractiveness &lt;dbl&gt; | Perspicuity &lt;dbl&gt; | Efficiency &lt;dbl&gt; | Dependability &lt;dbl&gt; | Stimulation &lt;dbl&gt; | Novelty &lt;dbl&gt; |\n",
       "|---|---|---|---|---|---|---|\n",
       "| weighted     | 1.284382 | 1.370661 | 1.427959 | 1.112613 | 1.17629 | 1.251113 |\n",
       "| non-weighted | 1.318182 | 1.393939 | 1.446970 | 1.166667 | 1.19697 | 1.250000 |\n",
       "\n"
      ],
      "text/plain": [
       "  group        Attractiveness Perspicuity Efficiency Dependability Stimulation\n",
       "1 weighted     1.284382       1.370661    1.427959   1.112613      1.17629    \n",
       "2 non-weighted 1.318182       1.393939    1.446970   1.166667      1.19697    \n",
       "  Novelty \n",
       "1 1.251113\n",
       "2 1.250000"
      ]
     },
     "metadata": {},
     "output_type": "display_data"
    }
   ],
   "source": [
    "dimensions_mean(data = tab_merged, grouping = TRUE, weights = weights_merged)"
   ]
  },
  {
   "cell_type": "code",
   "execution_count": 29,
   "metadata": {
    "ExecuteTime": {
     "end_time": "2020-07-23T20:12:56.438554Z",
     "start_time": "2020-07-23T20:12:46.985Z"
    }
   },
   "outputs": [
    {
     "data": {
      "text/html": [
       "<table>\n",
       "<caption>A data.frame: 2 × 7</caption>\n",
       "<thead>\n",
       "\t<tr><th scope=col>group</th><th scope=col>Attractiveness</th><th scope=col>Perspicuity</th><th scope=col>Efficiency</th><th scope=col>Dependability</th><th scope=col>Stimulation</th><th scope=col>Novelty</th></tr>\n",
       "\t<tr><th scope=col>&lt;fct&gt;</th><th scope=col>&lt;dbl&gt;</th><th scope=col>&lt;dbl&gt;</th><th scope=col>&lt;dbl&gt;</th><th scope=col>&lt;dbl&gt;</th><th scope=col>&lt;dbl&gt;</th><th scope=col>&lt;dbl&gt;</th></tr>\n",
       "</thead>\n",
       "<tbody>\n",
       "\t<tr><td>weighted    </td><td>0.9498514</td><td>1.011575</td><td>0.9174530</td><td>0.9071991</td><td>0.9186583</td><td>0.9757779</td></tr>\n",
       "\t<tr><td>non-weighted</td><td>0.9486500</td><td>1.005901</td><td>0.9137782</td><td>0.9178496</td><td>0.9265139</td><td>0.9882118</td></tr>\n",
       "</tbody>\n",
       "</table>\n"
      ],
      "text/latex": [
       "A data.frame: 2 × 7\n",
       "\\begin{tabular}{r|lllllll}\n",
       " group & Attractiveness & Perspicuity & Efficiency & Dependability & Stimulation & Novelty\\\\\n",
       " <fct> & <dbl> & <dbl> & <dbl> & <dbl> & <dbl> & <dbl>\\\\\n",
       "\\hline\n",
       "\t weighted     & 0.9498514 & 1.011575 & 0.9174530 & 0.9071991 & 0.9186583 & 0.9757779\\\\\n",
       "\t non-weighted & 0.9486500 & 1.005901 & 0.9137782 & 0.9178496 & 0.9265139 & 0.9882118\\\\\n",
       "\\end{tabular}\n"
      ],
      "text/markdown": [
       "\n",
       "A data.frame: 2 × 7\n",
       "\n",
       "| group &lt;fct&gt; | Attractiveness &lt;dbl&gt; | Perspicuity &lt;dbl&gt; | Efficiency &lt;dbl&gt; | Dependability &lt;dbl&gt; | Stimulation &lt;dbl&gt; | Novelty &lt;dbl&gt; |\n",
       "|---|---|---|---|---|---|---|\n",
       "| weighted     | 0.9498514 | 1.011575 | 0.9174530 | 0.9071991 | 0.9186583 | 0.9757779 |\n",
       "| non-weighted | 0.9486500 | 1.005901 | 0.9137782 | 0.9178496 | 0.9265139 | 0.9882118 |\n",
       "\n"
      ],
      "text/plain": [
       "  group        Attractiveness Perspicuity Efficiency Dependability Stimulation\n",
       "1 weighted     0.9498514      1.011575    0.9174530  0.9071991     0.9186583  \n",
       "2 non-weighted 0.9486500      1.005901    0.9137782  0.9178496     0.9265139  \n",
       "  Novelty  \n",
       "1 0.9757779\n",
       "2 0.9882118"
      ]
     },
     "metadata": {},
     "output_type": "display_data"
    }
   ],
   "source": [
    "dimensions_deviation(data = tab_merged, grouping = TRUE, weights = weights_merged)"
   ]
  },
  {
   "cell_type": "code",
   "execution_count": 30,
   "metadata": {
    "ExecuteTime": {
     "end_time": "2020-07-23T20:12:56.552352Z",
     "start_time": "2020-07-23T20:12:46.995Z"
    }
   },
   "outputs": [
    {
     "data": {
      "text/html": [
       "<table>\n",
       "<caption>A data.frame: 2 × 7</caption>\n",
       "<thead>\n",
       "\t<tr><th scope=col>group</th><th scope=col>Attractiveness</th><th scope=col>Perspicuity</th><th scope=col>Efficiency</th><th scope=col>Dependability</th><th scope=col>Stimulation</th><th scope=col>Novelty</th></tr>\n",
       "\t<tr><th scope=col>&lt;fct&gt;</th><th scope=col>&lt;dbl&gt;</th><th scope=col>&lt;dbl&gt;</th><th scope=col>&lt;dbl&gt;</th><th scope=col>&lt;dbl&gt;</th><th scope=col>&lt;dbl&gt;</th><th scope=col>&lt;dbl&gt;</th></tr>\n",
       "</thead>\n",
       "<tbody>\n",
       "\t<tr><td>weighted    </td><td>0.1653479</td><td>0.1760925</td><td>0.1597081</td><td>0.1579231</td><td>0.1599179</td><td>0.1698611</td></tr>\n",
       "\t<tr><td>non-weighted</td><td>0.1651388</td><td>0.1751049</td><td>0.1590684</td><td>0.1597771</td><td>0.1612854</td><td>0.1720256</td></tr>\n",
       "</tbody>\n",
       "</table>\n"
      ],
      "text/latex": [
       "A data.frame: 2 × 7\n",
       "\\begin{tabular}{r|lllllll}\n",
       " group & Attractiveness & Perspicuity & Efficiency & Dependability & Stimulation & Novelty\\\\\n",
       " <fct> & <dbl> & <dbl> & <dbl> & <dbl> & <dbl> & <dbl>\\\\\n",
       "\\hline\n",
       "\t weighted     & 0.1653479 & 0.1760925 & 0.1597081 & 0.1579231 & 0.1599179 & 0.1698611\\\\\n",
       "\t non-weighted & 0.1651388 & 0.1751049 & 0.1590684 & 0.1597771 & 0.1612854 & 0.1720256\\\\\n",
       "\\end{tabular}\n"
      ],
      "text/markdown": [
       "\n",
       "A data.frame: 2 × 7\n",
       "\n",
       "| group &lt;fct&gt; | Attractiveness &lt;dbl&gt; | Perspicuity &lt;dbl&gt; | Efficiency &lt;dbl&gt; | Dependability &lt;dbl&gt; | Stimulation &lt;dbl&gt; | Novelty &lt;dbl&gt; |\n",
       "|---|---|---|---|---|---|---|\n",
       "| weighted     | 0.1653479 | 0.1760925 | 0.1597081 | 0.1579231 | 0.1599179 | 0.1698611 |\n",
       "| non-weighted | 0.1651388 | 0.1751049 | 0.1590684 | 0.1597771 | 0.1612854 | 0.1720256 |\n",
       "\n"
      ],
      "text/plain": [
       "  group        Attractiveness Perspicuity Efficiency Dependability Stimulation\n",
       "1 weighted     0.1653479      0.1760925   0.1597081  0.1579231     0.1599179  \n",
       "2 non-weighted 0.1651388      0.1751049   0.1590684  0.1597771     0.1612854  \n",
       "  Novelty  \n",
       "1 0.1698611\n",
       "2 0.1720256"
      ]
     },
     "metadata": {},
     "output_type": "display_data"
    }
   ],
   "source": [
    "dimensions_sderror(data = tab_merged, grouping = TRUE, weights = weights_merged)"
   ]
  },
  {
   "cell_type": "code",
   "execution_count": 31,
   "metadata": {
    "ExecuteTime": {
     "end_time": "2020-07-23T20:12:56.826416Z",
     "start_time": "2020-07-23T20:12:47.013Z"
    }
   },
   "outputs": [
    {
     "data": {
      "image/png": "[encoded data removed]",
      "text/plain": [
       "plot without title"
      ]
     },
     "metadata": {},
     "output_type": "display_data"
    }
   ],
   "source": [
    "## plot with benchmarks\n",
    "options(repr.plot.width=10, repr.plot.height=6)\n",
    "plot_benchmarks(tab_merged, grouping = TRUE, weights = weights_merged)"
   ]
  },
  {
   "cell_type": "code",
   "execution_count": 32,
   "metadata": {
    "ExecuteTime": {
     "end_time": "2020-07-23T20:12:57.141458Z",
     "start_time": "2020-07-23T20:12:47.025Z"
    }
   },
   "outputs": [
    {
     "data": {
      "image/png": "[encoded data removed]",
      "text/plain": [
       "plot without title"
      ]
     },
     "metadata": {},
     "output_type": "display_data"
    }
   ],
   "source": [
    "## plot with benchmarks\n",
    "options(repr.plot.width=10, repr.plot.height=6)\n",
    "plot_benchmarks(tab_merged, grouping = TRUE, weights = weights_merged, ylim = c(1,1.6) )"
   ]
  }
 ],
 "metadata": {
  "hide_input": false,
  "kernelspec": {
   "display_name": "R cran",
   "language": "R",
   "name": "ir"
  },
  "language_info": {
   "codemirror_mode": "r",
   "file_extension": ".r",
   "mimetype": "text/x-r-source",
   "name": "R",
   "pygments_lexer": "r",
   "version": "3.6.2"
  },
  "toc": {
   "base_numbering": 1,
   "nav_menu": {},
   "number_sections": true,
   "sideBar": true,
   "skip_h1_title": false,
   "title_cell": "Table of Contents",
   "title_sidebar": "Contents",
   "toc_cell": false,
   "toc_position": {},
   "toc_section_display": true,
   "toc_window_display": true
  },
  "varInspector": {
   "cols": {
    "lenName": 16,
    "lenType": 16,
    "lenVar": 40
   },
   "kernels_config": {
    "python": {
     "delete_cmd_postfix": "",
     "delete_cmd_prefix": "del ",
     "library": "var_list.py",
     "varRefreshCmd": "print(var_dic_list())"
    },
    "r": {
     "delete_cmd_postfix": ") ",
     "delete_cmd_prefix": "rm(",
     "library": "var_list.r",
     "varRefreshCmd": "cat(var_dic_list()) "
    }
   },
   "types_to_exclude": [
    "module",
    "function",
    "builtin_function_or_method",
    "instance",
    "_Feature"
   ],
   "window_display": false
  }
 },
 "nbformat": 4,
 "nbformat_minor": 2
}
