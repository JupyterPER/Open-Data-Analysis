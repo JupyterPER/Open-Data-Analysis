{
 "cells": [
  {
   "cell_type": "markdown",
   "metadata": {},
   "source": [
    "**Authors:** Jozef Hanč, Martina Hančová, Peter Štrauch, Eva Paňková <br> \n",
    "**R consultant:** Andrej Gajdoš <br> \n",
    "[Faculty of Science](https://www.upjs.sk/en/faculty-of-science/?prefferedLang=EN) *P. J. Šafárik University in Košice, Slovakia* <br> \n",
    "email: [jozef.hanc@s.upjs.sk](mailto:jozef.hanc@upjs.sk)\n",
    "\n",
    "***\n",
    "**<font size=6 color=brown> Supplementary materials - index </font>**   \n",
    "\n",
    "**Paper:** Teachers' perception of Jupyter and R Shiny\n",
    "as digital tools for open education and science\n",
    "\n",
    "***\n",
    "**<font size=5> Introduction </font>**\n",
    "   * [00_Fig1_ScientificPapers-Jupyter-Summary.ipynb](notebooks/00_Fig1_ScientificPapers-Jupyter-Summary.ipynb), Fig. 1 Annual numbers of Jupyter (*SciPy, Pandas*) \n",
    "   * [00_Fig2_IBSE_3D-Geogebra-simulation-in-Jupyter.ipynb](notebooks/00_Fig2_IBSE_3D-Geogebra-simulation-in-Jupyter.ipynb), Fig. 2 Geogebra in Jupyter notebook EBLUP-NE (*SageMath*)\n",
    "  \n",
    "   \n",
    "**<font size=5>  Research Study I: Ph.D. candidates in PER </font>**\n",
    "   * [01_PhD_candidates_Tab1_PhD-documents-Statistics.ipynb](notebooks/01_PhD_candidates_Tab1_PhD-documents-Statistics.ipynb), Tab. 1 Content analysis of Ph.D. documents in (*SciPy, Pandas*) \n",
    "   * [01_PhD_candidates_Fig3_Cluster-analysis-Example.ipynb](notebooks/01_PhD_candidates_Fig3_Cluster-analysis-Example.ipynb), Fig. 3 Cluster analysis (*R*)\n",
    "   * [01_PhD_candidates_Fig4_JupyterAdaptation-Timeline.ipynb](notebooks/01_PhD_candidates_Fig4_JupyterAdaptation-Timeline.ipynb), Fig. 4 Timeline - important dates (*SciPy, Pandas*)\n",
    "   * [01_PhD_candidates_Fig4_JupyterAdaptation-TimeSeries.ipynb](notebooks/01_PhD_candidates_Fig4_JupyterAdaptation-TimeSeries.ipynb), Fig. 4 Time Series - daily average numbers of Jupyter notebooks (*SciPy, Pandas*)\n",
    "   \n",
    "**<font size=5>  Research Study II: Pre-service teachers </font>**\n",
    "   * [02_Pre-service_teachers_Tab2_Tab3-Sample-beginning-end-dropout-statistics.ipynb](notebooks/02_Pre-service_teachers_Tab2_Tab3-Sample-beginning-end-dropout-statistics.ipynb), Tab. 2, Tab. 3 - sample statistics (*SciPy, Pandas*)\n",
    "   * [02_Pre-service_teachers_Fig5_Digital-experience-statistics.ipynb](notebooks/02_Pre-service_teachers_Fig5_Digital-experience-statistics.ipynb), Fig. 5 Digital experience (*SciPy, Pandas*)\n",
    "   * [02_Pre-service_teachers_Fig6_Perception-Jupyter-role.ipynb](notebooks/02_Pre-service_teachers_Fig6_Perception-Jupyter-role.ipynb), Fig. 6 Perception of Jupyter role (*SciPy, Pandas*)\n",
    "   * [02_Pre-service_teachers_Fig7_Tab4_Perception-Jupyter-UEQ-benchmark.ipynb](notebooks/02_Pre-service_teachers_Fig7_Tab4_Perception-Jupyter-UEQ-benchmark.ipynb), Fig.7 and Tab.4 UEQ benchmark of Jupyter technology (*R*)\n",
    "\n",
    "**<font size=5>   Research Study III: In-service teachers </font>**\n",
    "   * [03_In-service_teachers_Tab5_TAQ-demographics-statistics.ipynb](notebooks/03_In-service_teachers_Tab5_TAQ-demographics-statistics.ipynb) Tab.5 R Shiny perception (*SciPy, Pandas*)  \n",
    "   * [03_In-service_teachers_Fig10_UEQ-weighted-benchmark.ipynb](notebooks/03_In-service_teachers_Fig10_UEQ-weighted-benchmark.ipynb) Fig.10  UEQ benchmark of R Shiny (*R*) \n",
    "   * [03_In-service_teachers_Fig10_RShiny-evaluation.ipynb](notebooks/03_In-service_teachers_Fig10_RShiny-evaluation.ipynb) Fig. 10 Histogram and heatmaps (*R*)"
   ]
  },
  {
   "cell_type": "markdown",
   "metadata": {},
   "source": [
    "***\n",
    "**<font size=5>  References  </font>**\n",
    "\n",
    "This index notebook belongs to suplementary materials of the paper submitted to [International Journal of Educational Technology in Higher Education](https://educationaltechnologyjournal.springeropen.com/) and as a preprint will be available at <https://arxiv.org/>.\n",
    "\n",
    "* Hanč, J., Štrauch, P., Paňková, E., Hančová M. (2020). [Teachers' perception of Jupyter and R Shiny as digital tools for open education and science](https://arxiv.org/), https://arxiv.org/, 2020.\n",
    "\n",
    "**<font size=4>  Abstract of the paper  </font>**\n",
    "\n",
    "During the last ten years advances in open-source digital technology, used especially by data science, led to very accessible ways how to obtain, store, process, analyze or share data in almost every human activity. Data science tools bring not only transparency, accessibility, and reproducibility in open science, but also give benefits in open education as learning tools for improving effectiveness of instruction.\n",
    "\t\t\n",
    "Together with our pedagogical introduction and review of Jupyter as an interactive multimedia learning tool we present our three-years long research in the framework of a complex mixed-methods approach which examines physics teachers' perception of Jupyter technology in three groups: Ph.D. candidates in physics education research (PER) ($N = 9$), pre-service physics teachers ($N = 33$) and in-service physics teachers ($N = 40$).\n",
    "\t\t\n",
    "Despite the fact that open-source Jupyter notebooks are natural and easy as email or web, the results suggest that in-service teachers are not prepared for Jupyter technology and open analysis, but positively accept open education data presented via another open-source data science tool, R Shiny interactive web application, as an important form of immediate feedback and learning about the quality of their instruction. \n",
    "\t\t\n",
    "Simultaneously our instruction results in the frame of the Flipped Learning also indicate that young beginning PER researchers and pre-service physics teachers can master key digital skills to work with Jupyter technology appreciating its big impact on their learning, data and statistical literacy or professional development.\n",
    "\t\t\n",
    "All results support the ongoing worldwide effort to implement Jupyter in traditional education as a promising free open-source interactive learning tool to foster learning process, especially for the upcoming young generation."
   ]
  },
  {
   "cell_type": "markdown",
   "metadata": {},
   "source": [
    "* Hanč, J.,  Štrauch, P., Hančová M. (2020). _Open-Education-Science_. GitHub repository, P.J. Šafárik University in Košice, Slovakia. https://github.com/JupyterPER/Open-Education-Science"
   ]
  }
 ],
 "metadata": {
  "hide_input": false,
  "kernelspec": {
   "display_name": "Python 3.7",
   "language": "python",
   "name": "python3"
  },
  "language_info": {
   "codemirror_mode": {
    "name": "ipython",
    "version": 3
   },
   "file_extension": ".py",
   "mimetype": "text/x-python",
   "name": "python",
   "nbconvert_exporter": "python",
   "pygments_lexer": "ipython3",
   "version": "3.7.3"
  },
  "toc": {
   "base_numbering": 1,
   "nav_menu": {},
   "number_sections": true,
   "sideBar": true,
   "skip_h1_title": false,
   "title_cell": "Table of Contents",
   "title_sidebar": "Contents",
   "toc_cell": false,
   "toc_position": {},
   "toc_section_display": true,
   "toc_window_display": false
  },
  "varInspector": {
   "cols": {
    "lenName": 16,
    "lenType": 16,
    "lenVar": 40
   },
   "kernels_config": {
    "python": {
     "delete_cmd_postfix": "",
     "delete_cmd_prefix": "del ",
     "library": "var_list.py",
     "varRefreshCmd": "print(var_dic_list())"
    },
    "r": {
     "delete_cmd_postfix": ") ",
     "delete_cmd_prefix": "rm(",
     "library": "var_list.r",
     "varRefreshCmd": "cat(var_dic_list()) "
    }
   },
   "types_to_exclude": [
    "module",
    "function",
    "builtin_function_or_method",
    "instance",
    "_Feature"
   ],
   "window_display": false
  }
 },
 "nbformat": 4,
 "nbformat_minor": 2
}
